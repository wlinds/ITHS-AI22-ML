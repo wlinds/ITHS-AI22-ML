{
 "cells": [
  {
   "cell_type": "code",
   "execution_count": 277,
   "metadata": {},
   "outputs": [],
   "source": [
    "import pandas as pd\n",
    "import numpy as np\n",
    "\n",
    "ratings='../Data/ml-latest/ratings.csv'\n",
    "\n",
    "df=pd.read_csv(ratings, usecols=['userId','movieId','rating'],\n",
    "    dtype={\n",
    "        'userId':'int32',\n",
    "        'movieId':'int32',\n",
    "        'rating':'float32',\n",
    "        }\n",
    "    )"
   ]
  },
  {
   "cell_type": "code",
   "execution_count": 595,
   "metadata": {},
   "outputs": [],
   "source": [
    "import polars as pl\n",
    "\n",
    "polars=pl.read_csv(ratings, columns=['userId','movieId','rating'],\n",
    "    dtypes={\n",
    "        'userId':pl.Int32,\n",
    "        'movieId':pl.Int32,\n",
    "        'rating':pl.Float32,\n",
    "        }\n",
    "    )"
   ]
  },
  {
   "attachments": {},
   "cell_type": "markdown",
   "metadata": {},
   "source": [
    "I'm trying out Polars because it's even faster than pandas. Also polars is written in Rust, a language I'd like to improve my skills in.\n",
    "\n",
    "Polars represents data in memory with Arrow arrays while Pandas represents data in memory in Numpy arrays. Apache Arrow is an emerging standard for in-memory columnar analytics that can accelerate data load times, reduce memory usage and accelerate calculations. https://pola-rs.github.io/polars-book/user-guide/coming_from_pandas.html"
   ]
  },
  {
   "cell_type": "code",
   "execution_count": 114,
   "metadata": {},
   "outputs": [
    {
     "data": {
      "text/html": [
       "<div><style>\n",
       ".dataframe > thead > tr > th,\n",
       ".dataframe > tbody > tr > td {\n",
       "  text-align: right;\n",
       "}\n",
       "</style>\n",
       "<small>shape: (10, 2)</small><table border=\"1\" class=\"dataframe\"><thead><tr><th>rating</th><th>counts</th></tr><tr><td>f32</td><td>u32</td></tr></thead><tbody><tr><td>0.5</td><td>442388</td></tr><tr><td>1.0</td><td>886233</td></tr><tr><td>1.5</td><td>441354</td></tr><tr><td>2.0</td><td>1850627</td></tr><tr><td>2.5</td><td>1373419</td></tr><tr><td>3.0</td><td>5515668</td></tr><tr><td>3.5</td><td>3404360</td></tr><tr><td>4.0</td><td>7394710</td></tr><tr><td>4.5</td><td>2373550</td></tr><tr><td>5.0</td><td>4071135</td></tr></tbody></table></div>"
      ],
      "text/plain": [
       "shape: (10, 2)\n",
       "┌────────┬─────────┐\n",
       "│ rating ┆ counts  │\n",
       "│ ---    ┆ ---     │\n",
       "│ f32    ┆ u32     │\n",
       "╞════════╪═════════╡\n",
       "│ 0.5    ┆ 442388  │\n",
       "│ 1.0    ┆ 886233  │\n",
       "│ 1.5    ┆ 441354  │\n",
       "│ 2.0    ┆ 1850627 │\n",
       "│ ...    ┆ ...     │\n",
       "│ 3.5    ┆ 3404360 │\n",
       "│ 4.0    ┆ 7394710 │\n",
       "│ 4.5    ┆ 2373550 │\n",
       "│ 5.0    ┆ 4071135 │\n",
       "└────────┴─────────┘"
      ]
     },
     "execution_count": 114,
     "metadata": {},
     "output_type": "execute_result"
    }
   ],
   "source": [
    "polars['rating'].value_counts().sort(by='rating')"
   ]
  },
  {
   "cell_type": "code",
   "execution_count": 158,
   "metadata": {},
   "outputs": [],
   "source": [
    "# Polars\n",
    "stars, counts = [(rating) for rating in zip(polars['rating'].value_counts().sort(by='rating'))] # .items() does not work in Polars yet, but will be added"
   ]
  },
  {
   "cell_type": "code",
   "execution_count": 159,
   "metadata": {},
   "outputs": [],
   "source": [
    "# Pandas\n",
    "pandas_stars, pandas_counts = zip(*[(x, y) for x, y in df['rating'].value_counts().sort_index().items()])"
   ]
  },
  {
   "cell_type": "code",
   "execution_count": 173,
   "metadata": {},
   "outputs": [
    {
     "data": {
      "image/png": "[encoded data removed]",
      "text/plain": [
       "<Figure size 1800x500 with 2 Axes>"
      ]
     },
     "metadata": {},
     "output_type": "display_data"
    }
   ],
   "source": [
    "import matplotlib.pyplot as plt\n",
    "import seaborn as sns\n",
    "sns.set(style=\"dark\")\n",
    "\n",
    "# Average stars for all movies\n",
    "\n",
    "fig, (ax1, ax2) = plt.subplots(1, 2, figsize=(18, 5)) # Create a figure with two subplots\n",
    "\n",
    "# Plot for Polars\n",
    "ax1.bar(x=stars[0], height=counts[0], width=0.45)\n",
    "ax1.set_xticks(stars[0])\n",
    "ax1.set_yticks(counts[0][1::])\n",
    "ax1.set_title('Polars')\n",
    "\n",
    "# Plot for Pandas\n",
    "ax2.bar(x=pandas_stars, height=pandas_counts, width=0.45)\n",
    "ax2.set_xticks(pandas_stars)\n",
    "ax2.set_yticks(pandas_counts[1::])\n",
    "ax2.set_title('Pandas')\n",
    "\n",
    "plt.show()"
   ]
  },
  {
   "attachments": {},
   "cell_type": "markdown",
   "metadata": {},
   "source": [
    "Just making sure everything works similar.\n",
    "\n",
    "Moving on. Some questions I want to answer:\n",
    "\n",
    "1. What movies have the highest relative ratings for each star category?\n",
    "\n",
    "2. What movies have the largest deviation from the population mean rating?\n",
    "\n",
    "Genres\n",
    "\n",
    "1. What's the genre distribution?\n",
    "\n",
    "2. Which are the top genres?"
   ]
  },
  {
   "cell_type": "code",
   "execution_count": 179,
   "metadata": {},
   "outputs": [
    {
     "data": {
      "text/plain": [
       "(1.0,\n",
       " [0.015939931635151297,\n",
       "  0.031932361259380995,\n",
       "  0.015902674997740823,\n",
       "  0.06668098561029039,\n",
       "  0.04948643490876303,\n",
       "  0.1987381457955272,\n",
       "  0.1226644159910388,\n",
       "  0.2664429683033212,\n",
       "  0.08552271927044441,\n",
       "  0.14668936222834184])"
      ]
     },
     "execution_count": 179,
     "metadata": {},
     "output_type": "execute_result"
    }
   ],
   "source": [
    "# To get relative rating, we have to quantize the data in some way.\n",
    "# I think maybe creating a function which converts ratings to a relative p-scale with the total sum of 1.\n",
    "\n",
    "# First we calculate the sum of ratings\n",
    "total_sum = sum(counts[0])\n",
    "\n",
    "# Then we make use of list comprehenstion to get probabilities\n",
    "probabilities = [x/total_sum for x in counts[0]]\n",
    "\n",
    "sum(probabilities), probabilities"
   ]
  },
  {
   "cell_type": "code",
   "execution_count": 211,
   "metadata": {},
   "outputs": [
    {
     "data": {
      "image/png": "[encoded data removed]",
      "text/plain": [
       "<Figure size 400x250 with 1 Axes>"
      ]
     },
     "metadata": {},
     "output_type": "display_data"
    }
   ],
   "source": [
    "# Average stars for all movies in a 0-1 scale\n",
    "\n",
    "fig, ax = plt.subplots(figsize=(4, 2.5))\n",
    "\n",
    "# Plot for Polars\n",
    "ax.bar(x=stars[0], height=probabilities, width=0.45)\n",
    "ax.set_xticks(stars[0])\n",
    "ax.set_title(\"Empirical relative frequencies\")\n",
    "plt.text(.1,-.1,\"i wus up late night ballin'\")\n",
    "\n",
    "plt.show()"
   ]
  },
  {
   "attachments": {},
   "cell_type": "markdown",
   "metadata": {},
   "source": [
    "I mean we could probably apply PMF somehow. But I've got some other ideas."
   ]
  },
  {
   "cell_type": "code",
   "execution_count": 558,
   "metadata": {},
   "outputs": [],
   "source": [
    "def get_ratings(df, mId, pandas=False):\n",
    "    #TODO: Allow multiple search queries at once (or just... yknow, loop this function)\n",
    "\n",
    "    # Pandas\n",
    "    if pandas:\n",
    "        # Select rows matching with movieId\n",
    "        selected_rows = df.loc[df['movieId'] == mId]['rating']\n",
    "\n",
    "        # Get all  ratings for seletion\n",
    "        pandas_stars, pandas_counts = zip(*[(x, y) for x, y in df['rating'].value_counts().sort_index().items()])\n",
    "\n",
    "        dist = [x/sum(pandas_counts) for x in pandas_counts]\n",
    "\n",
    "    # Polars\n",
    "    else: \n",
    "        selected_rows = df.filter(pl.col('movieId') == mId)\n",
    "\n",
    "        # Get all ratings for selection #TODO: Fix the tuple nesting issue in list comprehension \n",
    "        stars, counts = [(rating) for rating in zip(selected_rows['rating'].value_counts().sort(by='rating'))] # very impotant to sort by rating, to get stars in correct order 0.5 to 5.0\n",
    "        # TODO: If above issue with nested tuple is fixed, below row can be moved to row before return outside this if loop\n",
    "        dist = [x/sum(counts[0]) for x in counts[0]]\n",
    "\n",
    "    return dist"
   ]
  },
  {
   "cell_type": "code",
   "execution_count": 311,
   "metadata": {},
   "outputs": [
    {
     "name": "stdout",
     "output_type": "stream",
     "text": [
      "12.2 ms ± 87.2 µs per loop (mean ± std. dev. of 7 runs, 100 loops each)\n"
     ]
    }
   ],
   "source": [
    "%%timeit # Polars time\n",
    "get_ratings(df=polars, mId=1337)"
   ]
  },
  {
   "cell_type": "code",
   "execution_count": 312,
   "metadata": {},
   "outputs": [
    {
     "name": "stdout",
     "output_type": "stream",
     "text": [
      "230 ms ± 3.31 ms per loop (mean ± std. dev. of 7 runs, 1 loop each)\n"
     ]
    }
   ],
   "source": [
    "%%timeit # Pandas time\n",
    "get_ratings(df=df, mId=1337, pandas=True)"
   ]
  },
  {
   "cell_type": "code",
   "execution_count": 562,
   "metadata": {},
   "outputs": [
    {
     "data": {
      "text/plain": [
       "(polars.internals.series.series.Series, (53889,))"
      ]
     },
     "execution_count": 562,
     "metadata": {},
     "output_type": "execute_result"
    }
   ],
   "source": [
    "# get all movie id:s\n",
    "unique_names = polars['movieId'].unique()\n",
    "type(unique_names), unique_names.shape"
   ]
  },
  {
   "attachments": {},
   "cell_type": "markdown",
   "metadata": {},
   "source": [
    "## Creating tables - Pandas vs. Polars"
   ]
  },
  {
   "cell_type": "code",
   "execution_count": 502,
   "metadata": {},
   "outputs": [
    {
     "name": "stdout",
     "output_type": "stream",
     "text": [
      "shape: (5, 11)\n",
      "┌─────────┬─────────┬────────────┬───────────┬─────┬───────────┬───────────┬───────────┬───────────┐\n",
      "│ movieId ┆ 0.5     ┆ 1.0 Stars  ┆ 1.5 Stars ┆ ... ┆ 3.5 Stars ┆ 4.0 Stars ┆ 4.5 Stars ┆ 5.0 Stars │\n",
      "│ ---     ┆ Stars   ┆ ---        ┆ ---       ┆     ┆ ---       ┆ ---       ┆ ---       ┆ ---       │\n",
      "│ i32     ┆ ---     ┆ f32        ┆ f32       ┆     ┆ f32       ┆ f32       ┆ f32       ┆ f32       │\n",
      "│         ┆ f32     ┆            ┆           ┆     ┆           ┆           ┆           ┆           │\n",
      "╞═════════╪═════════╪════════════╪═══════════╪═════╪═══════════╪═══════════╪═══════════╪═══════════╡\n",
      "│ 1       ┆ 0.0     ┆ 0.0        ┆ 0.0       ┆ ... ┆ 0.0       ┆ 0.0       ┆ 0.0       ┆ 0.0       │\n",
      "│ 2       ┆ 0.0     ┆ 0.0        ┆ 0.0       ┆ ... ┆ 0.0       ┆ 0.0       ┆ 0.0       ┆ 0.0       │\n",
      "│ 3       ┆ 0.0     ┆ 0.0        ┆ 0.0       ┆ ... ┆ 0.0       ┆ 0.0       ┆ 0.0       ┆ 0.0       │\n",
      "│ 4       ┆ 0.0     ┆ 0.0        ┆ 0.0       ┆ ... ┆ 0.0       ┆ 0.0       ┆ 0.0       ┆ 0.0       │\n",
      "│ 5       ┆ 0.0     ┆ 0.0        ┆ 0.0       ┆ ... ┆ 0.0       ┆ 0.0       ┆ 0.0       ┆ 0.0       │\n",
      "└─────────┴─────────┴────────────┴───────────┴─────┴───────────┴───────────┴───────────┴───────────┘\n"
     ]
    }
   ],
   "source": [
    "df = pl.DataFrame(unique_names) # Convert polars series to polars df\n",
    "\n",
    "# create new columns with empty floats as initial values (this really isn't necessary, but helps for visualization)\n",
    "new_columns = np.array(np.arange(0.5, 5.5, 0.5), dtype=str)\n",
    "\n",
    "for idx, col_name in enumerate(new_columns):\n",
    "    df = df.with_columns([\n",
    "        pl.col('movieId'),\n",
    "        pl.Series(col_name + ' Stars', [0.0], dtype=pl.Float32),\n",
    "    ])\n",
    "\n",
    "print(df.head())"
   ]
  },
  {
   "cell_type": "code",
   "execution_count": 561,
   "metadata": {},
   "outputs": [
    {
     "data": {
      "text/html": [
       "<div>\n",
       "<style scoped>\n",
       "    .dataframe tbody tr th:only-of-type {\n",
       "        vertical-align: middle;\n",
       "    }\n",
       "\n",
       "    .dataframe tbody tr th {\n",
       "        vertical-align: top;\n",
       "    }\n",
       "\n",
       "    .dataframe thead th {\n",
       "        text-align: right;\n",
       "    }\n",
       "</style>\n",
       "<table border=\"1\" class=\"dataframe\">\n",
       "  <thead>\n",
       "    <tr style=\"text-align: right;\">\n",
       "      <th></th>\n",
       "      <th>0</th>\n",
       "      <th>0.5 Stars</th>\n",
       "      <th>1.0 Stars</th>\n",
       "      <th>1.5 Stars</th>\n",
       "      <th>2.0 Stars</th>\n",
       "      <th>2.5 Stars</th>\n",
       "      <th>3.0 Stars</th>\n",
       "      <th>3.5 Stars</th>\n",
       "      <th>4.0 Stars</th>\n",
       "      <th>4.5 Stars</th>\n",
       "      <th>5.0 Stars</th>\n",
       "    </tr>\n",
       "  </thead>\n",
       "  <tbody>\n",
       "    <tr>\n",
       "      <th>0</th>\n",
       "      <td>1</td>\n",
       "      <td>0.0</td>\n",
       "      <td>0.0</td>\n",
       "      <td>0.0</td>\n",
       "      <td>0.0</td>\n",
       "      <td>0.0</td>\n",
       "      <td>0.0</td>\n",
       "      <td>0.0</td>\n",
       "      <td>0.0</td>\n",
       "      <td>0.0</td>\n",
       "      <td>0.0</td>\n",
       "    </tr>\n",
       "    <tr>\n",
       "      <th>1</th>\n",
       "      <td>2</td>\n",
       "      <td>0.0</td>\n",
       "      <td>0.0</td>\n",
       "      <td>0.0</td>\n",
       "      <td>0.0</td>\n",
       "      <td>0.0</td>\n",
       "      <td>0.0</td>\n",
       "      <td>0.0</td>\n",
       "      <td>0.0</td>\n",
       "      <td>0.0</td>\n",
       "      <td>0.0</td>\n",
       "    </tr>\n",
       "    <tr>\n",
       "      <th>2</th>\n",
       "      <td>3</td>\n",
       "      <td>0.0</td>\n",
       "      <td>0.0</td>\n",
       "      <td>0.0</td>\n",
       "      <td>0.0</td>\n",
       "      <td>0.0</td>\n",
       "      <td>0.0</td>\n",
       "      <td>0.0</td>\n",
       "      <td>0.0</td>\n",
       "      <td>0.0</td>\n",
       "      <td>0.0</td>\n",
       "    </tr>\n",
       "  </tbody>\n",
       "</table>\n",
       "</div>"
      ],
      "text/plain": [
       "   0  0.5 Stars  1.0 Stars  1.5 Stars  2.0 Stars  2.5 Stars  3.0 Stars  \\\n",
       "0  1        0.0        0.0        0.0        0.0        0.0        0.0   \n",
       "1  2        0.0        0.0        0.0        0.0        0.0        0.0   \n",
       "2  3        0.0        0.0        0.0        0.0        0.0        0.0   \n",
       "\n",
       "   3.5 Stars  4.0 Stars  4.5 Stars  5.0 Stars  \n",
       "0        0.0        0.0        0.0        0.0  \n",
       "1        0.0        0.0        0.0        0.0  \n",
       "2        0.0        0.0        0.0        0.0  "
      ]
     },
     "execution_count": 561,
     "metadata": {},
     "output_type": "execute_result"
    }
   ],
   "source": [
    "# in pandas we can do\n",
    "movie_names = [1,2,3]\n",
    "\n",
    "pandas = pd.DataFrame(movie_names)\n",
    "new_columns = np.array(np.arange(0.5, 5.5, 0.5), dtype=str)\n",
    "\n",
    "for idx, col_name in enumerate(new_columns):\n",
    "    pandas[col_name + ' Stars'] = 0.0\n",
    "\n",
    "pandas.head()"
   ]
  },
  {
   "attachments": {},
   "cell_type": "markdown",
   "metadata": {},
   "source": [
    "## Removing movies with few ratings (polars)"
   ]
  },
  {
   "cell_type": "code",
   "execution_count": 568,
   "metadata": {},
   "outputs": [],
   "source": [
    "#testing on a smaller sample\n",
    "pol_sample = unique_names.sample(frac=0.1)"
   ]
  },
  {
   "cell_type": "code",
   "execution_count": 571,
   "metadata": {},
   "outputs": [],
   "source": [
    "relative_ratings = []\n",
    "\n",
    "for i in pol_sample:\n",
    "    relative_rating.append(get_ratings(df=polars, mId=i))"
   ]
  },
  {
   "cell_type": "code",
   "execution_count": null,
   "metadata": {},
   "outputs": [],
   "source": []
  },
  {
   "attachments": {},
   "cell_type": "markdown",
   "metadata": {},
   "source": [
    "Ok, nice. Now let's fill the table! Let's see. The function get_ratings() ouputs a list, so for every item in the list, we want to add that value to corresponding Star-column we just created."
   ]
  }
 ],
 "metadata": {
  "kernelspec": {
   "display_name": "ITHS-AI22-ML-sqO3erDD",
   "language": "python",
   "name": "python3"
  },
  "language_info": {
   "codemirror_mode": {
    "name": "ipython",
    "version": 3
   },
   "file_extension": ".py",
   "mimetype": "text/x-python",
   "name": "python",
   "nbconvert_exporter": "python",
   "pygments_lexer": "ipython3",
   "version": "3.9.16"
  },
  "orig_nbformat": 4
 },
 "nbformat": 4,
 "nbformat_minor": 2
}
