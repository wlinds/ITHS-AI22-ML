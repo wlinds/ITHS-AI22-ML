{
 "cells": [
  {
   "attachments": {},
   "cell_type": "markdown",
   "metadata": {},
   "source": [
    "### **Batch Processing**\n",
    "Batch processing refers to the process of training a model on a batch of data, rather than individual samples.\n",
    "In batch processing, the model is trained on a fixed-sized subset of training data at a time.\n",
    "\n",
    "The goal of batch processing is to provide a compromise between the computational efficiency of training on large datasets and the ability to update the model with new information from the data.\n",
    "\n",
    "During each iteration of the training process, the model’s parameters are updated based on the error it made on the batch of data. Repeat the process. Common in deep learning.\n",
    "\n",
    "### **Real-Time Processing**\n",
    "Real-time processing is important in many applications, such as robotics, autonomous vehicles, streaming data analysis and financial trading, where quick and accurate predictions are critical to the system’s operation. Real-time processing is often combined with online learning, where the model can be updated with new data as it arrives, so that it can continuously adapt and improve over time.\n",
    "\n",
    "### **CAP Theorem**\n",
    "The CAP Theorem is not a formal proof, but rather a theoretical observation. It states that it is impossible for a system to simultaneously provide all three guarantees:\n",
    "\n",
    "1. Consistency: All nodes in the system see the same data at the same time.\n",
    "\n",
    "2. Availability: Every request to the system receives a response, without guarantee that it contains the most recent version of the data.\n",
    "\n",
    "3. Partition tolerance: The system continues to function even when network partition occur, meaning that communication between nodes is lost or delayed."
   ]
  },
  {
   "cell_type": "code",
   "execution_count": null,
   "metadata": {},
   "outputs": [],
   "source": []
  }
 ],
 "metadata": {
  "kernelspec": {
   "display_name": "ITHS-AI22-ML-sqO3erDD",
   "language": "python",
   "name": "python3"
  },
  "language_info": {
   "name": "python",
   "version": "3.9.13"
  },
  "orig_nbformat": 4,
  "vscode": {
   "interpreter": {
    "hash": "44bf4f2bb6af3eac852fbf2397258e4d896c3822e6fae76a2c7f7646848325d6"
   }
  }
 },
 "nbformat": 4,
 "nbformat_minor": 2
}
