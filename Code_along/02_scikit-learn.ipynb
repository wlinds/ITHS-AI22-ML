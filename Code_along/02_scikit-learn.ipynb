{
 "cells": [
  {
   "attachments": {},
   "cell_type": "markdown",
   "metadata": {},
   "source": [
    "**Convention in ML to use X and y** - ska motsvara teorin\n",
    "Specifika bokstäver för skalärer, a_1, a_2 etc"
   ]
  },
  {
   "cell_type": "code",
   "execution_count": 2,
   "metadata": {},
   "outputs": [
    {
     "data": {
      "text/html": [
       "<div>\n",
       "<style scoped>\n",
       "    .dataframe tbody tr th:only-of-type {\n",
       "        vertical-align: middle;\n",
       "    }\n",
       "\n",
       "    .dataframe tbody tr th {\n",
       "        vertical-align: top;\n",
       "    }\n",
       "\n",
       "    .dataframe thead th {\n",
       "        text-align: right;\n",
       "    }\n",
       "</style>\n",
       "<table border=\"1\" class=\"dataframe\">\n",
       "  <thead>\n",
       "    <tr style=\"text-align: right;\">\n",
       "      <th></th>\n",
       "      <th>TV</th>\n",
       "      <th>Radio</th>\n",
       "      <th>Newspaper</th>\n",
       "      <th>Sales</th>\n",
       "    </tr>\n",
       "  </thead>\n",
       "  <tbody>\n",
       "    <tr>\n",
       "      <th>1</th>\n",
       "      <td>230.1</td>\n",
       "      <td>37.8</td>\n",
       "      <td>69.2</td>\n",
       "      <td>22.1</td>\n",
       "    </tr>\n",
       "    <tr>\n",
       "      <th>2</th>\n",
       "      <td>44.5</td>\n",
       "      <td>39.3</td>\n",
       "      <td>45.1</td>\n",
       "      <td>10.4</td>\n",
       "    </tr>\n",
       "    <tr>\n",
       "      <th>3</th>\n",
       "      <td>17.2</td>\n",
       "      <td>45.9</td>\n",
       "      <td>69.3</td>\n",
       "      <td>9.3</td>\n",
       "    </tr>\n",
       "    <tr>\n",
       "      <th>4</th>\n",
       "      <td>151.5</td>\n",
       "      <td>41.3</td>\n",
       "      <td>58.5</td>\n",
       "      <td>18.5</td>\n",
       "    </tr>\n",
       "    <tr>\n",
       "      <th>5</th>\n",
       "      <td>180.8</td>\n",
       "      <td>10.8</td>\n",
       "      <td>58.4</td>\n",
       "      <td>12.9</td>\n",
       "    </tr>\n",
       "    <tr>\n",
       "      <th>...</th>\n",
       "      <td>...</td>\n",
       "      <td>...</td>\n",
       "      <td>...</td>\n",
       "      <td>...</td>\n",
       "    </tr>\n",
       "    <tr>\n",
       "      <th>196</th>\n",
       "      <td>38.2</td>\n",
       "      <td>3.7</td>\n",
       "      <td>13.8</td>\n",
       "      <td>7.6</td>\n",
       "    </tr>\n",
       "    <tr>\n",
       "      <th>197</th>\n",
       "      <td>94.2</td>\n",
       "      <td>4.9</td>\n",
       "      <td>8.1</td>\n",
       "      <td>9.7</td>\n",
       "    </tr>\n",
       "    <tr>\n",
       "      <th>198</th>\n",
       "      <td>177.0</td>\n",
       "      <td>9.3</td>\n",
       "      <td>6.4</td>\n",
       "      <td>12.8</td>\n",
       "    </tr>\n",
       "    <tr>\n",
       "      <th>199</th>\n",
       "      <td>283.6</td>\n",
       "      <td>42.0</td>\n",
       "      <td>66.2</td>\n",
       "      <td>25.5</td>\n",
       "    </tr>\n",
       "    <tr>\n",
       "      <th>200</th>\n",
       "      <td>232.1</td>\n",
       "      <td>8.6</td>\n",
       "      <td>8.7</td>\n",
       "      <td>13.4</td>\n",
       "    </tr>\n",
       "  </tbody>\n",
       "</table>\n",
       "<p>200 rows × 4 columns</p>\n",
       "</div>"
      ],
      "text/plain": [
       "        TV  Radio  Newspaper  Sales\n",
       "1    230.1   37.8       69.2   22.1\n",
       "2     44.5   39.3       45.1   10.4\n",
       "3     17.2   45.9       69.3    9.3\n",
       "4    151.5   41.3       58.5   18.5\n",
       "5    180.8   10.8       58.4   12.9\n",
       "..     ...    ...        ...    ...\n",
       "196   38.2    3.7       13.8    7.6\n",
       "197   94.2    4.9        8.1    9.7\n",
       "198  177.0    9.3        6.4   12.8\n",
       "199  283.6   42.0       66.2   25.5\n",
       "200  232.1    8.6        8.7   13.4\n",
       "\n",
       "[200 rows x 4 columns]"
      ]
     },
     "execution_count": 2,
     "metadata": {},
     "output_type": "execute_result"
    }
   ],
   "source": [
    "import pandas as pd\n",
    "import seaborn as sns\n",
    "import matplotlib.pyplot as plt\n",
    "import numpy as np\n",
    "\n",
    "df = pd.read_csv(\"../Data/ISLR/Advertising.csv\", index_col=0)\n",
    "\n",
    "df\n"
   ]
  },
  {
   "cell_type": "code",
   "execution_count": 7,
   "metadata": {},
   "outputs": [
    {
     "data": {
      "text/plain": [
       "(200, 3)"
      ]
     },
     "execution_count": 7,
     "metadata": {},
     "output_type": "execute_result"
    }
   ],
   "source": [
    "number_of_samples, number_of_features = df.shape[0], df.shape[1]-1 # -1 för sales ej feature, utan label\n",
    "\n",
    "number_of_samples, number_of_features # 200 samples, 3 features"
   ]
  },
  {
   "cell_type": "code",
   "execution_count": 11,
   "metadata": {},
   "outputs": [
    {
     "data": {
      "text/html": [
       "<div>\n",
       "<style scoped>\n",
       "    .dataframe tbody tr th:only-of-type {\n",
       "        vertical-align: middle;\n",
       "    }\n",
       "\n",
       "    .dataframe tbody tr th {\n",
       "        vertical-align: top;\n",
       "    }\n",
       "\n",
       "    .dataframe thead th {\n",
       "        text-align: right;\n",
       "    }\n",
       "</style>\n",
       "<table border=\"1\" class=\"dataframe\">\n",
       "  <thead>\n",
       "    <tr style=\"text-align: right;\">\n",
       "      <th></th>\n",
       "      <th>TV</th>\n",
       "      <th>Radio</th>\n",
       "      <th>Newspaper</th>\n",
       "    </tr>\n",
       "  </thead>\n",
       "  <tbody>\n",
       "    <tr>\n",
       "      <th>1</th>\n",
       "      <td>230.1</td>\n",
       "      <td>37.8</td>\n",
       "      <td>69.2</td>\n",
       "    </tr>\n",
       "    <tr>\n",
       "      <th>2</th>\n",
       "      <td>44.5</td>\n",
       "      <td>39.3</td>\n",
       "      <td>45.1</td>\n",
       "    </tr>\n",
       "    <tr>\n",
       "      <th>3</th>\n",
       "      <td>17.2</td>\n",
       "      <td>45.9</td>\n",
       "      <td>69.3</td>\n",
       "    </tr>\n",
       "    <tr>\n",
       "      <th>4</th>\n",
       "      <td>151.5</td>\n",
       "      <td>41.3</td>\n",
       "      <td>58.5</td>\n",
       "    </tr>\n",
       "    <tr>\n",
       "      <th>5</th>\n",
       "      <td>180.8</td>\n",
       "      <td>10.8</td>\n",
       "      <td>58.4</td>\n",
       "    </tr>\n",
       "  </tbody>\n",
       "</table>\n",
       "</div>"
      ],
      "text/plain": [
       "      TV  Radio  Newspaper\n",
       "1  230.1   37.8       69.2\n",
       "2   44.5   39.3       45.1\n",
       "3   17.2   45.9       69.3\n",
       "4  151.5   41.3       58.5\n",
       "5  180.8   10.8       58.4"
      ]
     },
     "execution_count": 11,
     "metadata": {},
     "output_type": "execute_result"
    }
   ],
   "source": [
    "# plocka ut x och y\n",
    "X, y = df.drop(\"Sales\", axis=1),df[\"Sales\"] # axis går att skriva 0 / 1 för row / cols\n",
    "\n",
    "X.head()"
   ]
  },
  {
   "cell_type": "code",
   "execution_count": 12,
   "metadata": {},
   "outputs": [
    {
     "data": {
      "text/plain": [
       "1     22.1\n",
       "2     10.4\n",
       "3      9.3\n",
       "4     18.5\n",
       "5     12.9\n",
       "6      7.2\n",
       "7     11.8\n",
       "8     13.2\n",
       "9      4.8\n",
       "10    10.6\n",
       "Name: Sales, dtype: float64"
      ]
     },
     "execution_count": 12,
     "metadata": {},
     "output_type": "execute_result"
    }
   ],
   "source": [
    "y.head(10)"
   ]
  },
  {
   "attachments": {},
   "cell_type": "markdown",
   "metadata": {},
   "source": [
    "### Sklearn - typical steps\n",
    "\n",
    "<h5> Recept som funkar för många algoritmer</h5>\n",
    "\n",
    "1. Train|test split, sometimes train|val|test split\n",
    "    - *sometimes* vill vi justera hyperparametrar för val\n",
    "\n",
    "2. Scaling sometimes required\n",
    "    - min-max scaling\n",
    "    - standardisation\n",
    "    - ...\n",
    "    - scale the trainng data\n",
    "    - scale test data to training data --> avoid data leakage\n",
    "\n",
    "3. Fit algorithm to training data - model training\n",
    "    - weights & bias\n",
    "\n",
    "4. Transform training data, transform test data --> predictions\n",
    "\n",
    "5. Evaluate"
   ]
  },
  {
   "cell_type": "code",
   "execution_count": 14,
   "metadata": {},
   "outputs": [
    {
     "data": {
      "text/plain": [
       "((140, 3), (60, 3), (140,), (60,))"
      ]
     },
     "execution_count": 14,
     "metadata": {},
     "output_type": "execute_result"
    }
   ],
   "source": [
    "from sklearn.model_selection import train_test_split\n",
    "# kan hantera ndarray, listor \n",
    "\n",
    "X_train, X_test, y_train, y_test = train_test_split(X, y, test_size=0.3, random_state=42)\n",
    "X_train.shape, X_test.shape, y_train.shape, y_test.shape"
   ]
  },
  {
   "attachments": {},
   "cell_type": "markdown",
   "metadata": {},
   "source": [
    "## Feature scaling\n",
    "\n",
    "https://en.wikipedia.org/wiki/Feature_scaling\n",
    "\n",
    "Normalzation (min-max scaling)\n",
    "\n",
    "<h2>\n",
    "\n",
    " $X' = \\frac{X-X_{\\min}}{X_{max}-X_{min}}$\n",
    "\n",
    "</h2>\n",
    "\n",
    "````\n",
    "# för varje feature\n",
    "# tar data, subtraherar minsta värdet, \n",
    "# dividerar största med minsta värde,\n",
    "`````\n",
    "\n",
    "matris - skalär, *elementvis*\n",
    "\n",
    "### Feature standardization\n",
    "\n",
    "<h2>\n",
    "\n",
    "$X' = \\frac{X-\\mu}{\\sigma}$\n",
    "\n",
    "</h2>\n",
    "\n",
    "z-transform med tabell från statistik\n"
   ]
  },
  {
   "cell_type": "code",
   "execution_count": 26,
   "metadata": {},
   "outputs": [
    {
     "name": "stdout",
     "output_type": "stream",
     "text": [
      "scaled_X_train.min()=0.0\n",
      "scaled_X_train.max()=1.0\n",
      "scaled_X_test.min()=0.005964214711729622\n",
      "scaled_X_test.max()=1.1302186878727631\n"
     ]
    }
   ],
   "source": [
    "## Feature scaling\n",
    "from sklearn.preprocessing import MinMaxScaler\n",
    "\n",
    "# instantiate scaler instance/object\n",
    "scaler = MinMaxScaler()\n",
    "scaler.fit(X_train) # important - use for training data \n",
    "\n",
    "scaled_X_train = scaler.transform(X_train)\n",
    "scaled_X_test = scaler.transform(X_test)\n",
    "\n",
    "print(f'{scaled_X_train.min()=}')\n",
    "print(f'{scaled_X_train.max()=}')\n",
    "print(f'{scaled_X_test.min()=}')\n",
    "print(f'{scaled_X_test.max()=}')\n",
    "\n",
    "# note scaled_X_test.min != 0, scaled_X_test.max != 1\n",
    "# 0 <= scaled_X_train <= 1\n",
    "# 0.005964214711729622 <= scaled_X_test <= 1.1302186878727631"
   ]
  },
  {
   "cell_type": "code",
   "execution_count": 28,
   "metadata": {},
   "outputs": [
    {
     "data": {
      "text/plain": [
       "((140, 3), (60, 3))"
      ]
     },
     "execution_count": 28,
     "metadata": {},
     "output_type": "execute_result"
    }
   ],
   "source": [
    "scaled_X_train.shape, scaled_X_test.shape"
   ]
  },
  {
   "attachments": {},
   "cell_type": "markdown",
   "metadata": {},
   "source": [
    "## Linear regression\n",
    "\n",
    "https://scikit-learn.org/stable/modules/generated/sklearn.linear_model.LinearRegression.html\n",
    "\n",
    "Ordinary least squares"
   ]
  },
  {
   "cell_type": "code",
   "execution_count": 35,
   "metadata": {},
   "outputs": [
    {
     "name": "stdout",
     "output_type": "stream",
     "text": [
      "Prameter beta_1, beta_2, beta_3 [13.02832938  9.88465985  0.69237469]\n",
      "Intercept beta_0 2.741855324852814\n"
     ]
    }
   ],
   "source": [
    "from sklearn.linear_model import LinearRegression # OLS, SVD\n",
    "\n",
    "model_OLS = LinearRegression()\n",
    "# för linjär regression spelar scaling ingen roll med scaled, men med gradient descent spelar roll (för att hitta rätt steg i gradienterna)\n",
    "model_OLS.fit(scaled_X_train, y_train)\n",
    "\n",
    "print(f'Prameter {model_OLS.coef_}') # beta_1, beta_2, beta_3 \n",
    "print(f'Intercept {model_OLS.intercept_}') # beta_0\n",
    "\n",
    "# OLS analytical solution"
   ]
  },
  {
   "attachments": {},
   "cell_type": "markdown",
   "metadata": {},
   "source": [
    "## Stochastic gradient descent (SGD)\n",
    "\n",
    "https://scikit-learn.org/stable/modules/generated/sklearn.linear_model.SGDRegressor.html\n"
   ]
  },
  {
   "cell_type": "code",
   "execution_count": 37,
   "metadata": {},
   "outputs": [
    {
     "name": "stdout",
     "output_type": "stream",
     "text": [
      "Prameter [11.95384258  9.00066576  1.33001393]\n",
      "Intercept [3.58765849]\n"
     ]
    }
   ],
   "source": [
    "from sklearn.linear_model import SGDRegressor\n",
    "\n",
    "model_SGD = SGDRegressor(loss=\"squared_error\", max_iter=1000)\n",
    "\n",
    "model_SGD.fit(scaled_X_train,y_train) # needs scaled X_train\n",
    "\n",
    "print(f'Prameter {model_SGD.coef_}') # beta_1, beta_2, beta_3 \n",
    "print(f'Intercept {model_SGD.intercept_}') # beta_0"
   ]
  },
  {
   "attachments": {},
   "cell_type": "markdown",
   "metadata": {},
   "source": [
    "## Manual prediction"
   ]
  },
  {
   "cell_type": "code",
   "execution_count": 47,
   "metadata": {},
   "outputs": [
    {
     "name": "stdout",
     "output_type": "stream",
     "text": [
      "[[0.54988164 0.63709677 0.52286282]] 16.9\n",
      "TV, Radio, Paper, Sales\n"
     ]
    }
   ],
   "source": [
    "test_sample_features = scaled_X_test[0].reshape(1,-1)\n",
    "\n",
    "test_sample_label = y_test.values[0] # label/target\n",
    "print(test_sample_features, test_sample_label)\n",
    "print('TV, Radio, Paper, Sales')"
   ]
  },
  {
   "cell_type": "code",
   "execution_count": 48,
   "metadata": {},
   "outputs": [
    {
     "data": {
      "text/plain": [
       "(1, 3)"
      ]
     },
     "execution_count": 48,
     "metadata": {},
     "output_type": "execute_result"
    }
   ],
   "source": [
    "test_sample_features.shape"
   ]
  },
  {
   "cell_type": "code",
   "execution_count": 50,
   "metadata": {},
   "outputs": [
    {
     "data": {
      "text/plain": [
       "16.565396297434837"
      ]
     },
     "execution_count": 50,
     "metadata": {},
     "output_type": "execute_result"
    }
   ],
   "source": [
    "model_OLS.predict(test_sample_features)[0]"
   ]
  },
  {
   "cell_type": "code",
   "execution_count": 51,
   "metadata": {},
   "outputs": [
    {
     "data": {
      "text/plain": [
       "16.590566971608798"
      ]
     },
     "execution_count": 51,
     "metadata": {},
     "output_type": "execute_result"
    }
   ],
   "source": [
    "model_SGD.predict(test_sample_features)[0]"
   ]
  },
  {
   "cell_type": "code",
   "execution_count": 52,
   "metadata": {},
   "outputs": [
    {
     "data": {
      "text/plain": [
       "array([163.3,  31.6,  52.9])"
      ]
     },
     "execution_count": 52,
     "metadata": {},
     "output_type": "execute_result"
    }
   ],
   "source": [
    "X_test.iloc[0].to_numpy()"
   ]
  },
  {
   "attachments": {},
   "cell_type": "markdown",
   "metadata": {},
   "source": [
    "## Evaluation"
   ]
  },
  {
   "cell_type": "code",
   "execution_count": 59,
   "metadata": {},
   "outputs": [
    {
     "name": "stdout",
     "output_type": "stream",
     "text": [
      "[16.5653963  21.18822792 21.55107058 10.88923816 22.20231988]\n",
      "[16.59056697 20.809815   21.102645   11.32201419 21.3952419 ]\n",
      "[16.9 22.4 21.4  7.3 24.7]\n"
     ]
    }
   ],
   "source": [
    "from sklearn.metrics import mean_absolute_error, mean_squared_error\n",
    "\n",
    "# 1. predict on test data\n",
    "\n",
    "y_pred_OLS = model_OLS.predict(scaled_X_test)\n",
    "y_pred_SGD = model_SGD.predict(scaled_X_test)\n",
    "\n",
    " # plocka 5 första för jämförelse\n",
    "print(y_pred_OLS[:5])\n",
    "print(y_pred_SGD[:5])\n",
    "print(y_test[:5].values)"
   ]
  },
  {
   "cell_type": "code",
   "execution_count": 63,
   "metadata": {},
   "outputs": [
    {
     "name": "stdout",
     "output_type": "stream",
     "text": [
      "mean_OLS=1.511669222454909 \t mse_OLS=3.7967972367152223 \t rmse_OLS=1.9485372043446392\n",
      "mean_SGD=1.5219557644193458 \t mse_SGD=4.08801013916862 \t rmse_SGD=2.021882820335694\n"
     ]
    }
   ],
   "source": [
    "mean_OLS = mean_absolute_error(y_test, y_pred_OLS)\n",
    "mean_SGD = mean_absolute_error(y_test, y_pred_SGD)\n",
    "\n",
    "mse_OLS = mean_squared_error(y_test, y_pred_OLS)\n",
    "mse_SGD = mean_squared_error(y_test, y_pred_SGD)\n",
    "\n",
    "rmse_OLS = np.sqrt(mse_OLS)\n",
    "rmse_SGD = np.sqrt(mse_SGD)\n",
    "\n",
    "print(f'{mean_OLS=} \\t {mse_OLS=} \\t {rmse_OLS=}')\n",
    "print(f'{mean_SGD=} \\t {mse_SGD=} \\t {rmse_SGD=}')"
   ]
  },
  {
   "attachments": {},
   "cell_type": "markdown",
   "metadata": {},
   "source": [
    "OLS lägre än SGD, så i detta fall välj OLS"
   ]
  }
 ],
 "metadata": {
  "kernelspec": {
   "display_name": "ITHS-AI22-ML-sqO3erDD",
   "language": "python",
   "name": "python3"
  },
  "language_info": {
   "codemirror_mode": {
    "name": "ipython",
    "version": 3
   },
   "file_extension": ".py",
   "mimetype": "text/x-python",
   "name": "python",
   "nbconvert_exporter": "python",
   "pygments_lexer": "ipython3",
   "version": "3.9.13"
  },
  "orig_nbformat": 4,
  "vscode": {
   "interpreter": {
    "hash": "44bf4f2bb6af3eac852fbf2397258e4d896c3822e6fae76a2c7f7646848325d6"
   }
  }
 },
 "nbformat": 4,
 "nbformat_minor": 2
}
