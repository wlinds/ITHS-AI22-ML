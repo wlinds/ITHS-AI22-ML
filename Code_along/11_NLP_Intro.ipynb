{
 "cells": [
  {
   "attachments": {},
   "cell_type": "markdown",
   "metadata": {},
   "source": [
    "# Natural Language Processing (NLP) Intro\n",
    "##### Enabling computers to understand and manipulate human language. 🤖💬\n",
    "\n",
    "<div style=\"display: flex; flex-direction: row;\">\n",
    "    <div style=\"flex: 2; padding:10px; margin:10px;\">\n",
    "\n",
    "- Text feature extraction -> converting raw text data into numerical representations that can be processed by ML algorithms.\n",
    "\n",
    "A common approach to text feature extraction is to represent each piece of text as a vector, with **each dimension of the vector corresponding to a specific feature of the text**, such as the frequency of certain words or the presence of certain phrases.\n",
    "\n",
    "**Tokenization** involves breaking down a text into individual units known as tokens, such as words, phrases, or other meaningful units.\n",
    "\n",
    "## TF, IDF & TF-IDF\n",
    "\n",
    "Term frequency (TF) measures the relative frequency of each term/token in a given document.\n",
    "\n",
    "- By using TF, we can create a vocabulary of all the terms in our corpus and represent each document as a vector of term frequencies.\n",
    "\n",
    "Simply using term frequency can result in common words (such as \"the\" and \"and\") being weighted too heavily, so we can use a more sophisticated approach called <a href=\"https://en.wikipedia.org/wiki/Tf–idf\">Term-Frequency Inverse Document Frequency (TF-IDF)</a> instead.\n",
    "\n",
    "IDF (Inverse Document Frequency) takes into account how frequently a term appears in the entire corpus of documents and TF-IDF score for each term is the product of its TF and IDF values.\n",
    "\n",
    "By using TF-IDF, we can better represent the importance of each term in a given document and compare the similarity of different documents.\n",
    "\n",
    "</div>\n",
    "    <div style=\"flex: 1.5; padding:0px; margin:20px;\">\n",
    "\n",
    "### **Who is this BERT?**\n",
    "In 2017, an NLP research paper called <a href=\"https://arxiv.org/abs/1706.03762\">Attention is all you need</a> was published, in which the model **Bidirectional Encoder Representations from Transformers** (BERT) was introduced to achieve great results in a variety of NLP tasks.\n",
    "\n",
    "- In 2019, Google introduced a new version of BERT called ALBERT, which achieved state-of-the-art results on a variety of natural language understanding tasks while using significantly fewer parameters than BERT. <em>Article: <a href=\"https://ai.googleblog.com/2019/12/albert-lite-bert-for-self-supervised.html\">GoogleBlog.</a></em>\n",
    "\n",
    "- In 2021, BERT was used in a study to identify and classify fake news on social media, achieving high accuracy (98.90% !!) and demonstrating the model's potential applications in the field of media and journalism. <em>Article: <a href=\"https://link.springer.com/article/10.1007/s11042-020-10183-2\">FakeBERT</a></em>\n",
    "\n",
    "**BERT vs GPT**\n",
    "\n",
    "BERT is a pre-trained language model that is designed to learn contextual representations of words by jointly conditioning on both left and right context in all layers. It is trained using a masked language modeling objective, where some input tokens are randomly masked and the model is trained to predict the original tokens.\n",
    "\n",
    "GPT is a generative language model that is trained to predict the next token in a sequence given the previous tokens. It uses a left-to-right training objective, where the model is conditioned only on the left context when predicting the next token.\n",
    "\n",
    "</div></div>"
   ]
  },
  {
   "attachments": {},
   "cell_type": "markdown",
   "metadata": {},
   "source": [
    "### TF-IDF Example\n",
    "\n",
    "Suppose we have a corpus of three documents about pets:\n",
    "\n",
    "- Document 1: \"My dog is grumpy\"\n",
    "- Document 2: \"My cat is lazy\"\n",
    "- Document 3: \"The dog is lazy\"\n",
    "\n",
    "We want to use TF-IDF to compare the similarity of these documents. First, we create a vocabulary of all the unique terms in the corpus."
   ]
  },
  {
   "cell_type": "code",
   "execution_count": 81,
   "metadata": {},
   "outputs": [
    {
     "data": {
      "text/plain": [
       "['my', 'is', 'the', 'lazy', 'grumpy', 'dog', 'cat']"
      ]
     },
     "execution_count": 81,
     "metadata": {},
     "output_type": "execute_result"
    }
   ],
   "source": [
    "import numpy as np\n",
    "import pandas as pd\n",
    "\n",
    "corpus = [\"My dog is grumpy\", \"My cat is lazy\", \"The dog is lazy\"]\n",
    "\n",
    "#corpus2 = [\"I LOVE this book about love\", \"No this book was okay\"]\n",
    "\n",
    "# Tokenize\n",
    "documents = [doc.lower().split() for doc in corpus]\n",
    "\n",
    "# Flatten\n",
    "terms = list(set([term for doc in documents for term in doc]))\n",
    "\n",
    "terms"
   ]
  },
  {
   "cell_type": "code",
   "execution_count": 82,
   "metadata": {},
   "outputs": [
    {
     "data": {
      "text/html": [
       "<div>\n",
       "<style scoped>\n",
       "    .dataframe tbody tr th:only-of-type {\n",
       "        vertical-align: middle;\n",
       "    }\n",
       "\n",
       "    .dataframe tbody tr th {\n",
       "        vertical-align: top;\n",
       "    }\n",
       "\n",
       "    .dataframe thead th {\n",
       "        text-align: right;\n",
       "    }\n",
       "</style>\n",
       "<table border=\"1\" class=\"dataframe\">\n",
       "  <thead>\n",
       "    <tr style=\"text-align: right;\">\n",
       "      <th></th>\n",
       "      <th>my</th>\n",
       "      <th>is</th>\n",
       "      <th>the</th>\n",
       "      <th>lazy</th>\n",
       "      <th>grumpy</th>\n",
       "      <th>dog</th>\n",
       "      <th>cat</th>\n",
       "    </tr>\n",
       "  </thead>\n",
       "  <tbody>\n",
       "    <tr>\n",
       "      <th>0</th>\n",
       "      <td>1</td>\n",
       "      <td>1</td>\n",
       "      <td>0</td>\n",
       "      <td>0</td>\n",
       "      <td>1</td>\n",
       "      <td>1</td>\n",
       "      <td>0</td>\n",
       "    </tr>\n",
       "    <tr>\n",
       "      <th>1</th>\n",
       "      <td>1</td>\n",
       "      <td>1</td>\n",
       "      <td>0</td>\n",
       "      <td>1</td>\n",
       "      <td>0</td>\n",
       "      <td>0</td>\n",
       "      <td>1</td>\n",
       "    </tr>\n",
       "    <tr>\n",
       "      <th>2</th>\n",
       "      <td>0</td>\n",
       "      <td>1</td>\n",
       "      <td>1</td>\n",
       "      <td>1</td>\n",
       "      <td>0</td>\n",
       "      <td>1</td>\n",
       "      <td>0</td>\n",
       "    </tr>\n",
       "  </tbody>\n",
       "</table>\n",
       "</div>"
      ],
      "text/plain": [
       "   my  is  the  lazy  grumpy  dog  cat\n",
       "0   1   1    0     0       1    1    0\n",
       "1   1   1    0     1       0    0    1\n",
       "2   0   1    1     1       0    1    0"
      ]
     },
     "execution_count": 82,
     "metadata": {},
     "output_type": "execute_result"
    }
   ],
   "source": [
    "# Term frequency (TF) for each term in each document\n",
    "tf = {}\n",
    "for i, doc in enumerate(documents):\n",
    "    tf[i] = {}\n",
    "    for term in terms:\n",
    "        tf[i][term] = doc.count(term)\n",
    "\n",
    "tf_df = pd.DataFrame(tf).T\n",
    "tf_df"
   ]
  },
  {
   "cell_type": "code",
   "execution_count": 83,
   "metadata": {},
   "outputs": [
    {
     "data": {
      "text/html": [
       "<div>\n",
       "<style scoped>\n",
       "    .dataframe tbody tr th:only-of-type {\n",
       "        vertical-align: middle;\n",
       "    }\n",
       "\n",
       "    .dataframe tbody tr th {\n",
       "        vertical-align: top;\n",
       "    }\n",
       "\n",
       "    .dataframe thead th {\n",
       "        text-align: right;\n",
       "    }\n",
       "</style>\n",
       "<table border=\"1\" class=\"dataframe\">\n",
       "  <thead>\n",
       "    <tr style=\"text-align: right;\">\n",
       "      <th></th>\n",
       "      <th>my</th>\n",
       "      <th>is</th>\n",
       "      <th>the</th>\n",
       "      <th>lazy</th>\n",
       "      <th>grumpy</th>\n",
       "      <th>dog</th>\n",
       "      <th>cat</th>\n",
       "    </tr>\n",
       "  </thead>\n",
       "  <tbody>\n",
       "    <tr>\n",
       "      <th>idf</th>\n",
       "      <td>0.405465</td>\n",
       "      <td>0.0</td>\n",
       "      <td>1.098612</td>\n",
       "      <td>0.405465</td>\n",
       "      <td>1.098612</td>\n",
       "      <td>0.405465</td>\n",
       "      <td>1.098612</td>\n",
       "    </tr>\n",
       "  </tbody>\n",
       "</table>\n",
       "</div>"
      ],
      "text/plain": [
       "           my   is       the      lazy    grumpy       dog       cat\n",
       "idf  0.405465  0.0  1.098612  0.405465  1.098612  0.405465  1.098612"
      ]
     },
     "execution_count": 83,
     "metadata": {},
     "output_type": "execute_result"
    }
   ],
   "source": [
    "# Inverse document frequency (IDF) for each term\n",
    "# Logarithm of the ratio of the total n of documents to the n of documents containing the term\n",
    "\n",
    "idf = {}\n",
    "num_docs = len(documents)\n",
    "for term in terms:\n",
    "    num_docs_with_term = sum([1 for doc in documents if term in doc])\n",
    "    idf[term] = np.log(num_docs / num_docs_with_term)\n",
    "\n",
    "idf_df = pd.DataFrame(idf, index=['idf'])\n",
    "idf_df"
   ]
  },
  {
   "cell_type": "code",
   "execution_count": 84,
   "metadata": {},
   "outputs": [
    {
     "data": {
      "text/html": [
       "<div>\n",
       "<style scoped>\n",
       "    .dataframe tbody tr th:only-of-type {\n",
       "        vertical-align: middle;\n",
       "    }\n",
       "\n",
       "    .dataframe tbody tr th {\n",
       "        vertical-align: top;\n",
       "    }\n",
       "\n",
       "    .dataframe thead th {\n",
       "        text-align: right;\n",
       "    }\n",
       "</style>\n",
       "<table border=\"1\" class=\"dataframe\">\n",
       "  <thead>\n",
       "    <tr style=\"text-align: right;\">\n",
       "      <th></th>\n",
       "      <th>my</th>\n",
       "      <th>is</th>\n",
       "      <th>the</th>\n",
       "      <th>lazy</th>\n",
       "      <th>grumpy</th>\n",
       "      <th>dog</th>\n",
       "      <th>cat</th>\n",
       "    </tr>\n",
       "  </thead>\n",
       "  <tbody>\n",
       "    <tr>\n",
       "      <th>0</th>\n",
       "      <td>0.405465</td>\n",
       "      <td>0.0</td>\n",
       "      <td>0.000000</td>\n",
       "      <td>0.000000</td>\n",
       "      <td>1.098612</td>\n",
       "      <td>0.405465</td>\n",
       "      <td>0.000000</td>\n",
       "    </tr>\n",
       "    <tr>\n",
       "      <th>1</th>\n",
       "      <td>0.405465</td>\n",
       "      <td>0.0</td>\n",
       "      <td>0.000000</td>\n",
       "      <td>0.405465</td>\n",
       "      <td>0.000000</td>\n",
       "      <td>0.000000</td>\n",
       "      <td>1.098612</td>\n",
       "    </tr>\n",
       "    <tr>\n",
       "      <th>2</th>\n",
       "      <td>0.000000</td>\n",
       "      <td>0.0</td>\n",
       "      <td>1.098612</td>\n",
       "      <td>0.405465</td>\n",
       "      <td>0.000000</td>\n",
       "      <td>0.405465</td>\n",
       "      <td>0.000000</td>\n",
       "    </tr>\n",
       "  </tbody>\n",
       "</table>\n",
       "</div>"
      ],
      "text/plain": [
       "         my   is       the      lazy    grumpy       dog       cat\n",
       "0  0.405465  0.0  0.000000  0.000000  1.098612  0.405465  0.000000\n",
       "1  0.405465  0.0  0.000000  0.405465  0.000000  0.000000  1.098612\n",
       "2  0.000000  0.0  1.098612  0.405465  0.000000  0.405465  0.000000"
      ]
     },
     "execution_count": 84,
     "metadata": {},
     "output_type": "execute_result"
    }
   ],
   "source": [
    "# Calculate TF-IDF score for each term in each document (product of its TF and IDF scores)\n",
    "tf_idf = {}\n",
    "for i, doc in enumerate(documents):\n",
    "    tf_idf[i] = {}\n",
    "    for term in terms:\n",
    "        tf_idf[i][term] = tf[i][term] * idf[term]\n",
    "\n",
    "# Convert TF-IDF dictionary to DataFrame\n",
    "tf_idf_df = pd.DataFrame(tf_idf).T\n",
    "tf_idf_df"
   ]
  },
  {
   "attachments": {},
   "cell_type": "markdown",
   "metadata": {},
   "source": [
    "If we have a text classification task where we want to classify documents into different categories, we could represent each document as a vector of TF-IDF scores for each term in the vocabulary. These vectors can then be used as input features to train a machine learning model such as a Naive Bayes classifier or a Support Vector Machine."
   ]
  },
  {
   "attachments": {},
   "cell_type": "markdown",
   "metadata": {},
   "source": [
    "## Bag of words"
   ]
  },
  {
   "cell_type": "code",
   "execution_count": 46,
   "metadata": {},
   "outputs": [
    {
     "data": {
      "text/plain": [
       "[['i', 'love', 'this', 'book', 'about', 'love'],\n",
       " ['no', 'this', 'book', 'was', 'okay']]"
      ]
     },
     "execution_count": 46,
     "metadata": {},
     "output_type": "execute_result"
    }
   ],
   "source": [
    "review1 = \"I LOVE this book about love\"\n",
    "review2 = \"No this book was okay\"\n",
    "\n",
    "terms = [text.lower().split() for text in [review1, review2]]\n",
    "terms"
   ]
  },
  {
   "cell_type": "code",
   "execution_count": 47,
   "metadata": {},
   "outputs": [],
   "source": [
    "# Flatten\n",
    "terms = [word for text in terms for word in text]"
   ]
  },
  {
   "cell_type": "code",
   "execution_count": 48,
   "metadata": {},
   "outputs": [
    {
     "data": {
      "text/plain": [
       "{'about', 'book', 'i', 'love', 'no', 'okay', 'this', 'was'}"
      ]
     },
     "execution_count": 48,
     "metadata": {},
     "output_type": "execute_result"
    }
   ],
   "source": [
    "terms = set(terms)\n",
    "terms"
   ]
  },
  {
   "cell_type": "code",
   "execution_count": 51,
   "metadata": {},
   "outputs": [
    {
     "data": {
      "text/plain": [
       "{'about': 0,\n",
       " 'okay': 1,\n",
       " 'i': 2,\n",
       " 'book': 3,\n",
       " 'no': 4,\n",
       " 'love': 5,\n",
       " 'this': 6,\n",
       " 'was': 7}"
      ]
     },
     "execution_count": 51,
     "metadata": {},
     "output_type": "execute_result"
    }
   ],
   "source": [
    "vocabulary = {word: idx for idx, word in enumerate(terms)}\n",
    "vocabulary"
   ]
  },
  {
   "cell_type": "code",
   "execution_count": 52,
   "metadata": {},
   "outputs": [],
   "source": [
    "# Vocabulary = corpus\n",
    "# Doc = input review\n",
    "\n",
    "def term_frequenct_vectorizer(doc, vocabulary):\n",
    "    term_frequency = np.zeros(len(vocabulary))\n",
    "\n",
    "    for word in doc.lower().split():\n",
    "        index = vocabulary[word]\n",
    "        term_frequency[index] += 1\n",
    "\n",
    "    return term_frequency"
   ]
  },
  {
   "cell_type": "code",
   "execution_count": 55,
   "metadata": {},
   "outputs": [
    {
     "data": {
      "text/plain": [
       "(array([1., 0., 1., 1., 0., 2., 1., 0.]),\n",
       " array([0., 1., 0., 1., 1., 0., 1., 1.]))"
      ]
     },
     "execution_count": 55,
     "metadata": {},
     "output_type": "execute_result"
    }
   ],
   "source": [
    "review1_tf = term_frequenct_vectorizer(review1, vocabulary)\n",
    "review2_tf = term_frequenct_vectorizer(review2, vocabulary)\n",
    "\n",
    "review1_tf, review2_tf"
   ]
  },
  {
   "cell_type": "code",
   "execution_count": 57,
   "metadata": {},
   "outputs": [
    {
     "data": {
      "text/plain": [
       "('I LOVE this book about love',\n",
       " 'No this book was okay',\n",
       " {'about': 0,\n",
       "  'okay': 1,\n",
       "  'i': 2,\n",
       "  'book': 3,\n",
       "  'no': 4,\n",
       "  'love': 5,\n",
       "  'this': 6,\n",
       "  'was': 7})"
      ]
     },
     "execution_count": 57,
     "metadata": {},
     "output_type": "execute_result"
    }
   ],
   "source": [
    "review1, review2, vocabulary"
   ]
  },
  {
   "cell_type": "code",
   "execution_count": 61,
   "metadata": {},
   "outputs": [
    {
     "data": {
      "text/html": [
       "<div>\n",
       "<style scoped>\n",
       "    .dataframe tbody tr th:only-of-type {\n",
       "        vertical-align: middle;\n",
       "    }\n",
       "\n",
       "    .dataframe tbody tr th {\n",
       "        vertical-align: top;\n",
       "    }\n",
       "\n",
       "    .dataframe thead th {\n",
       "        text-align: right;\n",
       "    }\n",
       "</style>\n",
       "<table border=\"1\" class=\"dataframe\">\n",
       "  <thead>\n",
       "    <tr style=\"text-align: right;\">\n",
       "      <th></th>\n",
       "      <th>about</th>\n",
       "      <th>okay</th>\n",
       "      <th>i</th>\n",
       "      <th>book</th>\n",
       "      <th>no</th>\n",
       "      <th>love</th>\n",
       "      <th>this</th>\n",
       "      <th>was</th>\n",
       "    </tr>\n",
       "  </thead>\n",
       "  <tbody>\n",
       "    <tr>\n",
       "      <th>0</th>\n",
       "      <td>1.0</td>\n",
       "      <td>0.0</td>\n",
       "      <td>1.0</td>\n",
       "      <td>1.0</td>\n",
       "      <td>0.0</td>\n",
       "      <td>2.0</td>\n",
       "      <td>1.0</td>\n",
       "      <td>0.0</td>\n",
       "    </tr>\n",
       "    <tr>\n",
       "      <th>1</th>\n",
       "      <td>0.0</td>\n",
       "      <td>1.0</td>\n",
       "      <td>0.0</td>\n",
       "      <td>1.0</td>\n",
       "      <td>1.0</td>\n",
       "      <td>0.0</td>\n",
       "      <td>1.0</td>\n",
       "      <td>1.0</td>\n",
       "    </tr>\n",
       "  </tbody>\n",
       "</table>\n",
       "</div>"
      ],
      "text/plain": [
       "   about  okay    i  book   no  love  this  was\n",
       "0    1.0   0.0  1.0   1.0  0.0   2.0   1.0  0.0\n",
       "1    0.0   1.0  0.0   1.0  1.0   0.0   1.0  1.0"
      ]
     },
     "execution_count": 61,
     "metadata": {},
     "output_type": "execute_result"
    }
   ],
   "source": [
    "bag_of_words = pd.DataFrame([review1_tf, review2_tf], columns=vocabulary.keys())\n",
    "bag_of_words"
   ]
  },
  {
   "attachments": {},
   "cell_type": "markdown",
   "metadata": {},
   "source": [
    "## Bag of words with sklearn"
   ]
  },
  {
   "cell_type": "code",
   "execution_count": 64,
   "metadata": {},
   "outputs": [],
   "source": [
    "from sklearn.feature_extraction.text import CountVectorizer\n",
    "count_vectorizer = CountVectorizer()\n",
    "\n",
    "bag_of_words_sparce_matrice = count_vectorizer.fit_transform([review1, review2])"
   ]
  },
  {
   "cell_type": "code",
   "execution_count": 65,
   "metadata": {},
   "outputs": [
    {
     "data": {
      "text/plain": [
       "matrix([[1, 1, 2, 0, 0, 1, 0],\n",
       "        [0, 1, 0, 1, 1, 1, 1]])"
      ]
     },
     "execution_count": 65,
     "metadata": {},
     "output_type": "execute_result"
    }
   ],
   "source": [
    "bag_of_words_sparce_matrice.todense()"
   ]
  },
  {
   "cell_type": "code",
   "execution_count": 66,
   "metadata": {},
   "outputs": [
    {
     "data": {
      "text/plain": [
       "array(['about', 'book', 'love', 'no', 'okay', 'this', 'was'], dtype=object)"
      ]
     },
     "execution_count": 66,
     "metadata": {},
     "output_type": "execute_result"
    }
   ],
   "source": [
    "count_vectorizer.get_feature_names_out()"
   ]
  },
  {
   "cell_type": "code",
   "execution_count": 69,
   "metadata": {},
   "outputs": [
    {
     "data": {
      "text/html": [
       "<div>\n",
       "<style scoped>\n",
       "    .dataframe tbody tr th:only-of-type {\n",
       "        vertical-align: middle;\n",
       "    }\n",
       "\n",
       "    .dataframe tbody tr th {\n",
       "        vertical-align: top;\n",
       "    }\n",
       "\n",
       "    .dataframe thead th {\n",
       "        text-align: right;\n",
       "    }\n",
       "</style>\n",
       "<table border=\"1\" class=\"dataframe\">\n",
       "  <thead>\n",
       "    <tr style=\"text-align: right;\">\n",
       "      <th></th>\n",
       "      <th>about</th>\n",
       "      <th>book</th>\n",
       "      <th>love</th>\n",
       "      <th>no</th>\n",
       "      <th>okay</th>\n",
       "      <th>this</th>\n",
       "      <th>was</th>\n",
       "    </tr>\n",
       "  </thead>\n",
       "  <tbody>\n",
       "    <tr>\n",
       "      <th>0</th>\n",
       "      <td>1</td>\n",
       "      <td>1</td>\n",
       "      <td>2</td>\n",
       "      <td>0</td>\n",
       "      <td>0</td>\n",
       "      <td>1</td>\n",
       "      <td>0</td>\n",
       "    </tr>\n",
       "    <tr>\n",
       "      <th>1</th>\n",
       "      <td>0</td>\n",
       "      <td>1</td>\n",
       "      <td>0</td>\n",
       "      <td>1</td>\n",
       "      <td>1</td>\n",
       "      <td>1</td>\n",
       "      <td>1</td>\n",
       "    </tr>\n",
       "  </tbody>\n",
       "</table>\n",
       "</div>"
      ],
      "text/plain": [
       "   about  book  love  no  okay  this  was\n",
       "0      1     1     2   0     0     1    0\n",
       "1      0     1     0   1     1     1    1"
      ]
     },
     "execution_count": 69,
     "metadata": {},
     "output_type": "execute_result"
    }
   ],
   "source": [
    "sk_bag_of_words = pd.DataFrame(bag_of_words_sparce_matrice.todense(), columns=count_vectorizer.get_feature_names_out())\n",
    "sk_bag_of_words"
   ]
  },
  {
   "attachments": {},
   "cell_type": "markdown",
   "metadata": {},
   "source": [
    "## TF-IDF with sklearn"
   ]
  },
  {
   "cell_type": "code",
   "execution_count": 80,
   "metadata": {},
   "outputs": [
    {
     "data": {
      "text/plain": [
       "matrix([[0.4078241 , 0.29017021, 0.81564821, 0.        , 0.        ,\n",
       "         0.29017021, 0.        ],\n",
       "        [0.        , 0.35520009, 0.        , 0.49922133, 0.49922133,\n",
       "         0.35520009, 0.49922133]])"
      ]
     },
     "execution_count": 80,
     "metadata": {},
     "output_type": "execute_result"
    }
   ],
   "source": [
    "from sklearn.feature_extraction.text import TfidfVectorizer\n",
    "\n",
    "tfidf_vectorizer = TfidfVectorizer()\n",
    "tfidf_vectorizer.fit_transform([review1, review2]).todense()"
   ]
  },
  {
   "attachments": {},
   "cell_type": "markdown",
   "metadata": {},
   "source": [
    "TF-IDF score is based on a term's frequency in a document and rarity in the corpus. A higher score means the term appears frequently in the document and is relatively rare in the corpus, making it more important in distinguishing the document from others."
   ]
  }
 ],
 "metadata": {
  "kernelspec": {
   "display_name": "ITHS-AI22-ML-sqO3erDD",
   "language": "python",
   "name": "python3"
  },
  "language_info": {
   "codemirror_mode": {
    "name": "ipython",
    "version": 3
   },
   "file_extension": ".py",
   "mimetype": "text/x-python",
   "name": "python",
   "nbconvert_exporter": "python",
   "pygments_lexer": "ipython3",
   "version": "3.9.16"
  },
  "orig_nbformat": 4
 },
 "nbformat": 4,
 "nbformat_minor": 2
}
