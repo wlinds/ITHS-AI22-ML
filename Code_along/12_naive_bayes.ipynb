{
 "cells": [
  {
   "attachments": {},
   "cell_type": "markdown",
   "metadata": {},
   "source": [
    "# Naive Bayes\n",
    "\n",
    "Bayes' theorem:\n",
    "\n",
    "$P(A|B) = \\frac{P(B|A)P(A)}{P(B)}$\n",
    "\n",
    "where A and B are events, and P(B) is the probability of event B.\n",
    "\n",
    "$P(B|A)P(A) = P(A \\cap B) = P(A|B)P(B)$\n",
    "\n",
    "In the context of Naive Bayes, we have a set of n features x = (x_1, ..., x_n) and a set of classes C_k, where k is an index over the possible classes.\n",
    "\n",
    "We can use Bayes' theorem to calculate the probability of a particular class C_k given the features x:\n",
    "\n",
    "$P(C_k | x) = \\frac{P(C_k)P(x|C_k)}{P(x)}$\n",
    "\n",
    "Here, P(C_k) is the prior probability of class C_k, P(x|C_k) is the likelihood of observing the features x given class C_k, and P(x) is the marginal probability of observing the features x.\n",
    "\n",
    "The Naive Bayes algorithm makes the strong assumption that the features are conditionally independent given the class.\n",
    "\n",
    "$P(C_k|x) = P(C_k|n_1, \\ldots, x_n) \\propto P(C_k, x_1, \\ldots, x_n)$\n",
    "\n",
    "($\\propto$ denotes proportionality)\n",
    "\n",
    "The normalizing constant is proportional to:\n",
    "\n",
    "\n",
    "$P(C_k|x) \\propto P(C_k) P(x_1|C_k) \\ldots P(x_n|C_k)$\n",
    "\n",
    "WHAT\n",
    "\n",
    "meaning that:\n",
    "\n",
    "$P(C_k) = \\prod_{i=1}^n P(x_i | C_k)$\n",
    "\n",
    "Combined with MAP descision rule:"
   ]
  },
  {
   "attachments": {},
   "cell_type": "markdown",
   "metadata": {},
   "source": [
    "\\begin{equation}\n",
    "y = \\arg\\max_{k \\in 1,...K} P(C_k) \\prod_{i=1}^n P(x_i | C_k)\n",
    "\\end{equation}\n",
    "\n",
    "\n",
    "But let's get practical."
   ]
  },
  {
   "cell_type": "code",
   "execution_count": null,
   "metadata": {},
   "outputs": [],
   "source": []
  },
  {
   "attachments": {},
   "cell_type": "markdown",
   "metadata": {},
   "source": [
    "## Ham or Spam"
   ]
  },
  {
   "attachments": {},
   "cell_type": "markdown",
   "metadata": {},
   "source": [
    "20 HAM : $C_1$ $P(C_1)$ = 20/30 = 2/3 \\\n",
    "10 SPAM: $C_2$ $P(C_2)$ = 10/30 = 1/3\n",
    "\n",
    "<div style=\"display: flex; flex direction: row\">\n",
    "<div style=\"flex: 2; padding:10px; margin:10px;\">\n",
    "\n",
    "$C_1$ Hams\n",
    "bitcoin | hello | love\n",
    " ------ | ----- | -----\n",
    "1|20|4\n",
    "1/25|20/25|4/25\n",
    "\n",
    "$P(X_i|C_1)$\n",
    "</div>\n",
    "<div style=\"flex: 2; padding:10px; margin:10px;\">\n",
    "\n",
    "$C_2$ Spams\n",
    "bitcoin | hello | love\n",
    " ------ | ----- | -----\n",
    "8|2|10\n",
    "8/20|22/20|10/20\n",
    "\n",
    "$P(X_i|C_2)$\n",
    "</div></div>\n",
    "Nytt mail: <i>\"love bitcoin\"</i>\n",
    "\n",
    "P(ham) P(love|ham) P(bitcoin|ham) =\\\n",
    "2/3 * 4/25 * 1/25 = 8 / 1875 = 0.004\n",
    "\n",
    "P(spam) P(love|spam) P(bitcoin|spam) =\\\n",
    "1/3 * 1/2 * 4/5 = 4/30 = 2/15 = 0.133\n",
    "\n",
    "Classified as spam\n"
   ]
  },
  {
   "cell_type": "code",
   "execution_count": 20,
   "metadata": {},
   "outputs": [
    {
     "data": {
      "text/html": [
       "<div>\n",
       "<style scoped>\n",
       "    .dataframe tbody tr th:only-of-type {\n",
       "        vertical-align: middle;\n",
       "    }\n",
       "\n",
       "    .dataframe tbody tr th {\n",
       "        vertical-align: top;\n",
       "    }\n",
       "\n",
       "    .dataframe thead th {\n",
       "        text-align: right;\n",
       "    }\n",
       "</style>\n",
       "<table border=\"1\" class=\"dataframe\">\n",
       "  <thead>\n",
       "    <tr style=\"text-align: right;\">\n",
       "      <th></th>\n",
       "      <th>v1</th>\n",
       "      <th>v2</th>\n",
       "      <th>Unnamed: 2</th>\n",
       "      <th>Unnamed: 3</th>\n",
       "      <th>Unnamed: 4</th>\n",
       "    </tr>\n",
       "  </thead>\n",
       "  <tbody>\n",
       "    <tr>\n",
       "      <th>2661</th>\n",
       "      <td>ham</td>\n",
       "      <td>Do you know when dad will be back?</td>\n",
       "      <td>NaN</td>\n",
       "      <td>NaN</td>\n",
       "      <td>NaN</td>\n",
       "    </tr>\n",
       "    <tr>\n",
       "      <th>2789</th>\n",
       "      <td>ham</td>\n",
       "      <td>When you are big..| God will bring success.</td>\n",
       "      <td>NaN</td>\n",
       "      <td>NaN</td>\n",
       "      <td>NaN</td>\n",
       "    </tr>\n",
       "    <tr>\n",
       "      <th>2444</th>\n",
       "      <td>ham</td>\n",
       "      <td>Yes but i dont care! I need you bad, princess!</td>\n",
       "      <td>NaN</td>\n",
       "      <td>NaN</td>\n",
       "      <td>NaN</td>\n",
       "    </tr>\n",
       "    <tr>\n",
       "      <th>4828</th>\n",
       "      <td>ham</td>\n",
       "      <td>How long before you get reply, just defer admi...</td>\n",
       "      <td>NaN</td>\n",
       "      <td>NaN</td>\n",
       "      <td>NaN</td>\n",
       "    </tr>\n",
       "    <tr>\n",
       "      <th>3438</th>\n",
       "      <td>ham</td>\n",
       "      <td>awesome, how do I deal with the gate? Charles ...</td>\n",
       "      <td>NaN</td>\n",
       "      <td>NaN</td>\n",
       "      <td>NaN</td>\n",
       "    </tr>\n",
       "    <tr>\n",
       "      <th>...</th>\n",
       "      <td>...</td>\n",
       "      <td>...</td>\n",
       "      <td>...</td>\n",
       "      <td>...</td>\n",
       "      <td>...</td>\n",
       "    </tr>\n",
       "    <tr>\n",
       "      <th>736</th>\n",
       "      <td>ham</td>\n",
       "      <td>Thanks for looking out for me. I really apprec...</td>\n",
       "      <td>NaN</td>\n",
       "      <td>NaN</td>\n",
       "      <td>NaN</td>\n",
       "    </tr>\n",
       "    <tr>\n",
       "      <th>625</th>\n",
       "      <td>ham</td>\n",
       "      <td>Haha good to hear, I'm officially paid and on ...</td>\n",
       "      <td>NaN</td>\n",
       "      <td>NaN</td>\n",
       "      <td>NaN</td>\n",
       "    </tr>\n",
       "    <tr>\n",
       "      <th>5384</th>\n",
       "      <td>ham</td>\n",
       "      <td>How are you babes. Hope your doing ok. I had a...</td>\n",
       "      <td>NaN</td>\n",
       "      <td>NaN</td>\n",
       "      <td>NaN</td>\n",
       "    </tr>\n",
       "    <tr>\n",
       "      <th>5219</th>\n",
       "      <td>ham</td>\n",
       "      <td>Pls she needs to dat slowly or she will vomit ...</td>\n",
       "      <td>NaN</td>\n",
       "      <td>NaN</td>\n",
       "      <td>NaN</td>\n",
       "    </tr>\n",
       "    <tr>\n",
       "      <th>2677</th>\n",
       "      <td>ham</td>\n",
       "      <td>Where in abj are you serving. Are you staying ...</td>\n",
       "      <td>NaN</td>\n",
       "      <td>NaN</td>\n",
       "      <td>NaN</td>\n",
       "    </tr>\n",
       "  </tbody>\n",
       "</table>\n",
       "<p>1114 rows × 5 columns</p>\n",
       "</div>"
      ],
      "text/plain": [
       "       v1                                                 v2 Unnamed: 2  \\\n",
       "2661  ham                 Do you know when dad will be back?        NaN   \n",
       "2789  ham        When you are big..| God will bring success.        NaN   \n",
       "2444  ham     Yes but i dont care! I need you bad, princess!        NaN   \n",
       "4828  ham  How long before you get reply, just defer admi...        NaN   \n",
       "3438  ham  awesome, how do I deal with the gate? Charles ...        NaN   \n",
       "...   ...                                                ...        ...   \n",
       "736   ham  Thanks for looking out for me. I really apprec...        NaN   \n",
       "625   ham  Haha good to hear, I'm officially paid and on ...        NaN   \n",
       "5384  ham  How are you babes. Hope your doing ok. I had a...        NaN   \n",
       "5219  ham  Pls she needs to dat slowly or she will vomit ...        NaN   \n",
       "2677  ham  Where in abj are you serving. Are you staying ...        NaN   \n",
       "\n",
       "     Unnamed: 3 Unnamed: 4  \n",
       "2661        NaN        NaN  \n",
       "2789        NaN        NaN  \n",
       "2444        NaN        NaN  \n",
       "4828        NaN        NaN  \n",
       "3438        NaN        NaN  \n",
       "...         ...        ...  \n",
       "736         NaN        NaN  \n",
       "625         NaN        NaN  \n",
       "5384        NaN        NaN  \n",
       "5219        NaN        NaN  \n",
       "2677        NaN        NaN  \n",
       "\n",
       "[1114 rows x 5 columns]"
      ]
     },
     "execution_count": 20,
     "metadata": {},
     "output_type": "execute_result"
    }
   ],
   "source": [
    "import pandas as pd \n",
    "import seaborn as sns \n",
    "import matplotlib.pyplot as plt \n",
    "import numpy as np \n",
    "\n",
    "df = pd.read_csv(\"../Data/spam.csv\", encoding=\"latin-1\")\n",
    "df.sample(frac=0.2)"
   ]
  },
  {
   "cell_type": "code",
   "execution_count": 21,
   "metadata": {},
   "outputs": [],
   "source": [
    "df = df.dropna(axis=1)"
   ]
  },
  {
   "cell_type": "code",
   "execution_count": 22,
   "metadata": {},
   "outputs": [
    {
     "data": {
      "text/html": [
       "<div>\n",
       "<style scoped>\n",
       "    .dataframe tbody tr th:only-of-type {\n",
       "        vertical-align: middle;\n",
       "    }\n",
       "\n",
       "    .dataframe tbody tr th {\n",
       "        vertical-align: top;\n",
       "    }\n",
       "\n",
       "    .dataframe thead th {\n",
       "        text-align: right;\n",
       "    }\n",
       "</style>\n",
       "<table border=\"1\" class=\"dataframe\">\n",
       "  <thead>\n",
       "    <tr style=\"text-align: right;\">\n",
       "      <th></th>\n",
       "      <th>v1</th>\n",
       "      <th>v2</th>\n",
       "    </tr>\n",
       "  </thead>\n",
       "  <tbody>\n",
       "    <tr>\n",
       "      <th>4730</th>\n",
       "      <td>ham</td>\n",
       "      <td>K:)eng rocking in ashes:)</td>\n",
       "    </tr>\n",
       "    <tr>\n",
       "      <th>4668</th>\n",
       "      <td>ham</td>\n",
       "      <td>When I was born, GOD said, \\Oh No! Another IDI...</td>\n",
       "    </tr>\n",
       "    <tr>\n",
       "      <th>255</th>\n",
       "      <td>ham</td>\n",
       "      <td>Don't necessarily expect it to be done before ...</td>\n",
       "    </tr>\n",
       "    <tr>\n",
       "      <th>3894</th>\n",
       "      <td>ham</td>\n",
       "      <td>Yes. Last  practice</td>\n",
       "    </tr>\n",
       "    <tr>\n",
       "      <th>137</th>\n",
       "      <td>ham</td>\n",
       "      <td>No no. I will check all rooms befor activities</td>\n",
       "    </tr>\n",
       "    <tr>\n",
       "      <th>...</th>\n",
       "      <td>...</td>\n",
       "      <td>...</td>\n",
       "    </tr>\n",
       "    <tr>\n",
       "      <th>3630</th>\n",
       "      <td>ham</td>\n",
       "      <td>Thank you princess! You are so sexy...</td>\n",
       "    </tr>\n",
       "    <tr>\n",
       "      <th>2305</th>\n",
       "      <td>ham</td>\n",
       "      <td>Still in the area of the restaurant. Ill try t...</td>\n",
       "    </tr>\n",
       "    <tr>\n",
       "      <th>2658</th>\n",
       "      <td>ham</td>\n",
       "      <td>Not yet chikku..wat abt u?</td>\n",
       "    </tr>\n",
       "    <tr>\n",
       "      <th>4359</th>\n",
       "      <td>ham</td>\n",
       "      <td>Night sweet, sleep well! I've just been to see...</td>\n",
       "    </tr>\n",
       "    <tr>\n",
       "      <th>2612</th>\n",
       "      <td>ham</td>\n",
       "      <td>Yes. It's all innocent fun. O:-)</td>\n",
       "    </tr>\n",
       "  </tbody>\n",
       "</table>\n",
       "<p>1114 rows × 2 columns</p>\n",
       "</div>"
      ],
      "text/plain": [
       "       v1                                                 v2\n",
       "4730  ham                          K:)eng rocking in ashes:)\n",
       "4668  ham  When I was born, GOD said, \\Oh No! Another IDI...\n",
       "255   ham  Don't necessarily expect it to be done before ...\n",
       "3894  ham                                Yes. Last  practice\n",
       "137   ham     No no. I will check all rooms befor activities\n",
       "...   ...                                                ...\n",
       "3630  ham             Thank you princess! You are so sexy...\n",
       "2305  ham  Still in the area of the restaurant. Ill try t...\n",
       "2658  ham                         Not yet chikku..wat abt u?\n",
       "4359  ham  Night sweet, sleep well! I've just been to see...\n",
       "2612  ham                   Yes. It's all innocent fun. O:-)\n",
       "\n",
       "[1114 rows x 2 columns]"
      ]
     },
     "execution_count": 22,
     "metadata": {},
     "output_type": "execute_result"
    }
   ],
   "source": [
    "df.sample(frac=0.2)"
   ]
  },
  {
   "cell_type": "code",
   "execution_count": 23,
   "metadata": {},
   "outputs": [
    {
     "data": {
      "text/plain": [
       "<Axes: xlabel='v1', ylabel='count'>"
      ]
     },
     "execution_count": 23,
     "metadata": {},
     "output_type": "execute_result"
    },
    {
     "data": {
      "image/png": "[encoded data removed]",
      "text/plain": [
       "<Figure size 640x480 with 1 Axes>"
      ]
     },
     "metadata": {},
     "output_type": "display_data"
    }
   ],
   "source": [
    "sns.countplot(data = df, x = \"v1\")"
   ]
  },
  {
   "cell_type": "code",
   "execution_count": 24,
   "metadata": {},
   "outputs": [],
   "source": [
    "# Not very balanced dataset. Much ham.\n",
    "\n",
    "# Need to make dummies on ham/spam\n",
    "\n",
    "df = pd.get_dummies(df, columns=['v1'], drop_first=True)"
   ]
  },
  {
   "cell_type": "code",
   "execution_count": 25,
   "metadata": {},
   "outputs": [
    {
     "data": {
      "text/html": [
       "<div>\n",
       "<style scoped>\n",
       "    .dataframe tbody tr th:only-of-type {\n",
       "        vertical-align: middle;\n",
       "    }\n",
       "\n",
       "    .dataframe tbody tr th {\n",
       "        vertical-align: top;\n",
       "    }\n",
       "\n",
       "    .dataframe thead th {\n",
       "        text-align: right;\n",
       "    }\n",
       "</style>\n",
       "<table border=\"1\" class=\"dataframe\">\n",
       "  <thead>\n",
       "    <tr style=\"text-align: right;\">\n",
       "      <th></th>\n",
       "      <th>v2</th>\n",
       "      <th>v1_spam</th>\n",
       "    </tr>\n",
       "  </thead>\n",
       "  <tbody>\n",
       "    <tr>\n",
       "      <th>4460</th>\n",
       "      <td>Thanks again for your reply today. When is ur ...</td>\n",
       "      <td>0</td>\n",
       "    </tr>\n",
       "    <tr>\n",
       "      <th>4001</th>\n",
       "      <td>Did you get any gift? This year i didnt get an...</td>\n",
       "      <td>0</td>\n",
       "    </tr>\n",
       "    <tr>\n",
       "      <th>4339</th>\n",
       "      <td>I want to sent  &amp;lt;#&amp;gt; mesages today. Thats...</td>\n",
       "      <td>0</td>\n",
       "    </tr>\n",
       "    <tr>\n",
       "      <th>5008</th>\n",
       "      <td>My mobile number.pls sms ur mail id.convey reg...</td>\n",
       "      <td>0</td>\n",
       "    </tr>\n",
       "    <tr>\n",
       "      <th>399</th>\n",
       "      <td>Hmmm...k...but i want to change the field quic...</td>\n",
       "      <td>0</td>\n",
       "    </tr>\n",
       "    <tr>\n",
       "      <th>...</th>\n",
       "      <td>...</td>\n",
       "      <td>...</td>\n",
       "    </tr>\n",
       "    <tr>\n",
       "      <th>1518</th>\n",
       "      <td>Shall i ask one thing if you dont mistake me.</td>\n",
       "      <td>0</td>\n",
       "    </tr>\n",
       "    <tr>\n",
       "      <th>2797</th>\n",
       "      <td>Purity of friendship between two is not about ...</td>\n",
       "      <td>0</td>\n",
       "    </tr>\n",
       "    <tr>\n",
       "      <th>2034</th>\n",
       "      <td>Is avatar supposed to have subtoitles</td>\n",
       "      <td>0</td>\n",
       "    </tr>\n",
       "    <tr>\n",
       "      <th>3819</th>\n",
       "      <td>I got arrested for possession at, I shit you n...</td>\n",
       "      <td>0</td>\n",
       "    </tr>\n",
       "    <tr>\n",
       "      <th>5438</th>\n",
       "      <td>\\What are youdoing later? Sar xxx\\\"\"</td>\n",
       "      <td>0</td>\n",
       "    </tr>\n",
       "  </tbody>\n",
       "</table>\n",
       "<p>1114 rows × 2 columns</p>\n",
       "</div>"
      ],
      "text/plain": [
       "                                                     v2  v1_spam\n",
       "4460  Thanks again for your reply today. When is ur ...        0\n",
       "4001  Did you get any gift? This year i didnt get an...        0\n",
       "4339  I want to sent  &lt;#&gt; mesages today. Thats...        0\n",
       "5008  My mobile number.pls sms ur mail id.convey reg...        0\n",
       "399   Hmmm...k...but i want to change the field quic...        0\n",
       "...                                                 ...      ...\n",
       "1518      Shall i ask one thing if you dont mistake me.        0\n",
       "2797  Purity of friendship between two is not about ...        0\n",
       "2034              Is avatar supposed to have subtoitles        0\n",
       "3819  I got arrested for possession at, I shit you n...        0\n",
       "5438               \\What are youdoing later? Sar xxx\\\"\"        0\n",
       "\n",
       "[1114 rows x 2 columns]"
      ]
     },
     "execution_count": 25,
     "metadata": {},
     "output_type": "execute_result"
    }
   ],
   "source": [
    "df.sample(frac=0.2)"
   ]
  },
  {
   "cell_type": "code",
   "execution_count": 26,
   "metadata": {},
   "outputs": [],
   "source": [
    "X, y = df['v2'], df['v1_spam']"
   ]
  },
  {
   "cell_type": "code",
   "execution_count": 27,
   "metadata": {},
   "outputs": [
    {
     "data": {
      "text/plain": [
       "0    0\n",
       "1    0\n",
       "2    1\n",
       "3    0\n",
       "4    0\n",
       "Name: v1_spam, dtype: uint8"
      ]
     },
     "execution_count": 27,
     "metadata": {},
     "output_type": "execute_result"
    }
   ],
   "source": [
    "y.head()"
   ]
  },
  {
   "attachments": {},
   "cell_type": "markdown",
   "metadata": {},
   "source": [
    "# TF-IDF"
   ]
  },
  {
   "cell_type": "code",
   "execution_count": 28,
   "metadata": {},
   "outputs": [
    {
     "name": "stdout",
     "output_type": "stream",
     "text": [
      "frozenset({'toward', 'sincere', 'how', 'detail', 'show', 'same', 'fill', 'bill', 'becoming', 'cannot', 'first', 'thereupon', 'via', 'cant', 'had', 'now', 'below', 'ever', 'should', 'are', 'whose', 'though', 'together', 'done', 'be', 'never', 'but', 'whereby', 'everyone', 'as', 'have', 'can', 'whenever', 'amongst', 'he', 'another', 'please', 'much', 'between', 'off', 'afterwards', 'if', 'sixty', 'him', 'bottom', 'back', 'besides', 'other', 'beforehand', 'whereas', 'moreover', 'sometime', 'would', 'meanwhile', 'under', 'was', 'further', 'whither', 'less', 'all', 'around', 'at', 'nothing', 'this', 'well', 'every', 'which', 'beyond', 'upon', 'more', 'nine', 'thick', 'will', 'inc', 'former', 'not', 'me', 'anyone', 'ourselves', 'amoungst', 'is', 'out', 'several', 'yours', 'side', 'since', 'indeed', 'she', 'cry', 'over', 'amount', 'five', 'call', 'least', 'anyway', 'fifteen', 'somewhere', 'some', 'someone', 'take', 'un', 'on', 'thereby', 'thereafter', 'the', 'yourselves', 'even', 'else', 'otherwise', 'either', 'himself', 'few', 'about', 'made', 'within', 'themselves', 'during', 'them', 'third', 'both', 'two', 'etc', 'becomes', 'others', 'down', 'whole', 'here', 'move', 'interest', 'get', 'were', 'wherein', 'to', 'up', 'before', 'due', 'such', 'became', 'rather', 'three', 'anything', 'through', 'forty', 'only', 'may', 'onto', 'six', 'seemed', 'name', 'front', 'mostly', 'that', 'us', 'whether', 'into', 'hundred', 'everywhere', 'hence', 'its', 'go', 'throughout', 'anyhow', 'very', 'an', 'i', 'somehow', 'eg', 'neither', 'therefore', 'after', 'also', 'however', 'of', 'whom', 'latterly', 'one', 'ten', 'whereupon', 'mill', 'so', 'herein', 'it', 'part', 'own', 'last', 'towards', 'those', 'you', 'noone', 'eleven', 'full', 'many', 'your', 'couldnt', 'serious', 'everything', 'de', 'than', 'seeming', 'give', 'his', 'beside', 'most', 'must', 'system', 'perhaps', 'in', 'we', 'with', 'keep', 'whence', 'although', 'do', 'fifty', 'find', 'their', 'con', 'ours', 'across', 'whereafter', 'yourself', 'a', 'thence', 'twenty', 'who', 'whoever', 'myself', 'while', 'again', 'often', 'nor', 'hereupon', 'seems', 'any', 'alone', 'her', 'hereafter', 'they', 'describe', 'nevertheless', 'these', 'see', 'above', 'elsewhere', 'my', 'empty', 'still', 'hers', 'fire', 'wherever', 'whatever', 'each', 'put', 'hereby', 'am', 'what', 'and', 'by', 'from', 'ie', 'because', 'except', 'been', 'four', 'yet', 'when', 'has', 'against', 'or', 're', 'therein', 'behind', 'there', 'then', 'top', 'always', 'per', 'enough', 'almost', 'thin', 'for', 'co', 'might', 'among', 'thru', 'become', 'too', 'anywhere', 'mine', 'sometimes', 'something', 'formerly', 'no', 'itself', 'hasnt', 'once', 'without', 'could', 'along', 'our', 'until', 'namely', 'twelve', 'thus', 'herself', 'next', 'latter', 'seem', 'found', 'already', 'none', 'where', 'why', 'nowhere', 'ltd', 'nobody', 'being', 'eight'})\n"
     ]
    }
   ],
   "source": [
    "from sklearn.feature_extraction.text import TfidfVectorizer\n",
    "from sklearn.model_selection import train_test_split\n",
    "\n",
    "tfidf_vectorizer = TfidfVectorizer(stop_words=\"english\")\n",
    "print(tfidf_vectorizer.get_stop_words())"
   ]
  },
  {
   "attachments": {},
   "cell_type": "markdown",
   "metadata": {},
   "source": [
    "**stop_words{‘english’}, list, default=None**\\\n",
    "If a string, it is passed to _check_stop_list and the appropriate stop list is returned. ‘english’ is currently the only supported string value. There are several known issues with ‘english’ and you should consider an alternative (see Using stop words). <a href=\"https://scikit-learn.org/stable/modules/generated/sklearn.feature_extraction.text.TfidfVectorizer.html\">documentation</a>"
   ]
  },
  {
   "cell_type": "code",
   "execution_count": 29,
   "metadata": {},
   "outputs": [
    {
     "data": {
      "text/plain": [
       "<5572x8442 sparse matrix of type '<class 'numpy.float64'>'\n",
       "\twith 43742 stored elements in Compressed Sparse Row format>"
      ]
     },
     "execution_count": 29,
     "metadata": {},
     "output_type": "execute_result"
    }
   ],
   "source": [
    "X_tfidf = tfidf_vectorizer.fit_transform(X)\n",
    "X_tfidf"
   ]
  },
  {
   "cell_type": "code",
   "execution_count": 30,
   "metadata": {},
   "outputs": [
    {
     "data": {
      "text/plain": [
       "(0.000302292128255357, 0.0, 1.0)"
      ]
     },
     "execution_count": 30,
     "metadata": {},
     "output_type": "execute_result"
    }
   ],
   "source": [
    "X_tfidf.mean(), X_tfidf.min(), X_tfidf.max()"
   ]
  },
  {
   "attachments": {},
   "cell_type": "markdown",
   "metadata": {},
   "source": [
    "Now we represent X (text) with with numbers through a sparse matrix. Each individual element can have a value between 0 and 1.\n",
    "1 has high importance, given that it does not occur much in **all** documents in the corpus (stop words). 0 is less important.\n",
    "\n",
    "After applying the TfidfVectorizer to the text data X, we can create a new DataFrame tfidf_df that contains the transformed text features and their corresponding feature names:"
   ]
  },
  {
   "cell_type": "code",
   "execution_count": 37,
   "metadata": {},
   "outputs": [],
   "source": [
    "feature_names = tfidf_vectorizer.vocabulary_        # Get the feature names from the TfidfVectorizer object\n",
    "dense = X_tfidf.todense()                           # Convert the sparse matrix to a dense matrix\n",
    "\n",
    "# Convert the dense matrix to a list\n",
    "denselist = dense.tolist()\n",
    "\n",
    "tfidf_df = pd.DataFrame(denselist, columns=feature_names.keys())"
   ]
  },
  {
   "cell_type": "code",
   "execution_count": 51,
   "metadata": {},
   "outputs": [],
   "source": [
    "top_important_words = tfidf_df[tfidf_df == 1].stack().reset_index()[['level_1']]"
   ]
  },
  {
   "cell_type": "code",
   "execution_count": 62,
   "metadata": {},
   "outputs": [
    {
     "data": {
      "text/plain": [
       "186"
      ]
     },
     "execution_count": 62,
     "metadata": {},
     "output_type": "execute_result"
    }
   ],
   "source": [
    "len(top_important_words)"
   ]
  },
  {
   "cell_type": "code",
   "execution_count": 63,
   "metadata": {},
   "outputs": [
    {
     "data": {
      "text/html": [
       "<div>\n",
       "<style scoped>\n",
       "    .dataframe tbody tr th:only-of-type {\n",
       "        vertical-align: middle;\n",
       "    }\n",
       "\n",
       "    .dataframe tbody tr th {\n",
       "        vertical-align: top;\n",
       "    }\n",
       "\n",
       "    .dataframe thead th {\n",
       "        text-align: right;\n",
       "    }\n",
       "</style>\n",
       "<table border=\"1\" class=\"dataframe\">\n",
       "  <thead>\n",
       "    <tr style=\"text-align: right;\">\n",
       "      <th></th>\n",
       "      <th>level_1</th>\n",
       "    </tr>\n",
       "  </thead>\n",
       "  <tbody>\n",
       "    <tr>\n",
       "      <th>0</th>\n",
       "      <td>saves</td>\n",
       "    </tr>\n",
       "    <tr>\n",
       "      <th>1</th>\n",
       "      <td>anythingtomorrow</td>\n",
       "    </tr>\n",
       "    <tr>\n",
       "      <th>2</th>\n",
       "      <td>checkin</td>\n",
       "    </tr>\n",
       "    <tr>\n",
       "      <th>3</th>\n",
       "      <td>fantasies</td>\n",
       "    </tr>\n",
       "    <tr>\n",
       "      <th>4</th>\n",
       "      <td>cast</td>\n",
       "    </tr>\n",
       "    <tr>\n",
       "      <th>5</th>\n",
       "      <td>087018728737</td>\n",
       "    </tr>\n",
       "    <tr>\n",
       "      <th>6</th>\n",
       "      <td>positive</td>\n",
       "    </tr>\n",
       "    <tr>\n",
       "      <th>7</th>\n",
       "      <td>problms</td>\n",
       "    </tr>\n",
       "    <tr>\n",
       "      <th>8</th>\n",
       "      <td>cooking</td>\n",
       "    </tr>\n",
       "    <tr>\n",
       "      <th>9</th>\n",
       "      <td>reltnship</td>\n",
       "    </tr>\n",
       "    <tr>\n",
       "      <th>10</th>\n",
       "      <td>aha</td>\n",
       "    </tr>\n",
       "    <tr>\n",
       "      <th>11</th>\n",
       "      <td>athome</td>\n",
       "    </tr>\n",
       "    <tr>\n",
       "      <th>12</th>\n",
       "      <td>150p16</td>\n",
       "    </tr>\n",
       "    <tr>\n",
       "      <th>13</th>\n",
       "      <td>ltdhelpdesk</td>\n",
       "    </tr>\n",
       "    <tr>\n",
       "      <th>14</th>\n",
       "      <td>magic</td>\n",
       "    </tr>\n",
       "    <tr>\n",
       "      <th>15</th>\n",
       "      <td>successful</td>\n",
       "    </tr>\n",
       "    <tr>\n",
       "      <th>16</th>\n",
       "      <td>k61</td>\n",
       "    </tr>\n",
       "    <tr>\n",
       "      <th>17</th>\n",
       "      <td>864233</td>\n",
       "    </tr>\n",
       "    <tr>\n",
       "      <th>18</th>\n",
       "      <td>betta</td>\n",
       "    </tr>\n",
       "    <tr>\n",
       "      <th>19</th>\n",
       "      <td>attributed</td>\n",
       "    </tr>\n",
       "    <tr>\n",
       "      <th>20</th>\n",
       "      <td>1apple</td>\n",
       "    </tr>\n",
       "    <tr>\n",
       "      <th>21</th>\n",
       "      <td>4few</td>\n",
       "    </tr>\n",
       "    <tr>\n",
       "      <th>22</th>\n",
       "      <td>garments</td>\n",
       "    </tr>\n",
       "    <tr>\n",
       "      <th>23</th>\n",
       "      <td>failing</td>\n",
       "    </tr>\n",
       "    <tr>\n",
       "      <th>24</th>\n",
       "      <td>recd</td>\n",
       "    </tr>\n",
       "    <tr>\n",
       "      <th>25</th>\n",
       "      <td>anot</td>\n",
       "    </tr>\n",
       "    <tr>\n",
       "      <th>26</th>\n",
       "      <td>hack</td>\n",
       "    </tr>\n",
       "    <tr>\n",
       "      <th>27</th>\n",
       "      <td>neighbor</td>\n",
       "    </tr>\n",
       "    <tr>\n",
       "      <th>28</th>\n",
       "      <td>horrible</td>\n",
       "    </tr>\n",
       "    <tr>\n",
       "      <th>29</th>\n",
       "      <td>ayo</td>\n",
       "    </tr>\n",
       "  </tbody>\n",
       "</table>\n",
       "</div>"
      ],
      "text/plain": [
       "             level_1\n",
       "0              saves\n",
       "1   anythingtomorrow\n",
       "2            checkin\n",
       "3          fantasies\n",
       "4               cast\n",
       "5       087018728737\n",
       "6           positive\n",
       "7            problms\n",
       "8            cooking\n",
       "9          reltnship\n",
       "10               aha\n",
       "11            athome\n",
       "12            150p16\n",
       "13       ltdhelpdesk\n",
       "14             magic\n",
       "15        successful\n",
       "16               k61\n",
       "17            864233\n",
       "18             betta\n",
       "19        attributed\n",
       "20            1apple\n",
       "21              4few\n",
       "22          garments\n",
       "23           failing\n",
       "24              recd\n",
       "25              anot\n",
       "26              hack\n",
       "27          neighbor\n",
       "28          horrible\n",
       "29               ayo"
      ]
     },
     "execution_count": 63,
     "metadata": {},
     "output_type": "execute_result"
    }
   ],
   "source": [
    "top_important_words.head(30)"
   ]
  },
  {
   "attachments": {},
   "cell_type": "markdown",
   "metadata": {},
   "source": [
    "Yeah idk about importance, but some of them are good. Anyway."
   ]
  },
  {
   "cell_type": "code",
   "execution_count": 65,
   "metadata": {},
   "outputs": [
    {
     "data": {
      "text/plain": [
       "((3733, 8442), (1839, 8442))"
      ]
     },
     "execution_count": 65,
     "metadata": {},
     "output_type": "execute_result"
    }
   ],
   "source": [
    "X_train, X_test, y_train, y_test = train_test_split(X_tfidf, y, test_size=.33, random_state=42)\n",
    "X_train.shape, X_test.shape"
   ]
  },
  {
   "cell_type": "code",
   "execution_count": 76,
   "metadata": {},
   "outputs": [
    {
     "data": {
      "text/plain": [
       "<Axes: xlabel='v1_spam', ylabel='count'>"
      ]
     },
     "execution_count": 76,
     "metadata": {},
     "output_type": "execute_result"
    },
    {
     "data": {
      "image/png": "[encoded data removed]",
      "text/plain": [
       "<Figure size 900x400 with 2 Axes>"
      ]
     },
     "metadata": {},
     "output_type": "display_data"
    }
   ],
   "source": [
    "# Check distribution\n",
    "\n",
    "fig, ax = plt.subplots(1,2, figsize=(9,4))\n",
    "sns.countplot(x=y_train, ax = ax[0])\n",
    "sns.countplot(x=y_test, ax = ax[1])"
   ]
  },
  {
   "attachments": {},
   "cell_type": "markdown",
   "metadata": {},
   "source": [
    "# MultinomialNB, BernoulliNB, ComplementNB"
   ]
  },
  {
   "cell_type": "code",
   "execution_count": 77,
   "metadata": {},
   "outputs": [],
   "source": [
    "from sklearn.naive_bayes import MultinomialNB, ComplementNB, BernoulliNB\n",
    "from sklearn.metrics import classification_report, confusion_matrix, ConfusionMatrixDisplay"
   ]
  },
  {
   "cell_type": "code",
   "execution_count": 102,
   "metadata": {},
   "outputs": [],
   "source": [
    "naive_bayes = dict(\n",
    "    multinomial=MultinomialNB(), bernoulli=BernoulliNB(), complement=ComplementNB()\n",
    ")\n",
    "\n",
    "import matplotlib.pyplot as plt\n",
    "\n",
    "def evaluate_model(model, figsize=[2,2]):\n",
    "    model.fit(X_train, y_train)\n",
    "    y_pred = model.predict(X_test)\n",
    "    print(classification_report(y_test, y_pred))\n",
    "    cm = confusion_matrix(y_test, y_pred)\n",
    "    fig, ax = plt.subplots(figsize=figsize)\n",
    "    ConfusionMatrixDisplay(cm, display_labels=['Ham','Spam']).plot(ax=ax)\n",
    "    plt.show()"
   ]
  },
  {
   "cell_type": "code",
   "execution_count": 103,
   "metadata": {},
   "outputs": [
    {
     "name": "stdout",
     "output_type": "stream",
     "text": [
      "              precision    recall  f1-score   support\n",
      "\n",
      "           0       0.96      1.00      0.98      1587\n",
      "           1       1.00      0.74      0.85       252\n",
      "\n",
      "    accuracy                           0.96      1839\n",
      "   macro avg       0.98      0.87      0.92      1839\n",
      "weighted avg       0.97      0.96      0.96      1839\n",
      "\n"
     ]
    },
    {
     "data": {
      "image/png": "[encoded data removed]",
      "text/plain": [
       "<Figure size 200x200 with 2 Axes>"
      ]
     },
     "metadata": {},
     "output_type": "display_data"
    }
   ],
   "source": [
    "evaluate_model(naive_bayes['multinomial'])"
   ]
  },
  {
   "cell_type": "code",
   "execution_count": 97,
   "metadata": {},
   "outputs": [
    {
     "name": "stdout",
     "output_type": "stream",
     "text": [
      "              precision    recall  f1-score   support\n",
      "\n",
      "           0       0.97      1.00      0.98      1587\n",
      "           1       0.98      0.82      0.89       252\n",
      "\n",
      "    accuracy                           0.97      1839\n",
      "   macro avg       0.97      0.91      0.94      1839\n",
      "weighted avg       0.97      0.97      0.97      1839\n",
      "\n"
     ]
    },
    {
     "data": {
      "image/png": "[encoded data removed]",
      "text/plain": [
       "<Figure size 200x200 with 2 Axes>"
      ]
     },
     "metadata": {},
     "output_type": "display_data"
    }
   ],
   "source": [
    "evaluate_model(naive_bayes['bernoulli'])"
   ]
  },
  {
   "cell_type": "code",
   "execution_count": 98,
   "metadata": {},
   "outputs": [
    {
     "name": "stdout",
     "output_type": "stream",
     "text": [
      "              precision    recall  f1-score   support\n",
      "\n",
      "           0       0.99      0.93      0.96      1587\n",
      "           1       0.67      0.95      0.78       252\n",
      "\n",
      "    accuracy                           0.93      1839\n",
      "   macro avg       0.83      0.94      0.87      1839\n",
      "weighted avg       0.95      0.93      0.93      1839\n",
      "\n"
     ]
    },
    {
     "data": {
      "image/png": "[encoded data removed]",
      "text/plain": [
       "<Figure size 200x200 with 2 Axes>"
      ]
     },
     "metadata": {},
     "output_type": "display_data"
    }
   ],
   "source": [
    "evaluate_model(naive_bayes['complement'])"
   ]
  },
  {
   "attachments": {},
   "cell_type": "markdown",
   "metadata": {},
   "source": [
    "## LinearSVC"
   ]
  },
  {
   "cell_type": "code",
   "execution_count": 99,
   "metadata": {},
   "outputs": [
    {
     "name": "stdout",
     "output_type": "stream",
     "text": [
      "              precision    recall  f1-score   support\n",
      "\n",
      "           0       0.98      1.00      0.99      1587\n",
      "           1       0.97      0.86      0.91       252\n",
      "\n",
      "    accuracy                           0.98      1839\n",
      "   macro avg       0.98      0.93      0.95      1839\n",
      "weighted avg       0.98      0.98      0.98      1839\n",
      "\n"
     ]
    },
    {
     "data": {
      "image/png": "[encoded data removed]",
      "text/plain": [
       "<Figure size 200x200 with 2 Axes>"
      ]
     },
     "metadata": {},
     "output_type": "display_data"
    }
   ],
   "source": [
    "from sklearn.svm import LinearSVC\n",
    "\n",
    "evaluate_model(LinearSVC())"
   ]
  },
  {
   "attachments": {},
   "cell_type": "markdown",
   "metadata": {},
   "source": [
    "## RandomForestClassifier"
   ]
  },
  {
   "cell_type": "code",
   "execution_count": 100,
   "metadata": {},
   "outputs": [
    {
     "name": "stdout",
     "output_type": "stream",
     "text": [
      "              precision    recall  f1-score   support\n",
      "\n",
      "           0       0.97      1.00      0.99      1587\n",
      "           1       1.00      0.83      0.91       252\n",
      "\n",
      "    accuracy                           0.98      1839\n",
      "   macro avg       0.99      0.92      0.95      1839\n",
      "weighted avg       0.98      0.98      0.98      1839\n",
      "\n"
     ]
    },
    {
     "data": {
      "image/png": "[encoded data removed]",
      "text/plain": [
       "<Figure size 200x200 with 2 Axes>"
      ]
     },
     "metadata": {},
     "output_type": "display_data"
    }
   ],
   "source": [
    "from sklearn.ensemble import RandomForestClassifier\n",
    "\n",
    "evaluate_model(RandomForestClassifier())"
   ]
  },
  {
   "attachments": {},
   "cell_type": "markdown",
   "metadata": {},
   "source": [
    "# Combine different models\n",
    "\n",
    "- Majority vote\n",
    "- Hard voting (Class with most votes wins)\n",
    "- Soft voting (Class with highest probability wins)"
   ]
  },
  {
   "cell_type": "code",
   "execution_count": 104,
   "metadata": {},
   "outputs": [
    {
     "name": "stdout",
     "output_type": "stream",
     "text": [
      "              precision    recall  f1-score   support\n",
      "\n",
      "           0       0.98      1.00      0.99      1587\n",
      "           1       1.00      0.86      0.93       252\n",
      "\n",
      "    accuracy                           0.98      1839\n",
      "   macro avg       0.99      0.93      0.96      1839\n",
      "weighted avg       0.98      0.98      0.98      1839\n",
      "\n"
     ]
    },
    {
     "data": {
      "image/png": "[encoded data removed]",
      "text/plain": [
       "<Figure size 400x400 with 2 Axes>"
      ]
     },
     "metadata": {},
     "output_type": "display_data"
    }
   ],
   "source": [
    "from sklearn.ensemble import VotingClassifier\n",
    "\n",
    "vote_clf = VotingClassifier([\n",
    "    (\"random_forest\", RandomForestClassifier()),\n",
    "    (\"svc\", LinearSVC()),\n",
    "    (\"naive_complement\", ComplementNB()),\n",
    "    (\"naive_multinomial\", MultinomialNB()),\n",
    "    (\"naive_bernouilli\", BernoulliNB())\n",
    "], voting = \"hard\")\n",
    "\n",
    "evaluate_model(vote_clf, figsize=[4,4])"
   ]
  },
  {
   "attachments": {},
   "cell_type": "markdown",
   "metadata": {},
   "source": [
    "## \"Deployment\" Model testing\n",
    "\n",
    "- Assume we choose vote_clf"
   ]
  },
  {
   "cell_type": "code",
   "execution_count": 112,
   "metadata": {},
   "outputs": [
    {
     "data": {
      "text/plain": [
       "array([0], dtype=uint8)"
      ]
     },
     "execution_count": 112,
     "metadata": {},
     "output_type": "execute_result"
    }
   ],
   "source": [
    "from sklearn.pipeline import Pipeline\n",
    "# Pipeline to chain multiple steps together to run in sequence.\n",
    "pipe = Pipeline([(\"tfidf\", TfidfVectorizer(stop_words=\"english\")), (\"vote\", vote_clf)])\n",
    "\n",
    "\n",
    "# Fit on all data\n",
    "pipe.fit(X,y)\n",
    "pipe.predict([\"Collect your free bitcoin now!\"])"
   ]
  },
  {
   "cell_type": "code",
   "execution_count": 114,
   "metadata": {},
   "outputs": [
    {
     "data": {
      "text/plain": [
       "array([1], dtype=uint8)"
      ]
     },
     "execution_count": 114,
     "metadata": {},
     "output_type": "execute_result"
    }
   ],
   "source": [
    "pipe.predict([\"win free bitcoin\"])"
   ]
  }
 ],
 "metadata": {
  "kernelspec": {
   "display_name": "ITHS-AI22-ML-sqO3erDD",
   "language": "python",
   "name": "python3"
  },
  "language_info": {
   "codemirror_mode": {
    "name": "ipython",
    "version": 3
   },
   "file_extension": ".py",
   "mimetype": "text/x-python",
   "name": "python",
   "nbconvert_exporter": "python",
   "pygments_lexer": "ipython3",
   "version": "3.9.16"
  },
  "orig_nbformat": 4
 },
 "nbformat": 4,
 "nbformat_minor": 2
}
