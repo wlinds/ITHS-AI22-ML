{
 "cells": [
  {
   "cell_type": "code",
   "execution_count": 1,
   "metadata": {},
   "outputs": [],
   "source": [
    "import pandas as pd\n",
    "import numpy as np\n",
    "\n",
    "ratings='../Data/ml-latest/ratings.csv'\n",
    "movies='../Data/ml-latest/movies.csv'\n",
    "\n",
    "df=pd.read_csv(ratings, usecols=['userId','movieId','rating'],\n",
    "    dtype={\n",
    "        'userId':'int32',\n",
    "        'movieId':'int32',\n",
    "        'rating':'float32',\n",
    "        }\n",
    "    )\n",
    "\n",
    "titles=pd.read_csv(movies, usecols=['movieId','title'],\n",
    "    dtype={\n",
    "        'movieId':'int32',\n",
    "        'title':'str',\n",
    "        }\n",
    "    )\n",
    "\n",
    "df_genres=pd.read_csv(movies, usecols=['movieId','genres'],\n",
    "    dtype={\n",
    "        'movieId':'int32',\n",
    "        'genres':'str',\n",
    "        }\n",
    "    )"
   ]
  },
  {
   "attachments": {},
   "cell_type": "markdown",
   "metadata": {},
   "source": [
    "## How many movies and how many users are in the dataset?"
   ]
  },
  {
   "cell_type": "code",
   "execution_count": 2,
   "metadata": {},
   "outputs": [
    {
     "name": "stdout",
     "output_type": "stream",
     "text": [
      "Found 53889 movies and 283228 users.\n"
     ]
    }
   ],
   "source": [
    "print(f\"Found {len(df['movieId'].value_counts())} movies and {len(df['userId'].value_counts())} users.\")"
   ]
  },
  {
   "attachments": {},
   "cell_type": "markdown",
   "metadata": {},
   "source": [
    "## How many genres are there?"
   ]
  },
  {
   "cell_type": "code",
   "execution_count": 3,
   "metadata": {},
   "outputs": [
    {
     "name": "stdout",
     "output_type": "stream",
     "text": [
      "Found 58098 genres.\n"
     ]
    }
   ],
   "source": [
    "print(f\"Found {len(df_genres['movieId'].unique())} genres.\")"
   ]
  },
  {
   "attachments": {},
   "cell_type": "markdown",
   "metadata": {},
   "source": [
    "## What genres are the most popular?"
   ]
  },
  {
   "cell_type": "code",
   "execution_count": 4,
   "metadata": {},
   "outputs": [
    {
     "name": "stdout",
     "output_type": "stream",
     "text": [
      "Drama                   8402\n",
      "Comedy                  5372\n",
      "(no genres listed)      4266\n",
      "Documentary             4250\n",
      "Comedy|Drama            2212\n",
      "Drama|Romance           2028\n",
      "Comedy|Romance          1506\n",
      "Horror                  1459\n",
      "Comedy|Drama|Romance    1001\n",
      "Drama|Thriller           863\n",
      "Name: genres, dtype: int64\n"
     ]
    }
   ],
   "source": [
    "print(df_genres['genres'].value_counts().head(10))"
   ]
  },
  {
   "cell_type": "code",
   "execution_count": 5,
   "metadata": {},
   "outputs": [],
   "source": [
    "remove_genres = df_genres[df_genres['genres'] == '(no genres listed)']['movieId']"
   ]
  },
  {
   "cell_type": "code",
   "execution_count": 6,
   "metadata": {},
   "outputs": [
    {
     "name": "stdout",
     "output_type": "stream",
     "text": [
      "Succesfully dropped 18389 rows with missing genres.\n"
     ]
    }
   ],
   "source": [
    "new_df = df.drop(df[df['movieId'].isin(remove_genres)].index)\n",
    "print(f\"Succesfully dropped {len(df['movieId']) - len(new_df['movieId'])} rows with missing genres.\")"
   ]
  },
  {
   "attachments": {},
   "cell_type": "markdown",
   "metadata": {},
   "source": [
    "## How many movies have received < 20 ratings?"
   ]
  },
  {
   "cell_type": "code",
   "execution_count": 7,
   "metadata": {},
   "outputs": [
    {
     "name": "stdout",
     "output_type": "stream",
     "text": [
      "Found 35523 movies with less than 20 ratings.\n"
     ]
    }
   ],
   "source": [
    "n = 20\n",
    "\n",
    "movie_counts = df['movieId'].value_counts()\n",
    "movies_below_n_occurrences = movie_counts[movie_counts < n].index.tolist()\n",
    "#movie_titles = titles.set_index('movieId')['title'].loc[movies_below_n_occurrences]\n",
    "\n",
    "print(f\"Found {len(movies_below_n_occurrences)} movies with less than {n} ratings.\")\n",
    "#print(f\"Movies with less than {n} occurrences:\")\n",
    "#print(movie_titles[:10].to_string())"
   ]
  },
  {
   "cell_type": "code",
   "execution_count": 8,
   "metadata": {},
   "outputs": [
    {
     "name": "stdout",
     "output_type": "stream",
     "text": [
      "Total rows dropped: 174538.\n"
     ]
    }
   ],
   "source": [
    "new_df = new_df.drop(new_df[new_df['movieId'].isin(movies_below_n_occurrences)].index)\n",
    "print(f\"Total rows dropped: {len(df['movieId']) - len(new_df['movieId'])}.\")"
   ]
  },
  {
   "attachments": {},
   "cell_type": "markdown",
   "metadata": {},
   "source": [
    "## How many users have submitted < 20 ratings?"
   ]
  },
  {
   "cell_type": "code",
   "execution_count": 9,
   "metadata": {},
   "outputs": [
    {
     "name": "stdout",
     "output_type": "stream",
     "text": [
      "Found 108623 users who submitted less than 20 ratings.\n"
     ]
    }
   ],
   "source": [
    "n = 20\n",
    "user_ratings_counts = df['userId'].value_counts()\n",
    "users_with_few_ratings = user_ratings_counts[user_ratings_counts < n].index.tolist()  # select users with < n ratings\n",
    "print(f\"Found {len(users_with_few_ratings)} users who submitted less than {n} ratings.\")"
   ]
  },
  {
   "cell_type": "code",
   "execution_count": 10,
   "metadata": {},
   "outputs": [
    {
     "name": "stdout",
     "output_type": "stream",
     "text": [
      "Total rows dropped: 1381450.\n"
     ]
    }
   ],
   "source": [
    "new_df = new_df.drop(new_df[new_df['userId'].isin(users_with_few_ratings)].index)\n",
    "print(f\"Total rows dropped: {len(df['movieId']) - len(new_df['movieId'])}.\")"
   ]
  },
  {
   "attachments": {},
   "cell_type": "markdown",
   "metadata": {},
   "source": [
    "## How many users have submitted > 500 ratings?"
   ]
  },
  {
   "cell_type": "code",
   "execution_count": 11,
   "metadata": {},
   "outputs": [
    {
     "name": "stdout",
     "output_type": "stream",
     "text": [
      "10288 users found with >= 500 ratings made.\n"
     ]
    }
   ],
   "source": [
    "n = 500\n",
    "user_ratings_counts = df['userId'].value_counts() # repeating code just to keep track of what I'm doing\n",
    "\n",
    "users_with_n_ratings = user_ratings_counts[user_ratings_counts >= n].index.tolist()  # select users with => n ratings\n",
    "print(f'{len(users_with_n_ratings)} users found with >= {n} ratings made.')"
   ]
  },
  {
   "cell_type": "code",
   "execution_count": 12,
   "metadata": {},
   "outputs": [
    {
     "name": "stdout",
     "output_type": "stream",
     "text": [
      "Total rows dropped: 10612946.\n"
     ]
    }
   ],
   "source": [
    "new_df = new_df.drop(new_df[new_df['userId'].isin(users_with_n_ratings)].index)\n",
    "print(f\"Total rows dropped: {len(df['movieId']) - len(new_df['movieId'])}.\")"
   ]
  },
  {
   "attachments": {},
   "cell_type": "markdown",
   "metadata": {},
   "source": [
    "## How many users have submitted **only** lowest possible score?"
   ]
  },
  {
   "cell_type": "code",
   "execution_count": 13,
   "metadata": {},
   "outputs": [
    {
     "name": "stdout",
     "output_type": "stream",
     "text": [
      "Found 1182 users who only submitted 0.5 star reviews.\n"
     ]
    }
   ],
   "source": [
    "#TODO: Refactor this cell, it's too spaghetti\n",
    "\n",
    "users_with_only_05 = df.groupby('userId')['rating'].nunique() == 1\n",
    "users_with_only_05 = users_with_only_05[users_with_only_05].index\n",
    "users_with_only_05_05 = df[(df['userId'].isin(users_with_only_05)) & (df['rating'] == 0.5)]\n",
    "\n",
    "print(f\"Found {len(users_with_only_05_05['userId'].index)} users who only submitted 0.5 star reviews.\")"
   ]
  },
  {
   "cell_type": "code",
   "execution_count": 14,
   "metadata": {},
   "outputs": [
    {
     "name": "stdout",
     "output_type": "stream",
     "text": [
      "Found 259 users who only submitted 0.5 star reviews\n"
     ]
    }
   ],
   "source": [
    "#TODO: Refactoring try #1\n",
    "\n",
    "mask = df.groupby('userId')['rating'].unique().apply(lambda x: len(x)==1 and x[0]==0.5)\n",
    "print(f\"Found {len(mask[mask].index)} users who only submitted 0.5 star reviews\")"
   ]
  },
  {
   "attachments": {},
   "cell_type": "markdown",
   "metadata": {},
   "source": [
    "Hm, something seems off. But let's just throw them all and figure out later how to do with this.\n",
    "\n",
    "Edit: ohh, first method we get all rows, second method we only get all users."
   ]
  },
  {
   "cell_type": "code",
   "execution_count": 15,
   "metadata": {},
   "outputs": [
    {
     "name": "stdout",
     "output_type": "stream",
     "text": [
      "Total rows dropped: 10612946.\n"
     ]
    }
   ],
   "source": [
    "new_df = new_df.drop(new_df[new_df['userId'].isin(users_with_only_05_05 )].index)\n",
    "print(f\"Total rows dropped: {len(df['movieId']) - len(new_df['movieId'])}.\")"
   ]
  },
  {
   "cell_type": "code",
   "execution_count": 16,
   "metadata": {},
   "outputs": [
    {
     "name": "stdout",
     "output_type": "stream",
     "text": [
      "Total rows dropped: 10612946.\n"
     ]
    }
   ],
   "source": [
    "new_df = new_df.drop(new_df[new_df['userId'].isin(mask)].index)\n",
    "print(f\"Total rows dropped: {len(df['movieId']) - len(new_df['movieId'])}.\")"
   ]
  },
  {
   "attachments": {},
   "cell_type": "markdown",
   "metadata": {},
   "source": [
    "No rows were dropped for the lowest possible scores. Maybe the rows were already dropped from previous operations or maybe I did something wrong with the mask. We can check that later."
   ]
  },
  {
   "attachments": {},
   "cell_type": "markdown",
   "metadata": {},
   "source": [
    "## What are we left with now?"
   ]
  },
  {
   "cell_type": "code",
   "execution_count": 17,
   "metadata": {},
   "outputs": [
    {
     "data": {
      "text/plain": [
       "83260332"
      ]
     },
     "execution_count": 17,
     "metadata": {},
     "output_type": "execute_result"
    }
   ],
   "source": [
    "df.size"
   ]
  },
  {
   "cell_type": "code",
   "execution_count": 18,
   "metadata": {},
   "outputs": [
    {
     "data": {
      "text/plain": [
       "53889"
      ]
     },
     "execution_count": 18,
     "metadata": {},
     "output_type": "execute_result"
    }
   ],
   "source": [
    "unique_names = df['movieId'].unique()\n",
    "len(unique_names)"
   ]
  },
  {
   "cell_type": "code",
   "execution_count": 19,
   "metadata": {},
   "outputs": [
    {
     "data": {
      "text/plain": [
       "51421494"
      ]
     },
     "execution_count": 19,
     "metadata": {},
     "output_type": "execute_result"
    }
   ],
   "source": [
    "new_df.size"
   ]
  },
  {
   "cell_type": "code",
   "execution_count": 20,
   "metadata": {},
   "outputs": [
    {
     "data": {
      "text/plain": [
       "18220"
      ]
     },
     "execution_count": 20,
     "metadata": {},
     "output_type": "execute_result"
    }
   ],
   "source": [
    "unique_names = new_df['movieId'].unique()\n",
    "len(unique_names)"
   ]
  },
  {
   "attachments": {},
   "cell_type": "markdown",
   "metadata": {},
   "source": [
    "Hmm, idk, but seems good enough for now."
   ]
  },
  {
   "attachments": {},
   "cell_type": "markdown",
   "metadata": {},
   "source": [
    "## Compare central tendencies between the reduced dataset and the original."
   ]
  },
  {
   "cell_type": "code",
   "execution_count": 21,
   "metadata": {},
   "outputs": [],
   "source": [
    "def get_rating(df, mId, get_mean=True):\n",
    "    if get_mean:\n",
    "        return df.loc[df['movieId'] == mId]['rating'].mean()\n",
    "    else:\n",
    "        return df.loc[df['movieId'] == mId]['rating']"
   ]
  },
  {
   "cell_type": "code",
   "execution_count": 22,
   "metadata": {},
   "outputs": [],
   "source": [
    "def top_rated(n, df, include_index=False, include_movieId=False, include_rating=False):\n",
    "    top = df.groupby('movieId')['rating'].mean().sort_values(ascending=False).head(n).index\n",
    "\n",
    "    for i in top:\n",
    "        title = titles[titles['movieId'] == i]\n",
    "\n",
    "        print(title['title'].to_string(index=include_index))\n",
    "\n",
    "        if include_movieId:\n",
    "            print(f\"movieId: {i}\")\n",
    "\n",
    "        print(f\"Total ratings: {df[df['movieId'] == i]['rating'].count()}\")\n",
    "\n",
    "        if include_rating:\n",
    "            print(f'Rating: {get_rating(df, i):.2f}')\n",
    "\n",
    "        print('\\n', end='')\n",
    "\n",
    "def compare_lists(list1, list2):\n",
    "    if len(list1) != len(list2):\n",
    "        print(\"Lists have different lengths.\")\n",
    "        return\n",
    "    \n",
    "    # Check if the indices are the same\n",
    "    if list1.index.equals(list2.index):\n",
    "        print(\"Indices are the same.\")\n",
    "    else:\n",
    "        print(\"Indices are different.\")\n",
    "    \n",
    "    # Check if the values are the same\n",
    "    if np.allclose(list1.values, list2.values, rtol=0.1):\n",
    "        print(\"Values are the same.\")\n",
    "    else:\n",
    "        print(\"Values are different.\")\n",
    "        \n",
    "        # Calculate the percentage difference for each value\n",
    "        diff_percent = (abs(list1 - list2) / ((list1 + list2) / 2)) * 100\n",
    "        \n",
    "        print(\"Percentage difference:\")\n",
    "        print(diff_percent)"
   ]
  },
  {
   "cell_type": "code",
   "execution_count": 23,
   "metadata": {},
   "outputs": [],
   "source": [
    "new = new_df['rating'].value_counts(normalize=True).sort_index()\n",
    "old = df['rating'].value_counts(normalize=True).sort_index()"
   ]
  },
  {
   "cell_type": "code",
   "execution_count": 24,
   "metadata": {},
   "outputs": [
    {
     "name": "stdout",
     "output_type": "stream",
     "text": [
      "Indices are the same.\n",
      "Values are different.\n",
      "Percentage difference:\n",
      "0.5    21.000230\n",
      "1.0     8.053519\n",
      "1.5    31.550340\n",
      "2.0    12.925782\n",
      "2.5    31.921156\n",
      "3.0     2.604945\n",
      "3.5    15.240901\n",
      "4.0     5.882086\n",
      "4.5     7.657666\n",
      "5.0    19.157040\n",
      "Name: rating, dtype: float64\n"
     ]
    }
   ],
   "source": [
    "compare_lists(new,old)"
   ]
  },
  {
   "cell_type": "code",
   "execution_count": 25,
   "metadata": {},
   "outputs": [
    {
     "name": "stdout",
     "output_type": "stream",
     "text": [
      "David Cross: Making America Great Again (2016)\n",
      "movieId: 163653\n",
      "Total ratings: 1\n",
      "Rating: 5.00\n",
      "\n",
      "Give 'em Hell, Malone (2009)\n",
      "movieId: 116831\n",
      "Total ratings: 1\n",
      "Rating: 5.00\n",
      "\n",
      "Svengali (1931)\n",
      "movieId: 79711\n",
      "Total ratings: 3\n",
      "Rating: 5.00\n",
      "\n",
      "Cluny Brown (1946)\n",
      "movieId: 79809\n",
      "Total ratings: 1\n",
      "Rating: 5.00\n",
      "\n",
      "Next Stop, Greenwich Village (1976)\n",
      "movieId: 70595\n",
      "Total ratings: 1\n",
      "Rating: 5.00\n",
      "\n",
      "McQ (1974)\n",
      "movieId: 54020\n",
      "Total ratings: 1\n",
      "Rating: 5.00\n",
      "\n",
      "Journey of Hope (Reise der Hoffnung) (1990)\n",
      "movieId: 6778\n",
      "Total ratings: 2\n",
      "Rating: 5.00\n",
      "\n",
      "Children of the Corn: Genesis (2011)\n",
      "movieId: 116034\n",
      "Total ratings: 1\n",
      "Rating: 5.00\n",
      "\n",
      "Wagon Master (1950)\n",
      "movieId: 63793\n",
      "Total ratings: 1\n",
      "Rating: 5.00\n",
      "\n",
      "Bombshell: The Hedy Lamarr Story (2017)\n",
      "movieId: 183641\n",
      "Total ratings: 1\n",
      "Rating: 5.00\n",
      "\n"
     ]
    }
   ],
   "source": [
    "top_rated(10, df=new_df, include_index=False, include_movieId=True, include_rating=True)"
   ]
  },
  {
   "attachments": {},
   "cell_type": "markdown",
   "metadata": {},
   "source": [
    "Why are there movies with totals of 1 ratings? I'm pretty sure I removed those?"
   ]
  },
  {
   "attachments": {},
   "cell_type": "markdown",
   "metadata": {},
   "source": [
    "## Reduce all ratings to <500 / movie"
   ]
  },
  {
   "cell_type": "code",
   "execution_count": 26,
   "metadata": {},
   "outputs": [],
   "source": [
    "def random_remove_rows(df):\n",
    "    # Get the counts for each movieId\n",
    "    counts = df['movieId'].value_counts()\n",
    "\n",
    "    # Determine which movieIds have more than 500 ratings\n",
    "    mask = counts > 500\n",
    "    movieIds_to_remove = mask.index[mask]\n",
    "\n",
    "    def remove_rows_randomly(group):\n",
    "        if len(group) > 500 and group['movieId'].iloc[0] in movieIds_to_remove:\n",
    "            indices_to_remove = np.random.choice(group.index, size=len(group) - 500, replace=False)\n",
    "            group.drop(indices_to_remove, inplace=True)\n",
    "            return group, len(indices_to_remove)\n",
    "        else:\n",
    "            return group, 0\n",
    "\n",
    "    # Apply custom function to each group\n",
    "    groups = df.groupby('movieId')\n",
    "    results = [remove_rows_randomly(group) for name, group in groups]\n",
    "\n",
    "    # Combine results into final dataframe and count of removed rows\n",
    "    df = pd.concat([result[0] for result in results])\n",
    "    removed_rows = sum([result[1] for result in results])\n",
    "\n",
    "    return df, removed_rows"
   ]
  },
  {
   "cell_type": "code",
   "execution_count": 27,
   "metadata": {},
   "outputs": [],
   "source": [
    "new_df, removed_rows = random_remove_rows(new_df)"
   ]
  },
  {
   "cell_type": "code",
   "execution_count": 28,
   "metadata": {},
   "outputs": [
    {
     "data": {
      "text/plain": [
       "8787219"
      ]
     },
     "execution_count": 28,
     "metadata": {},
     "output_type": "execute_result"
    }
   ],
   "source": [
    "new_df.size"
   ]
  },
  {
   "cell_type": "code",
   "execution_count": 29,
   "metadata": {},
   "outputs": [
    {
     "name": "stdout",
     "output_type": "stream",
     "text": [
      "Fiend Without a Face (1958)\n",
      "movieId: 26019\n",
      "Total ratings: 1\n",
      "Rating: 5.00\n",
      "\n",
      "Devil at 4 O'Clock, The (1961)\n",
      "movieId: 6048\n",
      "Total ratings: 1\n",
      "Rating: 5.00\n",
      "\n",
      "House That Dripped Blood, The (1971)\n",
      "movieId: 40457\n",
      "Total ratings: 1\n",
      "Rating: 5.00\n",
      "\n",
      "Honeydripper (2007)\n",
      "movieId: 60436\n",
      "Total ratings: 1\n",
      "Rating: 5.00\n",
      "\n",
      "Jimmy Carr: Laughing and Joking (2013)\n",
      "movieId: 156787\n",
      "Total ratings: 2\n",
      "Rating: 5.00\n",
      "\n",
      "Wagon Master (1950)\n",
      "movieId: 63793\n",
      "Total ratings: 1\n",
      "Rating: 5.00\n",
      "\n",
      "Son of Paleface (1952)\n",
      "movieId: 25976\n",
      "Total ratings: 1\n",
      "Rating: 5.00\n",
      "\n",
      "Mothlight (1963)\n",
      "movieId: 100513\n",
      "Total ratings: 1\n",
      "Rating: 5.00\n",
      "\n",
      "Gold Diggers of 1935 (1935)\n",
      "movieId: 31297\n",
      "Total ratings: 1\n",
      "Rating: 5.00\n",
      "\n",
      "Target (1985)\n",
      "movieId: 26559\n",
      "Total ratings: 1\n",
      "Rating: 5.00\n",
      "\n"
     ]
    }
   ],
   "source": [
    "top_rated(10, df=new_df, include_index=False, include_movieId=True, include_rating=True)"
   ]
  },
  {
   "cell_type": "code",
   "execution_count": 30,
   "metadata": {},
   "outputs": [],
   "source": [
    "def top_rated(n, df, include_index=False, include_movieId=False, include_rating=False):\n",
    "    top = df.groupby('movieId')['rating'].mean().sort_values(ascending=False).head(n).index\n",
    "\n",
    "    for i in top:\n",
    "        title = titles[titles['movieId'] == i]\n",
    "\n",
    "        print(title['title'].to_string(index=include_index))\n",
    "\n",
    "        if include_movieId:\n",
    "            print(f\"movieId: {i}\")\n",
    "\n",
    "        print(f\"Total ratings: {df[df['movieId'] == i]['rating'].count()}\")\n",
    "\n",
    "        if include_rating:\n",
    "            print(f'Rating: {get_rating(df, i):.2f}')\n",
    "\n",
    "        print('\\n', end='')"
   ]
  },
  {
   "cell_type": "code",
   "execution_count": 31,
   "metadata": {},
   "outputs": [
    {
     "name": "stdout",
     "output_type": "stream",
     "text": [
      "Fiend Without a Face (1958)\n",
      "movieId: 26019\n",
      "Total ratings: 1\n",
      "Rating: 5.00\n",
      "\n",
      "Devil at 4 O'Clock, The (1961)\n",
      "movieId: 6048\n",
      "Total ratings: 1\n",
      "Rating: 5.00\n",
      "\n",
      "House That Dripped Blood, The (1971)\n",
      "movieId: 40457\n",
      "Total ratings: 1\n",
      "Rating: 5.00\n",
      "\n",
      "Honeydripper (2007)\n",
      "movieId: 60436\n",
      "Total ratings: 1\n",
      "Rating: 5.00\n",
      "\n",
      "Jimmy Carr: Laughing and Joking (2013)\n",
      "movieId: 156787\n",
      "Total ratings: 2\n",
      "Rating: 5.00\n",
      "\n",
      "Wagon Master (1950)\n",
      "movieId: 63793\n",
      "Total ratings: 1\n",
      "Rating: 5.00\n",
      "\n",
      "Son of Paleface (1952)\n",
      "movieId: 25976\n",
      "Total ratings: 1\n",
      "Rating: 5.00\n",
      "\n",
      "Mothlight (1963)\n",
      "movieId: 100513\n",
      "Total ratings: 1\n",
      "Rating: 5.00\n",
      "\n",
      "Gold Diggers of 1935 (1935)\n",
      "movieId: 31297\n",
      "Total ratings: 1\n",
      "Rating: 5.00\n",
      "\n",
      "Target (1985)\n",
      "movieId: 26559\n",
      "Total ratings: 1\n",
      "Rating: 5.00\n",
      "\n"
     ]
    }
   ],
   "source": [
    "top_rated(10, df=new_df, include_index=False, include_movieId=True, include_rating=True)"
   ]
  },
  {
   "cell_type": "code",
   "execution_count": 32,
   "metadata": {},
   "outputs": [],
   "source": [
    "new = new_df['rating'].value_counts(normalize=True).sort_index()\n",
    "old = df['rating'].value_counts(normalize=True).sort_index()"
   ]
  },
  {
   "cell_type": "code",
   "execution_count": 33,
   "metadata": {},
   "outputs": [
    {
     "name": "stdout",
     "output_type": "stream",
     "text": [
      "Indices are the same.\n",
      "Values are different.\n",
      "Percentage difference:\n",
      "0.5    24.531394\n",
      "1.0    31.896178\n",
      "1.5     4.025523\n",
      "2.0    10.858897\n",
      "2.5    11.163049\n",
      "3.0     0.375243\n",
      "3.5     5.392157\n",
      "4.0     1.478488\n",
      "4.5     0.488727\n",
      "5.0     5.859574\n",
      "Name: rating, dtype: float64\n"
     ]
    }
   ],
   "source": [
    "compare_lists(new,old)"
   ]
  },
  {
   "attachments": {},
   "cell_type": "markdown",
   "metadata": {},
   "source": [
    "# We fucked up big time"
   ]
  },
  {
   "cell_type": "code",
   "execution_count": 34,
   "metadata": {},
   "outputs": [
    {
     "name": "stdout",
     "output_type": "stream",
     "text": [
      "<class 'pandas.core.frame.DataFrame'>\n",
      "Int64Index: 2929073 entries, 18607 to 24852543\n",
      "Data columns (total 3 columns):\n",
      " #   Column   Dtype  \n",
      "---  ------   -----  \n",
      " 0   userId   int32  \n",
      " 1   movieId  int32  \n",
      " 2   rating   float32\n",
      "dtypes: float32(1), int32(2)\n",
      "memory usage: 55.9 MB\n"
     ]
    }
   ],
   "source": [
    "new_df.info()"
   ]
  },
  {
   "attachments": {},
   "cell_type": "markdown",
   "metadata": {},
   "source": [
    "Well, at least its only 56 MB."
   ]
  },
  {
   "attachments": {},
   "cell_type": "markdown",
   "metadata": {},
   "source": [
    "Let's start over. I have some new ideas."
   ]
  }
 ],
 "metadata": {
  "kernelspec": {
   "display_name": "ITHS-AI22-ML-sqO3erDD",
   "language": "python",
   "name": "python3"
  },
  "language_info": {
   "codemirror_mode": {
    "name": "ipython",
    "version": 3
   },
   "file_extension": ".py",
   "mimetype": "text/x-python",
   "name": "python",
   "nbconvert_exporter": "python",
   "pygments_lexer": "ipython3",
   "version": "3.9.16"
  },
  "orig_nbformat": 4
 },
 "nbformat": 4,
 "nbformat_minor": 2
}
