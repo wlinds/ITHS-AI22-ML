{
 "cells": [
  {
   "attachments": {},
   "cell_type": "markdown",
   "metadata": {},
   "source": [
    "## Let's begin in this end instead."
   ]
  },
  {
   "cell_type": "code",
   "execution_count": 4,
   "metadata": {},
   "outputs": [],
   "source": [
    "import polars as pl\n",
    "\n",
    "polars=pl.read_csv('../Data/ml-latest/movies.csv',\n",
    "    columns=['movieId','genres'],\n",
    "    dtypes={\n",
    "        'movieId':pl.Int32,\n",
    "        'genres':pl.Utf8,\n",
    "        }\n",
    "    )"
   ]
  },
  {
   "cell_type": "code",
   "execution_count": 5,
   "metadata": {},
   "outputs": [
    {
     "name": "stdout",
     "output_type": "stream",
     "text": [
      "468 µs ± 2.69 µs per loop (mean ± std. dev. of 7 runs, 1,000 loops each)\n"
     ]
    }
   ],
   "source": [
    "%%timeit\n",
    "speed = pl.scan_csv(\"../Data/ml-latest/ratings.csv\")\n",
    "speed.fetch(5)"
   ]
  },
  {
   "attachments": {},
   "cell_type": "markdown",
   "metadata": {},
   "source": [
    "The pl.scan_csv method won't actually read in all the data into memory. If we then call .fetch(5) we get 5 random rows of data.<br> Because there's no concern about ordering we don't need to load in all the data which is why it is ridiculously fast."
   ]
  },
  {
   "cell_type": "code",
   "execution_count": 8,
   "metadata": {},
   "outputs": [
    {
     "name": "stdout",
     "output_type": "stream",
     "text": [
      "shape: (5, 4)\n",
      "┌────────┬─────────┬────────┬────────────┐\n",
      "│ userId ┆ movieId ┆ rating ┆ timestamp  │\n",
      "│ ---    ┆ ---     ┆ ---    ┆ ---        │\n",
      "│ i64    ┆ i64     ┆ f64    ┆ i64        │\n",
      "╞════════╪═════════╪════════╪════════════╡\n",
      "│ 1      ┆ 307     ┆ 3.5    ┆ 1256677221 │\n",
      "│ 1      ┆ 481     ┆ 3.5    ┆ 1256677456 │\n",
      "│ 1      ┆ 1091    ┆ 1.5    ┆ 1256677471 │\n",
      "│ 1      ┆ 1257    ┆ 4.5    ┆ 1256677460 │\n",
      "│ 1      ┆ 1449    ┆ 4.5    ┆ 1256677264 │\n",
      "└────────┴─────────┴────────┴────────────┘\n",
      "shape: (1642, 1)\n",
      "┌─────────────────────────────────────┐\n",
      "│ genres                              │\n",
      "│ ---                                 │\n",
      "│ str                                 │\n",
      "╞═════════════════════════════════════╡\n",
      "│ Adventure|Animation|Children|Com... │\n",
      "│ Adventure|Children|Fantasy          │\n",
      "│ Comedy|Romance                      │\n",
      "│ Comedy|Drama|Romance                │\n",
      "│ ...                                 │\n",
      "│ Action|Comedy|Drama|Romance|Thri... │\n",
      "│ Action|Adventure|Comedy|Horror|S... │\n",
      "│ Children|Fantasy|Horror|Mystery|... │\n",
      "│ Adventure|Animation|Crime           │\n",
      "└─────────────────────────────────────┘\n"
     ]
    }
   ],
   "source": [
    "ratings = pl.scan_csv(\"../Data/ml-latest/ratings.csv\")\n",
    "print(ratings.fetch(5))\n",
    "\n",
    "print(polars.select(['genres']).unique())"
   ]
  },
  {
   "attachments": {},
   "cell_type": "markdown",
   "metadata": {},
   "source": [
    "However we won't be using ratings yet. Lets create some features.\n",
    "\n",
    "Most movies are tagged with multiple genres separated by |. There is proabably a good way to get the values but until I find that out..."
   ]
  },
  {
   "cell_type": "code",
   "execution_count": 7,
   "metadata": {},
   "outputs": [
    {
     "data": {
      "text/html": [
       "<div><style>\n",
       ".dataframe > thead > tr > th,\n",
       ".dataframe > tbody > tr > td {\n",
       "  text-align: right;\n",
       "}\n",
       "</style>\n",
       "<small>shape: (53832, 15)</small><table border=\"1\" class=\"dataframe\"><thead><tr><th>movieId</th><th>genres</th><th>action</th><th>horror</th><th>drama</th><th>comedy</th><th>documentary</th><th>adventure</th><th>fantasy</th><th>children</th><th>scifi</th><th>romance</th><th>mystery</th><th>animation</th><th>thriller</th></tr><tr><td>i32</td><td>str</td><td>bool</td><td>bool</td><td>bool</td><td>bool</td><td>bool</td><td>bool</td><td>bool</td><td>bool</td><td>bool</td><td>bool</td><td>bool</td><td>bool</td><td>bool</td></tr></thead><tbody><tr><td>1</td><td>&quot;Adventure|Anim...</td><td>false</td><td>false</td><td>false</td><td>true</td><td>false</td><td>true</td><td>true</td><td>true</td><td>false</td><td>false</td><td>false</td><td>true</td><td>false</td></tr><tr><td>2</td><td>&quot;Adventure|Chil...</td><td>false</td><td>false</td><td>false</td><td>false</td><td>false</td><td>true</td><td>true</td><td>true</td><td>false</td><td>false</td><td>false</td><td>false</td><td>false</td></tr><tr><td>3</td><td>&quot;Comedy|Romance...</td><td>false</td><td>false</td><td>false</td><td>true</td><td>false</td><td>false</td><td>false</td><td>false</td><td>false</td><td>true</td><td>false</td><td>false</td><td>false</td></tr><tr><td>4</td><td>&quot;Comedy|Drama|R...</td><td>false</td><td>false</td><td>true</td><td>true</td><td>false</td><td>false</td><td>false</td><td>false</td><td>false</td><td>true</td><td>false</td><td>false</td><td>false</td></tr><tr><td>5</td><td>&quot;Comedy&quot;</td><td>false</td><td>false</td><td>false</td><td>true</td><td>false</td><td>false</td><td>false</td><td>false</td><td>false</td><td>false</td><td>false</td><td>false</td><td>false</td></tr><tr><td>6</td><td>&quot;Action|Crime|T...</td><td>true</td><td>false</td><td>false</td><td>false</td><td>false</td><td>false</td><td>false</td><td>false</td><td>false</td><td>false</td><td>false</td><td>false</td><td>true</td></tr><tr><td>7</td><td>&quot;Comedy|Romance...</td><td>false</td><td>false</td><td>false</td><td>true</td><td>false</td><td>false</td><td>false</td><td>false</td><td>false</td><td>true</td><td>false</td><td>false</td><td>false</td></tr><tr><td>8</td><td>&quot;Adventure|Chil...</td><td>false</td><td>false</td><td>false</td><td>false</td><td>false</td><td>true</td><td>false</td><td>true</td><td>false</td><td>false</td><td>false</td><td>false</td><td>false</td></tr><tr><td>9</td><td>&quot;Action&quot;</td><td>true</td><td>false</td><td>false</td><td>false</td><td>false</td><td>false</td><td>false</td><td>false</td><td>false</td><td>false</td><td>false</td><td>false</td><td>false</td></tr><tr><td>10</td><td>&quot;Action|Adventu...</td><td>true</td><td>false</td><td>false</td><td>false</td><td>false</td><td>true</td><td>false</td><td>false</td><td>false</td><td>false</td><td>false</td><td>false</td><td>true</td></tr><tr><td>11</td><td>&quot;Comedy|Drama|R...</td><td>false</td><td>false</td><td>true</td><td>true</td><td>false</td><td>false</td><td>false</td><td>false</td><td>false</td><td>true</td><td>false</td><td>false</td><td>false</td></tr><tr><td>12</td><td>&quot;Comedy|Horror&quot;</td><td>false</td><td>true</td><td>false</td><td>true</td><td>false</td><td>false</td><td>false</td><td>false</td><td>false</td><td>false</td><td>false</td><td>false</td><td>false</td></tr><tr><td>...</td><td>...</td><td>...</td><td>...</td><td>...</td><td>...</td><td>...</td><td>...</td><td>...</td><td>...</td><td>...</td><td>...</td><td>...</td><td>...</td><td>...</td></tr><tr><td>193859</td><td>&quot;Comedy&quot;</td><td>false</td><td>false</td><td>false</td><td>true</td><td>false</td><td>false</td><td>false</td><td>false</td><td>false</td><td>false</td><td>false</td><td>false</td><td>false</td></tr><tr><td>193861</td><td>&quot;Action|Sci-Fi|...</td><td>true</td><td>false</td><td>false</td><td>false</td><td>false</td><td>false</td><td>false</td><td>false</td><td>true</td><td>false</td><td>false</td><td>false</td><td>true</td></tr><tr><td>193863</td><td>&quot;Documentary|Dr...</td><td>false</td><td>false</td><td>true</td><td>false</td><td>true</td><td>false</td><td>false</td><td>false</td><td>false</td><td>false</td><td>false</td><td>false</td><td>false</td></tr><tr><td>193864</td><td>&quot;Comedy&quot;</td><td>false</td><td>false</td><td>false</td><td>true</td><td>false</td><td>false</td><td>false</td><td>false</td><td>false</td><td>false</td><td>false</td><td>false</td><td>false</td></tr><tr><td>193866</td><td>&quot;Horror&quot;</td><td>false</td><td>true</td><td>false</td><td>false</td><td>false</td><td>false</td><td>false</td><td>false</td><td>false</td><td>false</td><td>false</td><td>false</td><td>false</td></tr><tr><td>193868</td><td>&quot;Comedy|Drama|R...</td><td>false</td><td>false</td><td>true</td><td>true</td><td>false</td><td>false</td><td>false</td><td>false</td><td>false</td><td>true</td><td>false</td><td>false</td><td>false</td></tr><tr><td>193872</td><td>&quot;Drama&quot;</td><td>false</td><td>false</td><td>true</td><td>false</td><td>false</td><td>false</td><td>false</td><td>false</td><td>false</td><td>false</td><td>false</td><td>false</td><td>false</td></tr><tr><td>193874</td><td>&quot;Comedy&quot;</td><td>false</td><td>false</td><td>false</td><td>true</td><td>false</td><td>false</td><td>false</td><td>false</td><td>false</td><td>false</td><td>false</td><td>false</td><td>false</td></tr><tr><td>193878</td><td>&quot;Comedy&quot;</td><td>false</td><td>false</td><td>false</td><td>true</td><td>false</td><td>false</td><td>false</td><td>false</td><td>false</td><td>false</td><td>false</td><td>false</td><td>false</td></tr><tr><td>193880</td><td>&quot;Drama&quot;</td><td>false</td><td>false</td><td>true</td><td>false</td><td>false</td><td>false</td><td>false</td><td>false</td><td>false</td><td>false</td><td>false</td><td>false</td><td>false</td></tr><tr><td>193882</td><td>&quot;Adventure|Dram...</td><td>false</td><td>true</td><td>true</td><td>false</td><td>false</td><td>true</td><td>false</td><td>false</td><td>true</td><td>false</td><td>false</td><td>false</td><td>false</td></tr><tr><td>193886</td><td>&quot;Action|Crime|D...</td><td>true</td><td>false</td><td>true</td><td>false</td><td>false</td><td>false</td><td>false</td><td>false</td><td>false</td><td>false</td><td>false</td><td>false</td><td>false</td></tr></tbody></table></div>"
      ],
      "text/plain": [
       "shape: (53832, 15)\n",
       "┌─────────┬─────────────────────┬────────┬────────┬─────┬─────────┬─────────┬───────────┬──────────┐\n",
       "│ movieId ┆ genres              ┆ action ┆ horror ┆ ... ┆ romance ┆ mystery ┆ animation ┆ thriller │\n",
       "│ ---     ┆ ---                 ┆ ---    ┆ ---    ┆     ┆ ---     ┆ ---     ┆ ---       ┆ ---      │\n",
       "│ i32     ┆ str                 ┆ bool   ┆ bool   ┆     ┆ bool    ┆ bool    ┆ bool      ┆ bool     │\n",
       "╞═════════╪═════════════════════╪════════╪════════╪═════╪═════════╪═════════╪═══════════╪══════════╡\n",
       "│ 1       ┆ Adventure|Animation ┆ false  ┆ false  ┆ ... ┆ false   ┆ false   ┆ true      ┆ false    │\n",
       "│         ┆ |Children|Com...    ┆        ┆        ┆     ┆         ┆         ┆           ┆          │\n",
       "│ 2       ┆ Adventure|Children| ┆ false  ┆ false  ┆ ... ┆ false   ┆ false   ┆ false     ┆ false    │\n",
       "│         ┆ Fantasy             ┆        ┆        ┆     ┆         ┆         ┆           ┆          │\n",
       "│ 3       ┆ Comedy|Romance      ┆ false  ┆ false  ┆ ... ┆ true    ┆ false   ┆ false     ┆ false    │\n",
       "│ 4       ┆ Comedy|Drama|Romanc ┆ false  ┆ false  ┆ ... ┆ true    ┆ false   ┆ false     ┆ false    │\n",
       "│         ┆ e                   ┆        ┆        ┆     ┆         ┆         ┆           ┆          │\n",
       "│ ...     ┆ ...                 ┆ ...    ┆ ...    ┆ ... ┆ ...     ┆ ...     ┆ ...       ┆ ...      │\n",
       "│ 193878  ┆ Comedy              ┆ false  ┆ false  ┆ ... ┆ false   ┆ false   ┆ false     ┆ false    │\n",
       "│ 193880  ┆ Drama               ┆ false  ┆ false  ┆ ... ┆ false   ┆ false   ┆ false     ┆ false    │\n",
       "│ 193882  ┆ Adventure|Drama|Hor ┆ false  ┆ true   ┆ ... ┆ false   ┆ false   ┆ false     ┆ false    │\n",
       "│         ┆ ror|Sci-Fi          ┆        ┆        ┆     ┆         ┆         ┆           ┆          │\n",
       "│ 193886  ┆ Action|Crime|Drama  ┆ true   ┆ false  ┆ ... ┆ false   ┆ false   ┆ false     ┆ false    │\n",
       "└─────────┴─────────────────────┴────────┴────────┴─────┴─────────┴─────────┴───────────┴──────────┘"
      ]
     },
     "execution_count": 7,
     "metadata": {},
     "output_type": "execute_result"
    }
   ],
   "source": [
    "polars = polars.filter(pl.col(\"genres\") != \"(no genres listed)\") # filter out movies with no genres\n",
    "\n",
    "polars.with_columns([\n",
    "    pl.col('genres').str.contains('Action').alias(\"action\"),\n",
    "    pl.col('genres').str.contains('Horror').alias(\"horror\"),\n",
    "    pl.col('genres').str.contains('Drama').alias(\"drama\"),\n",
    "    pl.col('genres').str.contains('Comedy').alias(\"comedy\"),\n",
    "    pl.col('genres').str.contains('Documentary').alias(\"documentary\"),\n",
    "    pl.col('genres').str.contains('Adventure').alias(\"adventure\"),\n",
    "    pl.col('genres').str.contains('Fantasy').alias(\"fantasy\"),\n",
    "    pl.col('genres').str.contains('Children').alias(\"children\"),\n",
    "    pl.col('genres').str.contains('Sci-Fi').alias(\"scifi\"),\n",
    "    pl.col('genres').str.contains('Romance').alias(\"romance\"),\n",
    "    pl.col('genres').str.contains('Mystery').alias(\"mystery\"),\n",
    "    pl.col('genres').str.contains('Animation').alias(\"animation\"),\n",
    "    pl.col('genres').str.contains('Thriller').alias(\"thriller\"),\n",
    "])\n",
    "\n",
    "# etc etc, testing if this work, then we scale it and find a way to iterate through all values because writing it out like this looks mad ugly"
   ]
  },
  {
   "attachments": {},
   "cell_type": "markdown",
   "metadata": {},
   "source": [
    "Now we have genres as boolean values, which should make it easier to find patterns. Probably?"
   ]
  },
  {
   "cell_type": "code",
   "execution_count": 35,
   "metadata": {},
   "outputs": [
    {
     "data": {
      "text/html": [
       "<div><style>\n",
       ".dataframe > thead > tr > th,\n",
       ".dataframe > tbody > tr > td {\n",
       "  text-align: right;\n",
       "}\n",
       "</style>\n",
       "<small>shape: (10, 3)</small><table border=\"1\" class=\"dataframe\"><thead><tr><th>userId</th><th>movieId</th><th>rating</th></tr><tr><td>i32</td><td>i32</td><td>f32</td></tr></thead><tbody><tr><td>1</td><td>307</td><td>3.5</td></tr><tr><td>1</td><td>481</td><td>3.5</td></tr><tr><td>1</td><td>1091</td><td>1.5</td></tr><tr><td>1</td><td>1257</td><td>4.5</td></tr><tr><td>1</td><td>1449</td><td>4.5</td></tr><tr><td>1</td><td>1590</td><td>2.5</td></tr><tr><td>1</td><td>1591</td><td>1.5</td></tr><tr><td>1</td><td>2134</td><td>4.5</td></tr><tr><td>1</td><td>2478</td><td>4.0</td></tr><tr><td>1</td><td>2840</td><td>3.0</td></tr></tbody></table></div>"
      ],
      "text/plain": [
       "shape: (10, 3)\n",
       "┌────────┬─────────┬────────┐\n",
       "│ userId ┆ movieId ┆ rating │\n",
       "│ ---    ┆ ---     ┆ ---    │\n",
       "│ i32    ┆ i32     ┆ f32    │\n",
       "╞════════╪═════════╪════════╡\n",
       "│ 1      ┆ 307     ┆ 3.5    │\n",
       "│ 1      ┆ 481     ┆ 3.5    │\n",
       "│ 1      ┆ 1091    ┆ 1.5    │\n",
       "│ 1      ┆ 1257    ┆ 4.5    │\n",
       "│ ...    ┆ ...     ┆ ...    │\n",
       "│ 1      ┆ 1591    ┆ 1.5    │\n",
       "│ 1      ┆ 2134    ┆ 4.5    │\n",
       "│ 1      ┆ 2478    ┆ 4.0    │\n",
       "│ 1      ┆ 2840    ┆ 3.0    │\n",
       "└────────┴─────────┴────────┘"
      ]
     },
     "execution_count": 35,
     "metadata": {},
     "output_type": "execute_result"
    }
   ],
   "source": [
    "ratings=pl.read_csv('../Data/ml-latest/ratings.csv',\n",
    "    columns=['movieId', 'userId','rating'],\n",
    "    dtypes={\n",
    "        'movieId':pl.Int32,\n",
    "        'userId':pl.Int32,\n",
    "        'rating':pl.Float32,\n",
    "        }\n",
    "    )\n",
    "\n",
    "ratings.head(10)"
   ]
  },
  {
   "cell_type": "code",
   "execution_count": 38,
   "metadata": {},
   "outputs": [
    {
     "data": {
      "text/html": [
       "<div><style>\n",
       ".dataframe > thead > tr > th,\n",
       ".dataframe > tbody > tr > td {\n",
       "  text-align: right;\n",
       "}\n",
       "</style>\n",
       "<small>shape: (6444685, 3)</small><table border=\"1\" class=\"dataframe\"><thead><tr><th>userId</th><th>movieId</th><th>rating</th></tr><tr><td>i32</td><td>i32</td><td>f32</td></tr></thead><tbody><tr><td>1</td><td>1257</td><td>4.5</td></tr><tr><td>1</td><td>1449</td><td>4.5</td></tr><tr><td>1</td><td>2134</td><td>4.5</td></tr><tr><td>1</td><td>3424</td><td>4.5</td></tr><tr><td>2</td><td>1296</td><td>4.5</td></tr><tr><td>2</td><td>2243</td><td>4.5</td></tr><tr><td>3</td><td>2028</td><td>5.0</td></tr><tr><td>4</td><td>6</td><td>4.5</td></tr><tr><td>4</td><td>25</td><td>4.5</td></tr><tr><td>4</td><td>32</td><td>4.5</td></tr><tr><td>4</td><td>41</td><td>4.5</td></tr><tr><td>4</td><td>47</td><td>5.0</td></tr><tr><td>...</td><td>...</td><td>...</td></tr><tr><td>283228</td><td>7072</td><td>5.0</td></tr><tr><td>283228</td><td>7091</td><td>4.5</td></tr><tr><td>283228</td><td>7132</td><td>4.5</td></tr><tr><td>283228</td><td>7215</td><td>4.5</td></tr><tr><td>283228</td><td>7831</td><td>5.0</td></tr><tr><td>283228</td><td>7834</td><td>5.0</td></tr><tr><td>283228</td><td>8228</td><td>5.0</td></tr><tr><td>283228</td><td>8542</td><td>4.5</td></tr><tr><td>283228</td><td>8712</td><td>4.5</td></tr><tr><td>283228</td><td>34405</td><td>4.5</td></tr><tr><td>283228</td><td>44761</td><td>4.5</td></tr><tr><td>283228</td><td>54286</td><td>4.5</td></tr></tbody></table></div>"
      ],
      "text/plain": [
       "shape: (6444685, 3)\n",
       "┌────────┬─────────┬────────┐\n",
       "│ userId ┆ movieId ┆ rating │\n",
       "│ ---    ┆ ---     ┆ ---    │\n",
       "│ i32    ┆ i32     ┆ f32    │\n",
       "╞════════╪═════════╪════════╡\n",
       "│ 1      ┆ 1257    ┆ 4.5    │\n",
       "│ 1      ┆ 1449    ┆ 4.5    │\n",
       "│ 1      ┆ 2134    ┆ 4.5    │\n",
       "│ 1      ┆ 3424    ┆ 4.5    │\n",
       "│ ...    ┆ ...     ┆ ...    │\n",
       "│ 283228 ┆ 8712    ┆ 4.5    │\n",
       "│ 283228 ┆ 34405   ┆ 4.5    │\n",
       "│ 283228 ┆ 44761   ┆ 4.5    │\n",
       "│ 283228 ┆ 54286   ┆ 4.5    │\n",
       "└────────┴─────────┴────────┘"
      ]
     },
     "execution_count": 38,
     "metadata": {},
     "output_type": "execute_result"
    }
   ],
   "source": [
    "best_movies = ratings.filter(pl.col(\"rating\") >= 4.5) # filter out all ratings except 4.5 and 5.0\n",
    "best_movies"
   ]
  }
 ],
 "metadata": {
  "kernelspec": {
   "display_name": "ITHS-AI22-ML-sqO3erDD",
   "language": "python",
   "name": "python3"
  },
  "language_info": {
   "codemirror_mode": {
    "name": "ipython",
    "version": 3
   },
   "file_extension": ".py",
   "mimetype": "text/x-python",
   "name": "python",
   "nbconvert_exporter": "python",
   "pygments_lexer": "ipython3",
   "version": "3.9.16"
  },
  "orig_nbformat": 4
 },
 "nbformat": 4,
 "nbformat_minor": 2
}
