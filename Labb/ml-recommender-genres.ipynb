{
 "cells": [
  {
   "attachments": {},
   "cell_type": "markdown",
   "metadata": {},
   "source": [
    "## Let's begin in this end instead."
   ]
  },
  {
   "cell_type": "code",
   "execution_count": 1,
   "metadata": {},
   "outputs": [],
   "source": [
    "import polars as pl\n",
    "\n",
    "polars=pl.read_csv('../Data/ml-latest/movies.csv',\n",
    "    columns=['movieId','genres'],\n",
    "    dtypes={\n",
    "        'movieId':pl.Int32,\n",
    "        'genres':pl.Utf8,\n",
    "        }\n",
    "    )"
   ]
  },
  {
   "cell_type": "code",
   "execution_count": 2,
   "metadata": {},
   "outputs": [
    {
     "name": "stdout",
     "output_type": "stream",
     "text": [
      "457 µs ± 1.41 µs per loop (mean ± std. dev. of 7 runs, 1,000 loops each)\n"
     ]
    }
   ],
   "source": [
    "%%timeit\n",
    "ratings = pl.scan_csv(\"../Data/ml-latest/ratings.csv\")\n",
    "ratings.fetch(5)"
   ]
  },
  {
   "attachments": {},
   "cell_type": "markdown",
   "metadata": {},
   "source": [
    "The pl.scan_csv method won't actually read in all the data into memory. If we then call .fetch(5) we get 5 random rows of data.<br> Because there's no concern about ordering we don't need to load in all the data which is why it is ridiculously fast."
   ]
  },
  {
   "cell_type": "code",
   "execution_count": 3,
   "metadata": {},
   "outputs": [
    {
     "data": {
      "text/html": [
       "<div><style>\n",
       ".dataframe > thead > tr > th,\n",
       ".dataframe > tbody > tr > td {\n",
       "  text-align: right;\n",
       "}\n",
       "</style>\n",
       "<small>shape: (5, 4)</small><table border=\"1\" class=\"dataframe\"><thead><tr><th>userId</th><th>movieId</th><th>rating</th><th>timestamp</th></tr><tr><td>i64</td><td>i64</td><td>f64</td><td>i64</td></tr></thead><tbody><tr><td>1</td><td>307</td><td>3.5</td><td>1256677221</td></tr><tr><td>1</td><td>481</td><td>3.5</td><td>1256677456</td></tr><tr><td>1</td><td>1091</td><td>1.5</td><td>1256677471</td></tr><tr><td>1</td><td>1257</td><td>4.5</td><td>1256677460</td></tr><tr><td>1</td><td>1449</td><td>4.5</td><td>1256677264</td></tr></tbody></table></div>"
      ],
      "text/plain": [
       "shape: (5, 4)\n",
       "┌────────┬─────────┬────────┬────────────┐\n",
       "│ userId ┆ movieId ┆ rating ┆ timestamp  │\n",
       "│ ---    ┆ ---     ┆ ---    ┆ ---        │\n",
       "│ i64    ┆ i64     ┆ f64    ┆ i64        │\n",
       "╞════════╪═════════╪════════╪════════════╡\n",
       "│ 1      ┆ 307     ┆ 3.5    ┆ 1256677221 │\n",
       "│ 1      ┆ 481     ┆ 3.5    ┆ 1256677456 │\n",
       "│ 1      ┆ 1091    ┆ 1.5    ┆ 1256677471 │\n",
       "│ 1      ┆ 1257    ┆ 4.5    ┆ 1256677460 │\n",
       "│ 1      ┆ 1449    ┆ 4.5    ┆ 1256677264 │\n",
       "└────────┴─────────┴────────┴────────────┘"
      ]
     },
     "execution_count": 3,
     "metadata": {},
     "output_type": "execute_result"
    }
   ],
   "source": [
    "# So if we quickly want to check a large csv without loading everything from it, we can just boom bap biddie bop and \n",
    "ratings = pl.scan_csv(\"../Data/ml-latest/ratings.csv\")\n",
    "ratings.fetch(5)"
   ]
  },
  {
   "attachments": {},
   "cell_type": "markdown",
   "metadata": {},
   "source": [
    "Before we get into the user rarings, lets create some features for genres.<br>\n",
    "Most movies are tagged with multiple genres separated by |. Let's change that."
   ]
  },
  {
   "cell_type": "code",
   "execution_count": 4,
   "metadata": {},
   "outputs": [
    {
     "data": {
      "text/html": [
       "<div><style>\n",
       ".dataframe > thead > tr > th,\n",
       ".dataframe > tbody > tr > td {\n",
       "  text-align: right;\n",
       "}\n",
       "</style>\n",
       "<small>shape: (10, 14)</small><table border=\"1\" class=\"dataframe\"><thead><tr><th>movieId</th><th>Action</th><th>Horror</th><th>Drama</th><th>Comedy</th><th>Documentary</th><th>Adventure</th><th>Fantasy</th><th>Children</th><th>Sci-Fi</th><th>Romance</th><th>Mystery</th><th>Animation</th><th>Thriller</th></tr><tr><td>i32</td><td>bool</td><td>bool</td><td>bool</td><td>bool</td><td>bool</td><td>bool</td><td>bool</td><td>bool</td><td>bool</td><td>bool</td><td>bool</td><td>bool</td><td>bool</td></tr></thead><tbody><tr><td>1</td><td>false</td><td>false</td><td>false</td><td>true</td><td>false</td><td>true</td><td>true</td><td>true</td><td>false</td><td>false</td><td>false</td><td>true</td><td>false</td></tr><tr><td>2</td><td>false</td><td>false</td><td>false</td><td>false</td><td>false</td><td>true</td><td>true</td><td>true</td><td>false</td><td>false</td><td>false</td><td>false</td><td>false</td></tr><tr><td>3</td><td>false</td><td>false</td><td>false</td><td>true</td><td>false</td><td>false</td><td>false</td><td>false</td><td>false</td><td>true</td><td>false</td><td>false</td><td>false</td></tr><tr><td>4</td><td>false</td><td>false</td><td>true</td><td>true</td><td>false</td><td>false</td><td>false</td><td>false</td><td>false</td><td>true</td><td>false</td><td>false</td><td>false</td></tr><tr><td>5</td><td>false</td><td>false</td><td>false</td><td>true</td><td>false</td><td>false</td><td>false</td><td>false</td><td>false</td><td>false</td><td>false</td><td>false</td><td>false</td></tr><tr><td>6</td><td>true</td><td>false</td><td>false</td><td>false</td><td>false</td><td>false</td><td>false</td><td>false</td><td>false</td><td>false</td><td>false</td><td>false</td><td>true</td></tr><tr><td>7</td><td>false</td><td>false</td><td>false</td><td>true</td><td>false</td><td>false</td><td>false</td><td>false</td><td>false</td><td>true</td><td>false</td><td>false</td><td>false</td></tr><tr><td>8</td><td>false</td><td>false</td><td>false</td><td>false</td><td>false</td><td>true</td><td>false</td><td>true</td><td>false</td><td>false</td><td>false</td><td>false</td><td>false</td></tr><tr><td>9</td><td>true</td><td>false</td><td>false</td><td>false</td><td>false</td><td>false</td><td>false</td><td>false</td><td>false</td><td>false</td><td>false</td><td>false</td><td>false</td></tr><tr><td>10</td><td>true</td><td>false</td><td>false</td><td>false</td><td>false</td><td>true</td><td>false</td><td>false</td><td>false</td><td>false</td><td>false</td><td>false</td><td>true</td></tr></tbody></table></div>"
      ],
      "text/plain": [
       "shape: (10, 14)\n",
       "┌─────────┬────────┬────────┬───────┬─────┬─────────┬─────────┬───────────┬──────────┐\n",
       "│ movieId ┆ Action ┆ Horror ┆ Drama ┆ ... ┆ Romance ┆ Mystery ┆ Animation ┆ Thriller │\n",
       "│ ---     ┆ ---    ┆ ---    ┆ ---   ┆     ┆ ---     ┆ ---     ┆ ---       ┆ ---      │\n",
       "│ i32     ┆ bool   ┆ bool   ┆ bool  ┆     ┆ bool    ┆ bool    ┆ bool      ┆ bool     │\n",
       "╞═════════╪════════╪════════╪═══════╪═════╪═════════╪═════════╪═══════════╪══════════╡\n",
       "│ 1       ┆ false  ┆ false  ┆ false ┆ ... ┆ false   ┆ false   ┆ true      ┆ false    │\n",
       "│ 2       ┆ false  ┆ false  ┆ false ┆ ... ┆ false   ┆ false   ┆ false     ┆ false    │\n",
       "│ 3       ┆ false  ┆ false  ┆ false ┆ ... ┆ true    ┆ false   ┆ false     ┆ false    │\n",
       "│ 4       ┆ false  ┆ false  ┆ true  ┆ ... ┆ true    ┆ false   ┆ false     ┆ false    │\n",
       "│ ...     ┆ ...    ┆ ...    ┆ ...   ┆ ... ┆ ...     ┆ ...     ┆ ...       ┆ ...      │\n",
       "│ 7       ┆ false  ┆ false  ┆ false ┆ ... ┆ true    ┆ false   ┆ false     ┆ false    │\n",
       "│ 8       ┆ false  ┆ false  ┆ false ┆ ... ┆ false   ┆ false   ┆ false     ┆ false    │\n",
       "│ 9       ┆ true   ┆ false  ┆ false ┆ ... ┆ false   ┆ false   ┆ false     ┆ false    │\n",
       "│ 10      ┆ true   ┆ false  ┆ false ┆ ... ┆ false   ┆ false   ┆ false     ┆ true     │\n",
       "└─────────┴────────┴────────┴───────┴─────┴─────────┴─────────┴───────────┴──────────┘"
      ]
     },
     "execution_count": 4,
     "metadata": {},
     "output_type": "execute_result"
    }
   ],
   "source": [
    "polars = polars.filter(pl.col(\"genres\") != \"(no genres listed)\") # filter out movies with no genres\n",
    "\n",
    "# Testing with the top most popular genres\n",
    "movies = [\"Action\",\"Horror\",\"Drama\",\"Comedy\",\"Documentary\",\"Adventure\",\"Fantasy\",\"Children\",\"Sci-Fi\",\"Romance\",\"Mystery\",\"Animation\",\"Thriller\"]\n",
    "\n",
    "# pl.with_columns method can be very powerful for creating or manipulating columns \n",
    "# here we run str.contains() on genre column to pull out genres for every movieId and add them to new boolean columns\n",
    "\n",
    "for i in movies:\n",
    "    polars = polars.with_columns([\n",
    "            pl.col('genres').str.contains(i).alias(i)\n",
    "    ])\n",
    "\n",
    "polars = polars.select([pl.exclude('genres')]) # remove old 'genres' column\n",
    "\n",
    "# if this works we can go on and add more columns for all genres\n",
    "\n",
    "polars.head(10)"
   ]
  },
  {
   "attachments": {},
   "cell_type": "markdown",
   "metadata": {},
   "source": [
    "Now we have genres as boolean values, which should make it easier to find patterns. Probably? Anyway, let's add the ratings."
   ]
  },
  {
   "cell_type": "code",
   "execution_count": 5,
   "metadata": {},
   "outputs": [],
   "source": [
    "ratings=pl.read_csv('../Data/ml-latest/ratings.csv',\n",
    "    columns=['movieId', 'userId','rating'],\n",
    "    dtypes={\n",
    "        'movieId':pl.Int32,\n",
    "        'userId':pl.Int32,\n",
    "        'rating':pl.Float32,\n",
    "        }\n",
    "    )"
   ]
  },
  {
   "cell_type": "code",
   "execution_count": 6,
   "metadata": {},
   "outputs": [],
   "source": [
    "best_movies = ratings.filter(pl.col(\"rating\") >= 4.5) # filter out all ratings except 4.5 and 5.0\n",
    "wost_movies = ratings.filter(pl.col(\"rating\") < 4.5) # filter out all ratings except <4.5 this will probably not be used at all"
   ]
  },
  {
   "attachments": {},
   "cell_type": "markdown",
   "metadata": {},
   "source": [
    "Now we join the two dataframes."
   ]
  },
  {
   "cell_type": "code",
   "execution_count": 7,
   "metadata": {},
   "outputs": [],
   "source": [
    "df_inner_join = polars.join(best_movies, on='movieId', how='inner')"
   ]
  },
  {
   "cell_type": "code",
   "execution_count": 8,
   "metadata": {},
   "outputs": [
    {
     "data": {
      "text/html": [
       "<div><style>\n",
       ".dataframe > thead > tr > th,\n",
       ".dataframe > tbody > tr > td {\n",
       "  text-align: right;\n",
       "}\n",
       "</style>\n",
       "<small>shape: (6440930, 16)</small><table border=\"1\" class=\"dataframe\"><thead><tr><th>movieId</th><th>Action</th><th>Horror</th><th>Drama</th><th>Comedy</th><th>Documentary</th><th>Adventure</th><th>Fantasy</th><th>Children</th><th>Sci-Fi</th><th>Romance</th><th>Mystery</th><th>Animation</th><th>Thriller</th><th>userId</th><th>rating</th></tr><tr><td>i32</td><td>bool</td><td>bool</td><td>bool</td><td>bool</td><td>bool</td><td>bool</td><td>bool</td><td>bool</td><td>bool</td><td>bool</td><td>bool</td><td>bool</td><td>bool</td><td>i32</td><td>f32</td></tr></thead><tbody><tr><td>1</td><td>false</td><td>false</td><td>false</td><td>true</td><td>false</td><td>true</td><td>true</td><td>true</td><td>false</td><td>false</td><td>false</td><td>true</td><td>false</td><td>10</td><td>5.0</td></tr><tr><td>1</td><td>false</td><td>false</td><td>false</td><td>true</td><td>false</td><td>true</td><td>true</td><td>true</td><td>false</td><td>false</td><td>false</td><td>true</td><td>false</td><td>14</td><td>4.5</td></tr><tr><td>1</td><td>false</td><td>false</td><td>false</td><td>true</td><td>false</td><td>true</td><td>true</td><td>true</td><td>false</td><td>false</td><td>false</td><td>true</td><td>false</td><td>27</td><td>5.0</td></tr><tr><td>1</td><td>false</td><td>false</td><td>false</td><td>true</td><td>false</td><td>true</td><td>true</td><td>true</td><td>false</td><td>false</td><td>false</td><td>true</td><td>false</td><td>31</td><td>5.0</td></tr><tr><td>1</td><td>false</td><td>false</td><td>false</td><td>true</td><td>false</td><td>true</td><td>true</td><td>true</td><td>false</td><td>false</td><td>false</td><td>true</td><td>false</td><td>32</td><td>4.5</td></tr><tr><td>1</td><td>false</td><td>false</td><td>false</td><td>true</td><td>false</td><td>true</td><td>true</td><td>true</td><td>false</td><td>false</td><td>false</td><td>true</td><td>false</td><td>38</td><td>5.0</td></tr><tr><td>1</td><td>false</td><td>false</td><td>false</td><td>true</td><td>false</td><td>true</td><td>true</td><td>true</td><td>false</td><td>false</td><td>false</td><td>true</td><td>false</td><td>43</td><td>5.0</td></tr><tr><td>1</td><td>false</td><td>false</td><td>false</td><td>true</td><td>false</td><td>true</td><td>true</td><td>true</td><td>false</td><td>false</td><td>false</td><td>true</td><td>false</td><td>55</td><td>5.0</td></tr><tr><td>1</td><td>false</td><td>false</td><td>false</td><td>true</td><td>false</td><td>true</td><td>true</td><td>true</td><td>false</td><td>false</td><td>false</td><td>true</td><td>false</td><td>74</td><td>5.0</td></tr><tr><td>1</td><td>false</td><td>false</td><td>false</td><td>true</td><td>false</td><td>true</td><td>true</td><td>true</td><td>false</td><td>false</td><td>false</td><td>true</td><td>false</td><td>79</td><td>5.0</td></tr><tr><td>1</td><td>false</td><td>false</td><td>false</td><td>true</td><td>false</td><td>true</td><td>true</td><td>true</td><td>false</td><td>false</td><td>false</td><td>true</td><td>false</td><td>99</td><td>4.5</td></tr><tr><td>1</td><td>false</td><td>false</td><td>false</td><td>true</td><td>false</td><td>true</td><td>true</td><td>true</td><td>false</td><td>false</td><td>false</td><td>true</td><td>false</td><td>107</td><td>4.5</td></tr><tr><td>...</td><td>...</td><td>...</td><td>...</td><td>...</td><td>...</td><td>...</td><td>...</td><td>...</td><td>...</td><td>...</td><td>...</td><td>...</td><td>...</td><td>...</td><td>...</td></tr><tr><td>193735</td><td>false</td><td>false</td><td>false</td><td>true</td><td>false</td><td>false</td><td>false</td><td>false</td><td>false</td><td>false</td><td>false</td><td>false</td><td>false</td><td>31538</td><td>5.0</td></tr><tr><td>193737</td><td>false</td><td>false</td><td>false</td><td>true</td><td>false</td><td>false</td><td>false</td><td>false</td><td>false</td><td>false</td><td>false</td><td>false</td><td>false</td><td>31538</td><td>5.0</td></tr><tr><td>193759</td><td>false</td><td>false</td><td>false</td><td>false</td><td>true</td><td>false</td><td>false</td><td>false</td><td>false</td><td>false</td><td>false</td><td>false</td><td>false</td><td>111908</td><td>5.0</td></tr><tr><td>193759</td><td>false</td><td>false</td><td>false</td><td>false</td><td>true</td><td>false</td><td>false</td><td>false</td><td>false</td><td>false</td><td>false</td><td>false</td><td>false</td><td>142057</td><td>5.0</td></tr><tr><td>193765</td><td>false</td><td>true</td><td>false</td><td>false</td><td>false</td><td>false</td><td>false</td><td>false</td><td>true</td><td>false</td><td>false</td><td>false</td><td>false</td><td>177981</td><td>4.5</td></tr><tr><td>193795</td><td>false</td><td>false</td><td>true</td><td>true</td><td>false</td><td>false</td><td>false</td><td>false</td><td>false</td><td>true</td><td>false</td><td>false</td><td>false</td><td>117523</td><td>5.0</td></tr><tr><td>193799</td><td>true</td><td>false</td><td>false</td><td>true</td><td>false</td><td>true</td><td>false</td><td>false</td><td>false</td><td>false</td><td>false</td><td>true</td><td>false</td><td>266075</td><td>5.0</td></tr><tr><td>193801</td><td>true</td><td>false</td><td>false</td><td>false</td><td>false</td><td>false</td><td>false</td><td>false</td><td>false</td><td>false</td><td>false</td><td>true</td><td>false</td><td>266075</td><td>5.0</td></tr><tr><td>193803</td><td>false</td><td>false</td><td>false</td><td>false</td><td>false</td><td>false</td><td>true</td><td>false</td><td>true</td><td>false</td><td>false</td><td>true</td><td>false</td><td>266075</td><td>5.0</td></tr><tr><td>193835</td><td>false</td><td>false</td><td>false</td><td>true</td><td>false</td><td>false</td><td>false</td><td>false</td><td>false</td><td>false</td><td>false</td><td>false</td><td>false</td><td>75404</td><td>4.5</td></tr><tr><td>193868</td><td>false</td><td>false</td><td>true</td><td>true</td><td>false</td><td>false</td><td>false</td><td>false</td><td>false</td><td>true</td><td>false</td><td>false</td><td>false</td><td>138494</td><td>4.5</td></tr><tr><td>193874</td><td>false</td><td>false</td><td>false</td><td>true</td><td>false</td><td>false</td><td>false</td><td>false</td><td>false</td><td>false</td><td>false</td><td>false</td><td>false</td><td>181577</td><td>5.0</td></tr></tbody></table></div>"
      ],
      "text/plain": [
       "shape: (6440930, 16)\n",
       "┌─────────┬────────┬────────┬───────┬─────┬───────────┬──────────┬────────┬────────┐\n",
       "│ movieId ┆ Action ┆ Horror ┆ Drama ┆ ... ┆ Animation ┆ Thriller ┆ userId ┆ rating │\n",
       "│ ---     ┆ ---    ┆ ---    ┆ ---   ┆     ┆ ---       ┆ ---      ┆ ---    ┆ ---    │\n",
       "│ i32     ┆ bool   ┆ bool   ┆ bool  ┆     ┆ bool      ┆ bool     ┆ i32    ┆ f32    │\n",
       "╞═════════╪════════╪════════╪═══════╪═════╪═══════════╪══════════╪════════╪════════╡\n",
       "│ 1       ┆ false  ┆ false  ┆ false ┆ ... ┆ true      ┆ false    ┆ 10     ┆ 5.0    │\n",
       "│ 1       ┆ false  ┆ false  ┆ false ┆ ... ┆ true      ┆ false    ┆ 14     ┆ 4.5    │\n",
       "│ 1       ┆ false  ┆ false  ┆ false ┆ ... ┆ true      ┆ false    ┆ 27     ┆ 5.0    │\n",
       "│ 1       ┆ false  ┆ false  ┆ false ┆ ... ┆ true      ┆ false    ┆ 31     ┆ 5.0    │\n",
       "│ ...     ┆ ...    ┆ ...    ┆ ...   ┆ ... ┆ ...       ┆ ...      ┆ ...    ┆ ...    │\n",
       "│ 193803  ┆ false  ┆ false  ┆ false ┆ ... ┆ true      ┆ false    ┆ 266075 ┆ 5.0    │\n",
       "│ 193835  ┆ false  ┆ false  ┆ false ┆ ... ┆ false     ┆ false    ┆ 75404  ┆ 4.5    │\n",
       "│ 193868  ┆ false  ┆ false  ┆ true  ┆ ... ┆ false     ┆ false    ┆ 138494 ┆ 4.5    │\n",
       "│ 193874  ┆ false  ┆ false  ┆ false ┆ ... ┆ false     ┆ false    ┆ 181577 ┆ 5.0    │\n",
       "└─────────┴────────┴────────┴───────┴─────┴───────────┴──────────┴────────┴────────┘"
      ]
     },
     "execution_count": 8,
     "metadata": {},
     "output_type": "execute_result"
    }
   ],
   "source": [
    "df_inner_join.sort(by='movieId')"
   ]
  },
  {
   "cell_type": "code",
   "execution_count": 9,
   "metadata": {},
   "outputs": [
    {
     "data": {
      "text/html": [
       "<div><style>\n",
       ".dataframe > thead > tr > th,\n",
       ".dataframe > tbody > tr > td {\n",
       "  text-align: right;\n",
       "}\n",
       "</style>\n",
       "<small>shape: (1, 16)</small><table border=\"1\" class=\"dataframe\"><thead><tr><th>movieId</th><th>Action</th><th>Horror</th><th>Drama</th><th>Comedy</th><th>Documentary</th><th>Adventure</th><th>Fantasy</th><th>Children</th><th>Sci-Fi</th><th>Romance</th><th>Mystery</th><th>Animation</th><th>Thriller</th><th>userId</th><th>rating</th></tr><tr><td>u32</td><td>u32</td><td>u32</td><td>u32</td><td>u32</td><td>u32</td><td>u32</td><td>u32</td><td>u32</td><td>u32</td><td>u32</td><td>u32</td><td>u32</td><td>u32</td><td>u32</td><td>u32</td></tr></thead><tbody><tr><td>0</td><td>0</td><td>0</td><td>0</td><td>0</td><td>0</td><td>0</td><td>0</td><td>0</td><td>0</td><td>0</td><td>0</td><td>0</td><td>0</td><td>0</td><td>0</td></tr></tbody></table></div>"
      ],
      "text/plain": [
       "shape: (1, 16)\n",
       "┌─────────┬────────┬────────┬───────┬─────┬───────────┬──────────┬────────┬────────┐\n",
       "│ movieId ┆ Action ┆ Horror ┆ Drama ┆ ... ┆ Animation ┆ Thriller ┆ userId ┆ rating │\n",
       "│ ---     ┆ ---    ┆ ---    ┆ ---   ┆     ┆ ---       ┆ ---      ┆ ---    ┆ ---    │\n",
       "│ u32     ┆ u32    ┆ u32    ┆ u32   ┆     ┆ u32       ┆ u32      ┆ u32    ┆ u32    │\n",
       "╞═════════╪════════╪════════╪═══════╪═════╪═══════════╪══════════╪════════╪════════╡\n",
       "│ 0       ┆ 0      ┆ 0      ┆ 0     ┆ ... ┆ 0         ┆ 0        ┆ 0      ┆ 0      │\n",
       "└─────────┴────────┴────────┴───────┴─────┴───────────┴──────────┴────────┴────────┘"
      ]
     },
     "execution_count": 9,
     "metadata": {},
     "output_type": "execute_result"
    }
   ],
   "source": [
    "df_inner_join.null_count() # lets check if everything seems ok"
   ]
  },
  {
   "attachments": {},
   "cell_type": "markdown",
   "metadata": {},
   "source": [
    "No nulls. Great!\n",
    "\n",
    "My plan is to have a dataframe with only high ratings, when a new user submits movies they like, the user will be matched with the other users in the dataframe who rated the same movies."
   ]
  },
  {
   "cell_type": "code",
   "execution_count": 10,
   "metadata": {},
   "outputs": [
    {
     "data": {
      "text/plain": [
       "83.69224643707275"
      ]
     },
     "execution_count": 10,
     "metadata": {},
     "output_type": "execute_result"
    }
   ],
   "source": [
    "df_inner_join.estimated_size(\"mb\")"
   ]
  },
  {
   "attachments": {},
   "cell_type": "markdown",
   "metadata": {},
   "source": [
    "83 MB is still kinda heavy. But let's try it. Now is also a good time to map the movie titles to movieId."
   ]
  },
  {
   "cell_type": "code",
   "execution_count": 11,
   "metadata": {},
   "outputs": [],
   "source": [
    "titles=pl.read_csv('../Data/ml-latest/movies.csv',\n",
    "    columns=['movieId','title'],\n",
    "    dtypes={\n",
    "        'movieId':pl.Int32,\n",
    "        'title':pl.Utf8,\n",
    "        }\n",
    "    )"
   ]
  },
  {
   "cell_type": "code",
   "execution_count": 12,
   "metadata": {},
   "outputs": [],
   "source": [
    "with_titles = df_inner_join.join(titles, on='movieId', how='inner')"
   ]
  },
  {
   "cell_type": "code",
   "execution_count": 13,
   "metadata": {},
   "outputs": [
    {
     "data": {
      "text/html": [
       "<div><style>\n",
       ".dataframe > thead > tr > th,\n",
       ".dataframe > tbody > tr > td {\n",
       "  text-align: right;\n",
       "}\n",
       "</style>\n",
       "<small>shape: (3, 17)</small><table border=\"1\" class=\"dataframe\"><thead><tr><th>movieId</th><th>Action</th><th>Horror</th><th>Drama</th><th>Comedy</th><th>Documentary</th><th>Adventure</th><th>Fantasy</th><th>Children</th><th>Sci-Fi</th><th>Romance</th><th>Mystery</th><th>Animation</th><th>Thriller</th><th>userId</th><th>rating</th><th>title</th></tr><tr><td>i32</td><td>bool</td><td>bool</td><td>bool</td><td>bool</td><td>bool</td><td>bool</td><td>bool</td><td>bool</td><td>bool</td><td>bool</td><td>bool</td><td>bool</td><td>bool</td><td>i32</td><td>f32</td><td>str</td></tr></thead><tbody><tr><td>1257</td><td>false</td><td>false</td><td>false</td><td>true</td><td>false</td><td>false</td><td>false</td><td>false</td><td>false</td><td>true</td><td>false</td><td>false</td><td>false</td><td>1</td><td>4.5</td><td>&quot;Better Off Dea...</td></tr><tr><td>1449</td><td>false</td><td>false</td><td>false</td><td>true</td><td>false</td><td>false</td><td>false</td><td>false</td><td>false</td><td>false</td><td>false</td><td>false</td><td>false</td><td>1</td><td>4.5</td><td>&quot;Waiting for Gu...</td></tr><tr><td>2134</td><td>false</td><td>false</td><td>false</td><td>true</td><td>false</td><td>false</td><td>true</td><td>false</td><td>true</td><td>false</td><td>false</td><td>false</td><td>false</td><td>1</td><td>4.5</td><td>&quot;Weird Science ...</td></tr></tbody></table></div>"
      ],
      "text/plain": [
       "shape: (3, 17)\n",
       "┌─────────┬────────┬────────┬───────┬─────┬──────────┬────────┬────────┬───────────────────────────┐\n",
       "│ movieId ┆ Action ┆ Horror ┆ Drama ┆ ... ┆ Thriller ┆ userId ┆ rating ┆ title                     │\n",
       "│ ---     ┆ ---    ┆ ---    ┆ ---   ┆     ┆ ---      ┆ ---    ┆ ---    ┆ ---                       │\n",
       "│ i32     ┆ bool   ┆ bool   ┆ bool  ┆     ┆ bool     ┆ i32    ┆ f32    ┆ str                       │\n",
       "╞═════════╪════════╪════════╪═══════╪═════╪══════════╪════════╪════════╪═══════════════════════════╡\n",
       "│ 1257    ┆ false  ┆ false  ┆ false ┆ ... ┆ false    ┆ 1      ┆ 4.5    ┆ Better Off Dead... (1985) │\n",
       "│ 1449    ┆ false  ┆ false  ┆ false ┆ ... ┆ false    ┆ 1      ┆ 4.5    ┆ Waiting for Guffman       │\n",
       "│         ┆        ┆        ┆       ┆     ┆          ┆        ┆        ┆ (1996)                    │\n",
       "│ 2134    ┆ false  ┆ false  ┆ false ┆ ... ┆ false    ┆ 1      ┆ 4.5    ┆ Weird Science (1985)      │\n",
       "└─────────┴────────┴────────┴───────┴─────┴──────────┴────────┴────────┴───────────────────────────┘"
      ]
     },
     "execution_count": 13,
     "metadata": {},
     "output_type": "execute_result"
    }
   ],
   "source": [
    "with_titles.head(3)"
   ]
  },
  {
   "cell_type": "code",
   "execution_count": 14,
   "metadata": {},
   "outputs": [
    {
     "data": {
      "text/plain": [
       "293.1260347366333"
      ]
     },
     "execution_count": 14,
     "metadata": {},
     "output_type": "execute_result"
    }
   ],
   "source": [
    "# I wonder how big of a size differnce the title string column made\n",
    "\n",
    "with_titles.estimated_size(\"mb\")"
   ]
  },
  {
   "attachments": {},
   "cell_type": "markdown",
   "metadata": {},
   "source": [
    "YIKES\n",
    "\n",
    "It's apparently not the best idea to join the titles like this. It's probably better to just stick with movieId and then once needed map movieId to string title."
   ]
  },
  {
   "cell_type": "code",
   "execution_count": 15,
   "metadata": {},
   "outputs": [
    {
     "data": {
      "text/plain": [
       "83.69224643707275"
      ]
     },
     "execution_count": 15,
     "metadata": {},
     "output_type": "execute_result"
    }
   ],
   "source": [
    "df_inner_join.estimated_size(\"mb\")"
   ]
  },
  {
   "cell_type": "code",
   "execution_count": 16,
   "metadata": {},
   "outputs": [
    {
     "data": {
      "text/html": [
       "<div><style>\n",
       ".dataframe > thead > tr > th,\n",
       ".dataframe > tbody > tr > td {\n",
       "  text-align: right;\n",
       "}\n",
       "</style>\n",
       "<small>shape: (5, 2)</small><table border=\"1\" class=\"dataframe\"><thead><tr><th>movieId</th><th>title</th></tr><tr><td>i32</td><td>str</td></tr></thead><tbody><tr><td>1</td><td>&quot;Toy Story (199...</td></tr><tr><td>2</td><td>&quot;Jumanji (1995)...</td></tr><tr><td>3</td><td>&quot;Grumpier Old M...</td></tr><tr><td>4</td><td>&quot;Waiting to Exh...</td></tr><tr><td>5</td><td>&quot;Father of the ...</td></tr></tbody></table></div>"
      ],
      "text/plain": [
       "shape: (5, 2)\n",
       "┌─────────┬─────────────────────────────────────┐\n",
       "│ movieId ┆ title                               │\n",
       "│ ---     ┆ ---                                 │\n",
       "│ i32     ┆ str                                 │\n",
       "╞═════════╪═════════════════════════════════════╡\n",
       "│ 1       ┆ Toy Story (1995)                    │\n",
       "│ 2       ┆ Jumanji (1995)                      │\n",
       "│ 3       ┆ Grumpier Old Men (1995)             │\n",
       "│ 4       ┆ Waiting to Exhale (1995)            │\n",
       "│ 5       ┆ Father of the Bride Part II (199... │\n",
       "└─────────┴─────────────────────────────────────┘"
      ]
     },
     "execution_count": 16,
     "metadata": {},
     "output_type": "execute_result"
    }
   ],
   "source": [
    "titles.head()"
   ]
  },
  {
   "attachments": {},
   "cell_type": "markdown",
   "metadata": {},
   "source": [
    "## Find movie by string search query\n",
    "\n",
    "User: I like movie \"12 Angry Men\" / user_rated(movieId=1203, rating=4.5)"
   ]
  },
  {
   "cell_type": "code",
   "execution_count": 17,
   "metadata": {},
   "outputs": [],
   "source": [
    "user_input = \"12 Angry Men\""
   ]
  },
  {
   "cell_type": "code",
   "execution_count": 18,
   "metadata": {},
   "outputs": [
    {
     "data": {
      "text/html": [
       "<div><style>\n",
       ".dataframe > thead > tr > th,\n",
       ".dataframe > tbody > tr > td {\n",
       "  text-align: right;\n",
       "}\n",
       "</style>\n",
       "<small>shape: (2, 1)</small><table border=\"1\" class=\"dataframe\"><thead><tr><th>movieId</th></tr><tr><td>i64</td></tr></thead><tbody><tr><td>1203</td></tr><tr><td>77846</td></tr></tbody></table></div>"
      ],
      "text/plain": [
       "shape: (2, 1)\n",
       "┌─────────┐\n",
       "│ movieId │\n",
       "│ ---     │\n",
       "│ i64     │\n",
       "╞═════════╡\n",
       "│ 1203    │\n",
       "│ 77846   │\n",
       "└─────────┘"
      ]
     },
     "execution_count": 18,
     "metadata": {},
     "output_type": "execute_result"
    }
   ],
   "source": [
    "# This scans the entire movies.csv to get movieId(s) from string\n",
    "\n",
    "find_movieId = (\n",
    "    pl.scan_csv('../Data/ml-latest/movies.csv')\n",
    "    .filter(pl.col('title').str.contains(user_input))\n",
    "    .select(['movieId'])\n",
    ")\n",
    "\n",
    "find_movieId.collect()#.to_pandas() # if we want to parse it to pandas"
   ]
  },
  {
   "attachments": {},
   "cell_type": "markdown",
   "metadata": {},
   "source": [
    "TODO: If multiple movies are found in search query, there should be a function which either:\n",
    "- Lets user select movie from list\n",
    "\n",
    "OR\n",
    "\n",
    "- Automatically selects the most popular one"
   ]
  },
  {
   "cell_type": "code",
   "execution_count": 19,
   "metadata": {},
   "outputs": [
    {
     "data": {
      "text/plain": [
       "(2, 1)"
      ]
     },
     "execution_count": 19,
     "metadata": {},
     "output_type": "execute_result"
    }
   ],
   "source": [
    "find_movieId.collect().shape"
   ]
  },
  {
   "cell_type": "code",
   "execution_count": 20,
   "metadata": {},
   "outputs": [],
   "source": [
    "if find_movieId.collect().shape[0] > 1:\n",
    "    find_movie_Id = find_movieId.collect()[0].item() # We do this for now\n",
    "else: find_movie_Id = find_movieId.collect().item()"
   ]
  },
  {
   "attachments": {},
   "cell_type": "markdown",
   "metadata": {},
   "source": [
    "## Get genre of movie"
   ]
  },
  {
   "cell_type": "code",
   "execution_count": 21,
   "metadata": {},
   "outputs": [
    {
     "data": {
      "text/html": [
       "<div><style>\n",
       ".dataframe > thead > tr > th,\n",
       ".dataframe > tbody > tr > td {\n",
       "  text-align: right;\n",
       "}\n",
       "</style>\n",
       "<small>shape: (1, 16)</small><table border=\"1\" class=\"dataframe\"><thead><tr><th>movieId</th><th>Action</th><th>Horror</th><th>Drama</th><th>Comedy</th><th>Documentary</th><th>Adventure</th><th>Fantasy</th><th>Children</th><th>Sci-Fi</th><th>Romance</th><th>Mystery</th><th>Animation</th><th>Thriller</th><th>userId</th><th>rating</th></tr><tr><td>i32</td><td>bool</td><td>bool</td><td>bool</td><td>bool</td><td>bool</td><td>bool</td><td>bool</td><td>bool</td><td>bool</td><td>bool</td><td>bool</td><td>bool</td><td>bool</td><td>i32</td><td>f32</td></tr></thead><tbody><tr><td>1203</td><td>false</td><td>false</td><td>true</td><td>false</td><td>false</td><td>false</td><td>false</td><td>false</td><td>false</td><td>false</td><td>false</td><td>false</td><td>false</td><td>15</td><td>5.0</td></tr></tbody></table></div>"
      ],
      "text/plain": [
       "shape: (1, 16)\n",
       "┌─────────┬────────┬────────┬───────┬─────┬───────────┬──────────┬────────┬────────┐\n",
       "│ movieId ┆ Action ┆ Horror ┆ Drama ┆ ... ┆ Animation ┆ Thriller ┆ userId ┆ rating │\n",
       "│ ---     ┆ ---    ┆ ---    ┆ ---   ┆     ┆ ---       ┆ ---      ┆ ---    ┆ ---    │\n",
       "│ i32     ┆ bool   ┆ bool   ┆ bool  ┆     ┆ bool      ┆ bool     ┆ i32    ┆ f32    │\n",
       "╞═════════╪════════╪════════╪═══════╪═════╪═══════════╪══════════╪════════╪════════╡\n",
       "│ 1203    ┆ false  ┆ false  ┆ true  ┆ ... ┆ false     ┆ false    ┆ 15     ┆ 5.0    │\n",
       "└─────────┴────────┴────────┴───────┴─────┴───────────┴──────────┴────────┴────────┘"
      ]
     },
     "execution_count": 21,
     "metadata": {},
     "output_type": "execute_result"
    }
   ],
   "source": [
    "# We search the previously created dataframe (df_inner_join) to check genre. This is very redunant.\n",
    "find_row = df_inner_join.filter(pl.col('movieId') == find_movie_Id)\n",
    "find_row = find_row[0:1:]\n",
    "find_row"
   ]
  },
  {
   "attachments": {},
   "cell_type": "markdown",
   "metadata": {},
   "source": [
    "## Find other users who rated movie in search query high"
   ]
  },
  {
   "cell_type": "code",
   "execution_count": 22,
   "metadata": {},
   "outputs": [
    {
     "data": {
      "text/html": [
       "<div><style>\n",
       ".dataframe > thead > tr > th,\n",
       ".dataframe > tbody > tr > td {\n",
       "  text-align: right;\n",
       "}\n",
       "</style>\n",
       "<small>shape: (16, 1)</small><table border=\"1\" class=\"dataframe\"><thead><tr><th>userId</th></tr><tr><td>i64</td></tr></thead><tbody><tr><td>15</td></tr><tr><td>17748</td></tr><tr><td>35561</td></tr><tr><td>53292</td></tr><tr><td>71019</td></tr><tr><td>90770</td></tr><tr><td>109823</td></tr><tr><td>128838</td></tr><tr><td>147636</td></tr><tr><td>165072</td></tr><tr><td>182686</td></tr><tr><td>202330</td></tr><tr><td>223464</td></tr><tr><td>244443</td></tr><tr><td>261681</td></tr><tr><td>280368</td></tr></tbody></table></div>"
      ],
      "text/plain": [
       "shape: (16, 1)\n",
       "┌────────┐\n",
       "│ userId │\n",
       "│ ---    │\n",
       "│ i64    │\n",
       "╞════════╡\n",
       "│ 15     │\n",
       "│ 17748  │\n",
       "│ 35561  │\n",
       "│ 53292  │\n",
       "│ ...    │\n",
       "│ 223464 │\n",
       "│ 244443 │\n",
       "│ 261681 │\n",
       "│ 280368 │\n",
       "└────────┘"
      ]
     },
     "execution_count": 22,
     "metadata": {},
     "output_type": "execute_result"
    }
   ],
   "source": [
    "# Find users who rated input searched movieId high\n",
    "movie_ID = find_movieId.collect()[0]\n",
    "\n",
    "# This scans the entire ratings.csv to get userId(s) from movieId search\n",
    "# who only rated movie with 5 stars\n",
    "\n",
    "find_users = (\n",
    "    pl.scan_csv('../Data/ml-latest/ratings.csv')\n",
    "    .filter(pl.col('movieId') == movie_ID)\n",
    "    .filter(pl.col(\"rating\") >= 5) # This should be adjustable depending on results. If not many 5 star ratings are found, it should adjust to lower ratings\n",
    "    .select(['userId'])\n",
    ")\n",
    "\n",
    "find_users.collect()[::400] # slicing because very many users were found (~6k+)"
   ]
  },
  {
   "cell_type": "code",
   "execution_count": 23,
   "metadata": {},
   "outputs": [
    {
     "data": {
      "text/html": [
       "<div><style>\n",
       ".dataframe > thead > tr > th,\n",
       ".dataframe > tbody > tr > td {\n",
       "  text-align: right;\n",
       "}\n",
       "</style>\n",
       "<small>shape: (16, 1)</small><table border=\"1\" class=\"dataframe\"><thead><tr><th>userId</th></tr><tr><td>i32</td></tr></thead><tbody><tr><td>15</td></tr><tr><td>17748</td></tr><tr><td>35561</td></tr><tr><td>53292</td></tr><tr><td>71019</td></tr><tr><td>90770</td></tr><tr><td>109823</td></tr><tr><td>128838</td></tr><tr><td>147636</td></tr><tr><td>165072</td></tr><tr><td>182686</td></tr><tr><td>202330</td></tr><tr><td>223464</td></tr><tr><td>244443</td></tr><tr><td>261681</td></tr><tr><td>280368</td></tr></tbody></table></div>"
      ],
      "text/plain": [
       "shape: (16, 1)\n",
       "┌────────┐\n",
       "│ userId │\n",
       "│ ---    │\n",
       "│ i32    │\n",
       "╞════════╡\n",
       "│ 15     │\n",
       "│ 17748  │\n",
       "│ 35561  │\n",
       "│ 53292  │\n",
       "│ ...    │\n",
       "│ 223464 │\n",
       "│ 244443 │\n",
       "│ 261681 │\n",
       "│ 280368 │\n",
       "└────────┘"
      ]
     },
     "execution_count": 23,
     "metadata": {},
     "output_type": "execute_result"
    }
   ],
   "source": [
    "# Same thing as above cell, but for the dataframe we merged with genre bools\n",
    "\n",
    "find_users = (\n",
    "    df_inner_join\n",
    "    .filter(pl.col('movieId') == movie_ID)\n",
    "    .filter(pl.col(\"rating\") >= 5) # This should be adjustable depending on results. If not many 5 star ratings are found, it should adjust to lower ratings\n",
    "    .select(['userId'])\n",
    ")\n",
    "\n",
    "find_users[::400] # collect() is not needed when we run it on a df like this"
   ]
  },
  {
   "attachments": {},
   "cell_type": "markdown",
   "metadata": {},
   "source": [
    "## Find movies also rated high by users who rated query movie high"
   ]
  },
  {
   "cell_type": "code",
   "execution_count": 25,
   "metadata": {},
   "outputs": [
    {
     "data": {
      "text/html": [
       "<div><style>\n",
       ".dataframe > thead > tr > th,\n",
       ".dataframe > tbody > tr > td {\n",
       "  text-align: right;\n",
       "}\n",
       "</style>\n",
       "<small>shape: (7, 1)</small><table border=\"1\" class=\"dataframe\"><thead><tr><th>movieId</th></tr><tr><td>i64</td></tr></thead><tbody><tr><td>111</td></tr><tr><td>428</td></tr><tr><td>802</td></tr><tr><td>1032</td></tr><tr><td>1198</td></tr><tr><td>1219</td></tr><tr><td>1270</td></tr></tbody></table></div>"
      ],
      "text/plain": [
       "shape: (7, 1)\n",
       "┌─────────┐\n",
       "│ movieId │\n",
       "│ ---     │\n",
       "│ i64     │\n",
       "╞═════════╡\n",
       "│ 111     │\n",
       "│ 428     │\n",
       "│ 802     │\n",
       "│ 1032    │\n",
       "│ 1198    │\n",
       "│ 1219    │\n",
       "│ 1270    │\n",
       "└─────────┘"
      ]
     },
     "execution_count": 25,
     "metadata": {},
     "output_type": "execute_result"
    }
   ],
   "source": [
    "# Now we take the filter find_users to find which other movies were also rated the highest\n",
    "\n",
    "# For proof of concept, lets just use the first userId who rated input movie 5 stars\n",
    "\n",
    "# TODO: fix this loop. the filter cannot be iterated like this as it replaces for each loop\n",
    "similar_users = find_users\n",
    "\n",
    "for i in range(similar_users.shape[0]):\n",
    "    find_top_movies = (\n",
    "        pl.scan_csv('../Data/ml-latest/ratings.csv')\n",
    "        .filter(pl.col('userId') == similar_users[i])\n",
    "        \n",
    "        # Here we should implement the filter for genre to only get matching genres\n",
    "        .filter(pl.col(\"rating\") >= 5)\n",
    "        .select(['movieId'])\n",
    "    )\n",
    "find_top_movies.collect()[::10] "
   ]
  },
  {
   "cell_type": "code",
   "execution_count": 32,
   "metadata": {},
   "outputs": [
    {
     "data": {
      "text/html": [
       "<div><style>\n",
       ".dataframe > thead > tr > th,\n",
       ".dataframe > tbody > tr > td {\n",
       "  text-align: right;\n",
       "}\n",
       "</style>\n",
       "<small>shape: (5, 1)</small><table border=\"1\" class=\"dataframe\"><thead><tr><th>movieId</th></tr><tr><td>i32</td></tr></thead><tbody><tr><td>296</td></tr><tr><td>356</td></tr><tr><td>778</td></tr><tr><td>1203</td></tr><tr><td>1206</td></tr></tbody></table></div>"
      ],
      "text/plain": [
       "shape: (5, 1)\n",
       "┌─────────┐\n",
       "│ movieId │\n",
       "│ ---     │\n",
       "│ i32     │\n",
       "╞═════════╡\n",
       "│ 296     │\n",
       "│ 356     │\n",
       "│ 778     │\n",
       "│ 1203    │\n",
       "│ 1206    │\n",
       "└─────────┘"
      ]
     },
     "execution_count": 32,
     "metadata": {},
     "output_type": "execute_result"
    }
   ],
   "source": [
    "# Same as above but loops through df_inner_join instead\n",
    "\n",
    "# Just one user as of now\n",
    "similar_users = find_users[0]\n",
    "\n",
    "find_top_movies = (\n",
    "    df_inner_join\n",
    "    .filter(pl.col('userId') == similar_users)\n",
    "    \n",
    "    # Here we should implement the filter for genre to only get matching genres\n",
    "    .filter(pl.col('Drama') == True) # TODO: This should be set by an expression matching get_genre\n",
    "    \n",
    "    .filter(pl.col(\"rating\") >= 5)\n",
    "    .select(['movieId'])\n",
    ")\n",
    "find_top_movies.head()"
   ]
  },
  {
   "cell_type": "code",
   "execution_count": 38,
   "metadata": {},
   "outputs": [
    {
     "data": {
      "text/html": [
       "<div><style>\n",
       ".dataframe > thead > tr > th,\n",
       ".dataframe > tbody > tr > td {\n",
       "  text-align: right;\n",
       "}\n",
       "</style>\n",
       "<small>shape: (1, 1)</small><table border=\"1\" class=\"dataframe\"><thead><tr><th>title</th></tr><tr><td>str</td></tr></thead><tbody><tr><td>&quot;Pulp Fiction (...</td></tr></tbody></table></div>"
      ],
      "text/plain": [
       "shape: (1, 1)\n",
       "┌─────────────────────┐\n",
       "│ title               │\n",
       "│ ---                 │\n",
       "│ str                 │\n",
       "╞═════════════════════╡\n",
       "│ Pulp Fiction (1994) │\n",
       "└─────────────────────┘"
      ]
     },
     "execution_count": 38,
     "metadata": {},
     "output_type": "execute_result"
    }
   ],
   "source": [
    "# Find corresponding Movie (reverse from corresponding movieId)\n",
    "\n",
    "movies_found = find_top_movies.head()\n",
    "\n",
    "find_movie = (\n",
    "    pl.scan_csv('../Data/ml-latest/movies.csv')\n",
    "    .filter(pl.col('movieId') == movies_found[0])\n",
    "    .select(['title'])\n",
    ")\n",
    "\n",
    "find_movie.collect()[0]"
   ]
  },
  {
   "cell_type": "code",
   "execution_count": 39,
   "metadata": {},
   "outputs": [
    {
     "name": "stdout",
     "output_type": "stream",
     "text": [
      "Similar users have enjoyed Pulp Fiction (1994). Watch it?\n"
     ]
    }
   ],
   "source": [
    "print(f'Similar users have enjoyed {find_movie.collect()[0].item()}. Watch it?')"
   ]
  },
  {
   "attachments": {},
   "cell_type": "markdown",
   "metadata": {},
   "source": [
    "I mean, while it's not wrong to reccomend Pulp Fiction in this scenario, it seems like it will be a very common recommendation if the only input from user is 'I like 12 Angry Men'.\n",
    "\n",
    "But we only got recommendation from one user who liked 12 Angry Men. Let's see if we can fix that loop and get multiple users' ratings.\n",
    "\n",
    "Also: It can recommend the same movie, but that should be easy to fix."
   ]
  },
  {
   "attachments": {},
   "cell_type": "markdown",
   "metadata": {},
   "source": [
    "## Echo chamber\n",
    "\n",
    "There seem to be an issue with most popular movies being recommended over and over again.\n",
    "\n",
    "This happens when algorithms and personalized recommendations on social media platforms and other websites show content that aligns with their past behavior or preferences, leading to a reinforcement of their existing beliefs and interests. As a result, popular or trending content may be repeatedly recommended to users who are already interested in that topic, while less popular or more diverse content may be overlooked. This can contribute to a lack of exposure to new ideas and perspectives, and limit opportunities for discovery and growth."
   ]
  }
 ],
 "metadata": {
  "kernelspec": {
   "display_name": "ITHS-AI22-ML-sqO3erDD",
   "language": "python",
   "name": "python3"
  },
  "language_info": {
   "codemirror_mode": {
    "name": "ipython",
    "version": 3
   },
   "file_extension": ".py",
   "mimetype": "text/x-python",
   "name": "python",
   "nbconvert_exporter": "python",
   "pygments_lexer": "ipython3",
   "version": "3.9.16"
  },
  "orig_nbformat": 4
 },
 "nbformat": 4,
 "nbformat_minor": 2
}
