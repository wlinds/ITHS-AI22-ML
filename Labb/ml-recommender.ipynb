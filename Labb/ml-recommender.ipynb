{
 "cells": [
  {
   "attachments": {},
   "cell_type": "markdown",
   "metadata": {},
   "source": [
    "## ML Lab AI22\n",
    "\n",
    "The purpose of this lab is to use the tools you have learned in machine learning to gain knowledge and apply them to various types of problems that you may encounter in the industry. Note that the algorithms and models we build here will be simple, and it is not uncommon in the industry to combine multiple models in solutions. The point of this lab is to gain an understanding of how to approach different types of problems using machine learning.\n",
    "\n",
    "## Parts\n",
    "\n",
    "1. Recommender system\n",
    "2. Disease prediction"
   ]
  },
  {
   "attachments": {},
   "cell_type": "markdown",
   "metadata": {},
   "source": [
    "## Recommender system\n",
    "When you watch Youtube, order food online, buy books online, listen to Spotify, use LinkedIn, you constantly receive recommendations for new videos, dishes, etc. What is behind these recommendations is a type of <a href=\"https://en.wikipedia.org/wiki/Recommender_system\">recommender system</a>.\n",
    "\n",
    "## 1.0 Warm up\n",
    "Börja med att kolla på <a href=\"https://www.youtube.com/watch?v=4Ws0oPH350U\">denna youtube-video</a> och följ efter i kod för att skapa ett enkelt recommender system för filmer med hjälp av KNN. Datasetet som används i videon är från movielens small som består av 100,000 ratings på 9000 filmer och 600 användare.\n",
    "\n",
    "\n",
    "## 1.1 Movielens full - EDA\n",
    "Nu ska du ladda ned datasetet <a href=\"https://grouplens.org/datasets/movielens/\">ml-latest.zip</a> under sektionen \"recommended for education and development\". Läs in dataseten \"movies.csv\" och \"ratings.csv\" besvara på följande frågorna nedan.\n",
    "\n",
    "a) Gör en EDA för att förstå datasetet. Inkludera olika slags plots. Begränsa dig inte till frågorna nedan, utan försök undersöka fler aspekter av datan.\n",
    "\n",
    "b) Vilka är de 10 filmerna med flest ratings?\n",
    "\n",
    "c) Beräkna den genomsnittliga ratingen för dessa 10 filmerna med flest ratings.\n",
    "\n",
    "d) Gör en plot över årtal och antalet filmer representerade i datasetet. \n",
    "\n",
    "e) Gör en plot över antalet ratings mot movieId.\n",
    "\n",
    "f) Beräkna genomsnittliga ratings för de top 10 filmerna med flest ratings. Gör ett stapeldiagram över dessa."
   ]
  },
  {
   "attachments": {},
   "cell_type": "markdown",
   "metadata": {},
   "source": [
    "## 1.2 Skapa gles matris\n",
    "\n",
    "Likt i videon i uppgift 1.0 skapade du en pivottabell av dataframet med index: \"movieId\", columns: \"userId\" och values: \"ratings\". Denna pivottabell är dock \"dyr\" att skapa och förmodligen kommer inte din dator att klara av skapa den om du inte filtrerar bort viss data. Fundera ut ett lämpligt sätt att filtrera ditt dataset, pröva dig fram och motivera.\n",
    "Skapa en gles (sparse) matris av denna pivottabell ```scipy.sparse.csc_matrix()```"
   ]
  },
  {
   "attachments": {},
   "cell_type": "markdown",
   "metadata": {},
   "source": [
    "## 1.3 Recommender system    \n",
    "\n",
    "Skapa ett recommender system med KNN och låt systemet ta input från användaren och skriva ut top 5 rekommenderade filmerna, baserat på användarens sökquery. Observera att det finns ett logiskt fel i videon som gör att rekommendationerna inte blir så bra, försök hitta felet och åtgärda det.\n",
    "\n",
    "a) Beskriv med ord hur dit system funkar\n",
    "\n",
    "b) Leta online och läs vidare om rekommenderarsystem och beskriv kort hur dem fungerar. Glöm inte källhänvisa"
   ]
  }
 ],
 "metadata": {
  "kernelspec": {
   "display_name": "ITHS-AI22-ML-sqO3erDD",
   "language": "python",
   "name": "python3"
  },
  "language_info": {
   "codemirror_mode": {
    "name": "ipython",
    "version": 3
   },
   "file_extension": ".py",
   "mimetype": "text/x-python",
   "name": "python",
   "nbconvert_exporter": "python",
   "pygments_lexer": "ipython3",
   "version": "3.9.13"
  },
  "orig_nbformat": 4
 },
 "nbformat": 4,
 "nbformat_minor": 2
}
