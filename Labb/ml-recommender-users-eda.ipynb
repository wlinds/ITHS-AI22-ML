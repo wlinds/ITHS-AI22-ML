{
 "cells": [
  {
   "cell_type": "code",
   "execution_count": 79,
   "metadata": {},
   "outputs": [],
   "source": [
    "import pandas as pd\n",
    "import numpy as np\n",
    "\n",
    "ratings='../Data/ml-latest/ratings.csv'\n",
    "\n",
    "df_ratings=pd.read_csv(ratings, usecols=['userId','movieId','rating'],\n",
    "    dtype={\n",
    "        'userId':'int32',\n",
    "        'movieId':'int32',\n",
    "        'rating':'float32',\n",
    "        }\n",
    "    )"
   ]
  },
  {
   "cell_type": "code",
   "execution_count": 81,
   "metadata": {},
   "outputs": [
    {
     "name": "stdout",
     "output_type": "stream",
     "text": [
      "<class 'pandas.core.frame.DataFrame'>\n",
      "RangeIndex: 27753444 entries, 0 to 27753443\n",
      "Data columns (total 3 columns):\n",
      " #   Column   Dtype  \n",
      "---  ------   -----  \n",
      " 0   userId   int32  \n",
      " 1   movieId  int32  \n",
      " 2   rating   float32\n",
      "dtypes: float32(1), int32(2)\n",
      "memory usage: 317.6 MB\n"
     ]
    }
   ],
   "source": [
    "df_ratings.info()"
   ]
  },
  {
   "cell_type": "code",
   "execution_count": 80,
   "metadata": {},
   "outputs": [
    {
     "data": {
      "text/plain": [
       "283228"
      ]
     },
     "execution_count": 80,
     "metadata": {},
     "output_type": "execute_result"
    }
   ],
   "source": [
    "total_users = len(df_ratings.groupby('userId').count())\n",
    "total_users"
   ]
  },
  {
   "cell_type": "code",
   "execution_count": 54,
   "metadata": {},
   "outputs": [
    {
     "data": {
      "text/plain": [
       "97.98976089934611"
      ]
     },
     "execution_count": 54,
     "metadata": {},
     "output_type": "execute_result"
    }
   ],
   "source": [
    "avg_ratings_per_user = df_ratings.groupby('userId')['rating'].count().mean()\n",
    "avg_ratings_per_user"
   ]
  },
  {
   "attachments": {},
   "cell_type": "markdown",
   "metadata": {},
   "source": [
    "The average amount of rating is 98, well let's say 100. But there are some outliers as we will see. "
   ]
  },
  {
   "cell_type": "code",
   "execution_count": 57,
   "metadata": {},
   "outputs": [
    {
     "data": {
      "text/plain": [
       "1.5     441354\n",
       "0.5     442388\n",
       "1.0     886233\n",
       "2.5    1373419\n",
       "2.0    1850627\n",
       "4.5    2373550\n",
       "3.5    3404360\n",
       "5.0    4071135\n",
       "3.0    5515668\n",
       "4.0    7394710\n",
       "Name: rating, dtype: int64"
      ]
     },
     "execution_count": 57,
     "metadata": {},
     "output_type": "execute_result"
    }
   ],
   "source": [
    "rating_count = df_ratings['rating'].value_counts()\n",
    "rating_count.sort_values()"
   ]
  },
  {
   "attachments": {},
   "cell_type": "markdown",
   "metadata": {},
   "source": [
    "Wide spread in amount of ratings, with 4 stars being submitted the most and 1.5 the least.\n",
    "\n",
    "---\n",
    "\n",
    "## Upper bound of user ratings\n",
    "\n",
    "Let's have a look at the most dedicated movie raters."
   ]
  },
  {
   "cell_type": "code",
   "execution_count": 39,
   "metadata": {},
   "outputs": [
    {
     "name": "stdout",
     "output_type": "stream",
     "text": [
      "User 123100 has rated the most movies, with 23715 ratings.\n"
     ]
    }
   ],
   "source": [
    "user_ratings_counts = df_ratings.groupby('userId').count()['rating']    # group ratings by userId, count n of ratings for each user\n",
    "user_with_most_ratings = user_ratings_counts.idxmax()                   # find the index of the user with the most ratings\n",
    "\n",
    "print(f'User {user_with_most_ratings} has rated the most movies, with {user_ratings_counts[user_with_most_ratings]} ratings.')"
   ]
  },
  {
   "cell_type": "code",
   "execution_count": 87,
   "metadata": {},
   "outputs": [
    {
     "name": "stdout",
     "output_type": "stream",
     "text": [
      "11 users found with > 5500 ratings made:\n",
      "User 63783: 6346 ratings\n",
      "User 77609: 6398 ratings\n",
      "User 111908: 6645 ratings\n",
      "User 117490: 9279 ratings\n",
      "User 123100: 23715 ratings\n",
      "User 134596: 8381 ratings\n",
      "User 141955: 5810 ratings\n",
      "User 158002: 5701 ratings\n",
      "User 172357: 5868 ratings\n",
      "User 212343: 7884 ratings\n",
      "User 242683: 7515 ratings\n"
     ]
    }
   ],
   "source": [
    "n = 5500\n",
    "users_found = df_ratings.groupby('userId')['rating'].count()\n",
    "users_found = users_found[users_found > n]\n",
    "print(f'{len(users_found)} users found with > {n} ratings made:')\n",
    "\n",
    "top_dedicated = [] # we'll use this later\n",
    "\n",
    "for user_id, num_ratings in users_found.items():\n",
    "    print(f'User {user_id}: {num_ratings} ratings')\n",
    "    top_dedicated.append(user_id)\n"
   ]
  },
  {
   "attachments": {},
   "cell_type": "markdown",
   "metadata": {},
   "source": [
    "We have this one user who rated over 23,000 movies. It's not until in the ~6000 ratings range where the tail of the other users seem to begin."
   ]
  },
  {
   "cell_type": "code",
   "execution_count": 73,
   "metadata": {},
   "outputs": [
    {
     "name": "stdout",
     "output_type": "stream",
     "text": [
      "2782 users found with >= 1000 ratings made.\n"
     ]
    }
   ],
   "source": [
    "n = 1000\n",
    "users_with_n_ratings = user_ratings_counts[user_ratings_counts >= n].index.tolist()  # select users with => n ratings\n",
    "print(f'{len(users_with_n_ratings)} users found with >= {n} ratings made.')"
   ]
  },
  {
   "cell_type": "code",
   "execution_count": 43,
   "metadata": {},
   "outputs": [
    {
     "name": "stdout",
     "output_type": "stream",
     "text": [
      "68342 users found with >= 100 ratings made.\n"
     ]
    }
   ],
   "source": [
    "users_with_n_ratings = user_ratings_counts[user_ratings_counts >= n].index.tolist()  # select users with => n ratings\n",
    "print(f'{len(users_with_n_ratings)} users found with >= {n} ratings made.')"
   ]
  },
  {
   "cell_type": "code",
   "execution_count": 52,
   "metadata": {},
   "outputs": [
    {
     "name": "stdout",
     "output_type": "stream",
     "text": [
      "424 users found with >= 2000 ratings made.\n"
     ]
    }
   ],
   "source": [
    "n = 2000\n",
    "users_with_n_ratings = user_ratings_counts[user_ratings_counts >= n].index.tolist()  # select users with => n ratings\n",
    "print(f'{len(users_with_n_ratings)} users found with >= {n} ratings made.')"
   ]
  },
  {
   "attachments": {},
   "cell_type": "markdown",
   "metadata": {},
   "source": [
    "# Lower bound of user ratings"
   ]
  },
  {
   "cell_type": "code",
   "execution_count": 93,
   "metadata": {},
   "outputs": [
    {
     "name": "stdout",
     "output_type": "stream",
     "text": [
      "173556 users found with < 50 ratings made.\n"
     ]
    }
   ],
   "source": [
    "n = 50\n",
    "users_with_few_ratings = user_ratings_counts[user_ratings_counts < n].index.tolist()  # select users with < n ratings\n",
    "print(f'{len(users_with_few_ratings)} users found with < {n} ratings made.')"
   ]
  },
  {
   "attachments": {},
   "cell_type": "markdown",
   "metadata": {},
   "source": [
    "## Users who rated movies low or very low"
   ]
  },
  {
   "cell_type": "code",
   "execution_count": 86,
   "metadata": {},
   "outputs": [
    {
     "name": "stdout",
     "output_type": "stream",
     "text": [
      "User 94843 has the most negative ratings, with 3099 0.5 star ratings.\n"
     ]
    }
   ],
   "source": [
    "df_ratings_05 = df_ratings[df_ratings['rating'] == 0.5]     # select all rows with a rating of 0.5\n",
    "\n",
    "user_05_ratings_counts = df_ratings_05.groupby('userId').count()['rating']  # count number of 0.5 ratings for each user\n",
    "\n",
    "user_with_most_05_ratings = user_05_ratings_counts.idxmax()\n",
    "\n",
    "print(f'User {user_with_most_05_ratings} has the most negative ratings, with {user_05_ratings_counts.loc[user_with_most_05_ratings]} 0.5 star ratings.')"
   ]
  },
  {
   "cell_type": "code",
   "execution_count": 83,
   "metadata": {},
   "outputs": [
    {
     "name": "stdout",
     "output_type": "stream",
     "text": [
      "         userId  movieId  rating\n",
      "9191555   94843        1     1.0\n",
      "9191556   94843        2     3.0\n",
      "9191557   94843        3     0.5\n",
      "9191558   94843        4     0.5\n",
      "9191559   94843        5     0.5\n",
      "...         ...      ...     ...\n",
      "9196680   94843   192113     0.5\n",
      "9196681   94843   192115     0.5\n",
      "9196682   94843   192117     0.5\n",
      "9196683   94843   192119     0.5\n",
      "9196684   94843   192121     0.5\n",
      "\n",
      "[5130 rows x 3 columns]\n"
     ]
    }
   ],
   "source": [
    "user_id = 94843\n",
    "user_ratings = df_ratings[df_ratings['userId'] == user_id]\n",
    "print(user_ratings)\n"
   ]
  },
  {
   "cell_type": "code",
   "execution_count": 84,
   "metadata": {},
   "outputs": [
    {
     "data": {
      "text/plain": [
       "userId  movieId  rating\n",
       "94843   1        1.0       1\n",
       "        65802    0.5       1\n",
       "        60363    0.5       1\n",
       "        60333    0.5       1\n",
       "        60161    3.0       1\n",
       "                          ..\n",
       "        3101     2.5       1\n",
       "        3100     0.5       1\n",
       "        3098     0.5       1\n",
       "        3097     0.5       1\n",
       "        192121   0.5       1\n",
       "Length: 5130, dtype: int64"
      ]
     },
     "execution_count": 84,
     "metadata": {},
     "output_type": "execute_result"
    }
   ],
   "source": [
    "user_ratings.value_counts()"
   ]
  },
  {
   "cell_type": "code",
   "execution_count": 47,
   "metadata": {},
   "outputs": [
    {
     "name": "stdout",
     "output_type": "stream",
     "text": [
      "          userId  movieId  rating\n",
      "22130        220      410     0.5\n",
      "31974        309      303     0.5\n",
      "31975        309      315     0.5\n",
      "31976        309      485     0.5\n",
      "31977        309      543     0.5\n",
      "...          ...      ...     ...\n",
      "27692816  282520     1376     0.5\n",
      "27692817  282520     1396     0.5\n",
      "27692818  282520     1639     0.5\n",
      "27692819  282520     2699     0.5\n",
      "27692820  282520     5060     0.5\n",
      "\n",
      "[1182 rows x 3 columns]\n"
     ]
    }
   ],
   "source": [
    "users_with_only_05 = df_ratings.groupby('userId')['rating'].nunique() == 1\n",
    "users_with_only_05 = users_with_only_05[users_with_only_05].index\n",
    "users_with_only_05_05 = df_ratings[(df_ratings['userId'].isin(users_with_only_05)) & (df_ratings['rating'] == 0.5)]\n",
    "\n",
    "print(users_with_only_05_05)\n"
   ]
  },
  {
   "attachments": {},
   "cell_type": "markdown",
   "metadata": {},
   "source": [
    "## Users who only leaves 5 star reviews"
   ]
  },
  {
   "cell_type": "code",
   "execution_count": 91,
   "metadata": {},
   "outputs": [
    {
     "name": "stdout",
     "output_type": "stream",
     "text": [
      "          userId  movieId  rating\n",
      "938            9     2858     5.0\n",
      "14087        142       50     5.0\n",
      "14088        142      318     5.0\n",
      "14089        142      356     5.0\n",
      "14090        142      527     5.0\n",
      "...          ...      ...     ...\n",
      "27744187  283119     1197     5.0\n",
      "27744188  283119     1907     5.0\n",
      "27744189  283119     1909     5.0\n",
      "27744190  283119     2006     5.0\n",
      "27747952  283169     1721     5.0\n",
      "\n",
      "[22745 rows x 3 columns]\n"
     ]
    }
   ],
   "source": [
    "users_with_only_5 = df_ratings.groupby('userId')['rating'].nunique() == 1\n",
    "users_with_only_5 = users_with_only_5[users_with_only_5].index\n",
    "users_with_only_5_5 = df_ratings[(df_ratings['userId'].isin(users_with_only_5)) & (df_ratings['rating'] == 5)]\n",
    "\n",
    "print(users_with_only_5_5)"
   ]
  },
  {
   "cell_type": "code",
   "execution_count": 94,
   "metadata": {},
   "outputs": [
    {
     "name": "stderr",
     "output_type": "stream",
     "text": [
      "/var/folders/5h/sxsv24qn7px_bth2j_yzldlr0000gn/T/ipykernel_12655/3150183408.py:2: UserWarning: Boolean Series key will be reindexed to match DataFrame index.\n",
      "  remove_low_ratings = remove_top[~df_ratings['userId'].isin(users_with_only_05_05)]              # remove all users who ONLY rated movies 0.5\n",
      "/var/folders/5h/sxsv24qn7px_bth2j_yzldlr0000gn/T/ipykernel_12655/3150183408.py:3: UserWarning: Boolean Series key will be reindexed to match DataFrame index.\n",
      "  remove_high_ratings = remove_low_ratings[~df_ratings['userId'].isin(users_with_only_5_5)]       # remove all users who ONLY rated movies 5\n",
      "/var/folders/5h/sxsv24qn7px_bth2j_yzldlr0000gn/T/ipykernel_12655/3150183408.py:4: UserWarning: Boolean Series key will be reindexed to match DataFrame index.\n",
      "  remove_few_raters = remove_high_ratings[~df_ratings['userId'].isin(users_with_few_ratings)]     # remove all users with less than 50 ratings made\n"
     ]
    },
    {
     "data": {
      "text/plain": [
       "222.55275804524854"
      ]
     },
     "execution_count": 94,
     "metadata": {},
     "output_type": "execute_result"
    }
   ],
   "source": [
    "remove_top = df_ratings[~df_ratings['userId'].isin(top_dedicated)]                              # remove all users with more than 6000 ratings made\n",
    "remove_low_ratings = remove_top[~df_ratings['userId'].isin(users_with_only_05_05)]              # remove all users who ONLY rated movies 0.5\n",
    "remove_high_ratings = remove_low_ratings[~df_ratings['userId'].isin(users_with_only_5_5)]       # remove all users who ONLY rated movies 5\n",
    "remove_few_raters = remove_high_ratings[~df_ratings['userId'].isin(users_with_few_ratings)]     # remove all users with less than 50 ratings made\n",
    "\n",
    "new_avg_ratings_per_user = remove_few_raters.groupby('userId')['rating'].count().mean()\n",
    "\n",
    "new_avg_ratings_per_user"
   ]
  },
  {
   "attachments": {},
   "cell_type": "markdown",
   "metadata": {},
   "source": [
    "## Some ideas to get a better mean rating and make the data more manageable\n",
    "\n",
    "- Remove users who rated >6000 movies\n",
    "\n",
    "- Remove users who rated <50 movies\n",
    "\n",
    "- Remove users who only gave 0.5 star ratings\n",
    "\n",
    "- Remove users who only gave 5 star ratings\n",
    "\n",
    "- Set upper bound for amount of ratins"
   ]
  }
 ],
 "metadata": {
  "kernelspec": {
   "display_name": "ITHS-AI22-ML-sqO3erDD",
   "language": "python",
   "name": "python3"
  },
  "language_info": {
   "codemirror_mode": {
    "name": "ipython",
    "version": 3
   },
   "file_extension": ".py",
   "mimetype": "text/x-python",
   "name": "python",
   "nbconvert_exporter": "python",
   "pygments_lexer": "ipython3",
   "version": "3.9.13"
  },
  "orig_nbformat": 4
 },
 "nbformat": 4,
 "nbformat_minor": 2
}
