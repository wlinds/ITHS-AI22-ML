{
 "cells": [
  {
   "cell_type": "code",
   "execution_count": 1,
   "metadata": {},
   "outputs": [],
   "source": [
    "import pandas as pd\n",
    "import numpy as np\n",
    "\n",
    "ratings='../Data/ml-latest/ratings.csv'\n",
    "movies='../Data/ml-latest/movies.csv'\n",
    "\n",
    "df_ratings=pd.read_csv(ratings, usecols=['movieId','userId','rating'],\n",
    "    dtype={\n",
    "        'movieId':'int32',\n",
    "        'userId':'int32',\n",
    "        'rating':'float32',\n",
    "        }\n",
    "    )\n",
    "\n",
    "df_movies=pd.read_csv(movies, usecols=['movieId','genres','title'],\n",
    "    dtype={\n",
    "        'movieId':'int32',\n",
    "        'genres':'str',\n",
    "        'title':'str',\n",
    "        }\n",
    "    )"
   ]
  },
  {
   "cell_type": "code",
   "execution_count": 2,
   "metadata": {},
   "outputs": [
    {
     "name": "stdout",
     "output_type": "stream",
     "text": [
      "<class 'pandas.core.frame.DataFrame'>\n",
      "RangeIndex: 27753444 entries, 0 to 27753443\n",
      "Data columns (total 3 columns):\n",
      " #   Column   Dtype  \n",
      "---  ------   -----  \n",
      " 0   userId   int32  \n",
      " 1   movieId  int32  \n",
      " 2   rating   float32\n",
      "dtypes: float32(1), int32(2)\n",
      "memory usage: 317.6 MB\n"
     ]
    }
   ],
   "source": [
    "df_ratings.info()"
   ]
  },
  {
   "cell_type": "code",
   "execution_count": 3,
   "metadata": {},
   "outputs": [
    {
     "data": {
      "text/plain": [
       "283228"
      ]
     },
     "execution_count": 3,
     "metadata": {},
     "output_type": "execute_result"
    }
   ],
   "source": [
    "total_users = len(df_ratings['userId'].unique()) # same as len(df_ratings.groupby('userId').count())\n",
    "total_users"
   ]
  },
  {
   "cell_type": "code",
   "execution_count": 4,
   "metadata": {},
   "outputs": [],
   "source": [
    "avg_ratings_per_user = df_ratings.groupby('userId')['rating'].count().mean()"
   ]
  },
  {
   "attachments": {},
   "cell_type": "markdown",
   "metadata": {},
   "source": [
    "The average amount of rating is 98, well let's say 100."
   ]
  },
  {
   "cell_type": "code",
   "execution_count": 5,
   "metadata": {},
   "outputs": [
    {
     "data": {
      "text/plain": [
       "4.0    7394710\n",
       "3.0    5515668\n",
       "5.0    4071135\n",
       "3.5    3404360\n",
       "4.5    2373550\n",
       "2.0    1850627\n",
       "2.5    1373419\n",
       "1.0     886233\n",
       "0.5     442388\n",
       "1.5     441354\n",
       "Name: rating, dtype: int64"
      ]
     },
     "execution_count": 5,
     "metadata": {},
     "output_type": "execute_result"
    }
   ],
   "source": [
    "rating_count = df_ratings['rating'].value_counts()\n",
    "rating_count"
   ]
  },
  {
   "attachments": {},
   "cell_type": "markdown",
   "metadata": {},
   "source": [
    "Wide spread in amount of ratings, with 4 stars being submitted the most and 1.5 the least.\n",
    "\n",
    "## Creating df for genres, titles and release year"
   ]
  },
  {
   "cell_type": "code",
   "execution_count": 6,
   "metadata": {},
   "outputs": [],
   "source": [
    "df = df_movies['genres'].str.get_dummies('|')          # Split the genres column into boolean columns\n",
    "df.drop('(no genres listed)', axis=1, inplace=True)    # Drop movies with no genre listed\n",
    "df = pd.concat([df, df_movies], axis=1)                # Join with original df_movies\n",
    "df.drop('genres', axis=1, inplace=True)                # Drop original column with genres\n",
    "\n",
    "import re\n",
    "df['year'] = df['title'].str.extract(                   # Create new column with year extracted\n",
    "        r'\\((\\d{4})\\)', expand=False)\n",
    "        \n",
    "df['title'] = df['title'].str.replace(                  # Remove year from title column\n",
    "        r' \\(\\d{4}\\)', '', regex=True)"
   ]
  },
  {
   "cell_type": "code",
   "execution_count": 7,
   "metadata": {},
   "outputs": [
    {
     "data": {
      "text/html": [
       "<div>\n",
       "<style scoped>\n",
       "    .dataframe tbody tr th:only-of-type {\n",
       "        vertical-align: middle;\n",
       "    }\n",
       "\n",
       "    .dataframe tbody tr th {\n",
       "        vertical-align: top;\n",
       "    }\n",
       "\n",
       "    .dataframe thead th {\n",
       "        text-align: right;\n",
       "    }\n",
       "</style>\n",
       "<table border=\"1\" class=\"dataframe\">\n",
       "  <thead>\n",
       "    <tr style=\"text-align: right;\">\n",
       "      <th></th>\n",
       "      <th>Action</th>\n",
       "      <th>Adventure</th>\n",
       "      <th>Animation</th>\n",
       "      <th>Children</th>\n",
       "      <th>Comedy</th>\n",
       "      <th>Crime</th>\n",
       "      <th>Documentary</th>\n",
       "      <th>Drama</th>\n",
       "      <th>Fantasy</th>\n",
       "      <th>Film-Noir</th>\n",
       "      <th>...</th>\n",
       "      <th>Musical</th>\n",
       "      <th>Mystery</th>\n",
       "      <th>Romance</th>\n",
       "      <th>Sci-Fi</th>\n",
       "      <th>Thriller</th>\n",
       "      <th>War</th>\n",
       "      <th>Western</th>\n",
       "      <th>movieId</th>\n",
       "      <th>title</th>\n",
       "      <th>year</th>\n",
       "    </tr>\n",
       "  </thead>\n",
       "  <tbody>\n",
       "    <tr>\n",
       "      <th>0</th>\n",
       "      <td>0</td>\n",
       "      <td>1</td>\n",
       "      <td>1</td>\n",
       "      <td>1</td>\n",
       "      <td>1</td>\n",
       "      <td>0</td>\n",
       "      <td>0</td>\n",
       "      <td>0</td>\n",
       "      <td>1</td>\n",
       "      <td>0</td>\n",
       "      <td>...</td>\n",
       "      <td>0</td>\n",
       "      <td>0</td>\n",
       "      <td>0</td>\n",
       "      <td>0</td>\n",
       "      <td>0</td>\n",
       "      <td>0</td>\n",
       "      <td>0</td>\n",
       "      <td>1</td>\n",
       "      <td>Toy Story</td>\n",
       "      <td>1995</td>\n",
       "    </tr>\n",
       "    <tr>\n",
       "      <th>1</th>\n",
       "      <td>0</td>\n",
       "      <td>1</td>\n",
       "      <td>0</td>\n",
       "      <td>1</td>\n",
       "      <td>0</td>\n",
       "      <td>0</td>\n",
       "      <td>0</td>\n",
       "      <td>0</td>\n",
       "      <td>1</td>\n",
       "      <td>0</td>\n",
       "      <td>...</td>\n",
       "      <td>0</td>\n",
       "      <td>0</td>\n",
       "      <td>0</td>\n",
       "      <td>0</td>\n",
       "      <td>0</td>\n",
       "      <td>0</td>\n",
       "      <td>0</td>\n",
       "      <td>2</td>\n",
       "      <td>Jumanji</td>\n",
       "      <td>1995</td>\n",
       "    </tr>\n",
       "    <tr>\n",
       "      <th>2</th>\n",
       "      <td>0</td>\n",
       "      <td>0</td>\n",
       "      <td>0</td>\n",
       "      <td>0</td>\n",
       "      <td>1</td>\n",
       "      <td>0</td>\n",
       "      <td>0</td>\n",
       "      <td>0</td>\n",
       "      <td>0</td>\n",
       "      <td>0</td>\n",
       "      <td>...</td>\n",
       "      <td>0</td>\n",
       "      <td>0</td>\n",
       "      <td>1</td>\n",
       "      <td>0</td>\n",
       "      <td>0</td>\n",
       "      <td>0</td>\n",
       "      <td>0</td>\n",
       "      <td>3</td>\n",
       "      <td>Grumpier Old Men</td>\n",
       "      <td>1995</td>\n",
       "    </tr>\n",
       "    <tr>\n",
       "      <th>3</th>\n",
       "      <td>0</td>\n",
       "      <td>0</td>\n",
       "      <td>0</td>\n",
       "      <td>0</td>\n",
       "      <td>1</td>\n",
       "      <td>0</td>\n",
       "      <td>0</td>\n",
       "      <td>1</td>\n",
       "      <td>0</td>\n",
       "      <td>0</td>\n",
       "      <td>...</td>\n",
       "      <td>0</td>\n",
       "      <td>0</td>\n",
       "      <td>1</td>\n",
       "      <td>0</td>\n",
       "      <td>0</td>\n",
       "      <td>0</td>\n",
       "      <td>0</td>\n",
       "      <td>4</td>\n",
       "      <td>Waiting to Exhale</td>\n",
       "      <td>1995</td>\n",
       "    </tr>\n",
       "    <tr>\n",
       "      <th>4</th>\n",
       "      <td>0</td>\n",
       "      <td>0</td>\n",
       "      <td>0</td>\n",
       "      <td>0</td>\n",
       "      <td>1</td>\n",
       "      <td>0</td>\n",
       "      <td>0</td>\n",
       "      <td>0</td>\n",
       "      <td>0</td>\n",
       "      <td>0</td>\n",
       "      <td>...</td>\n",
       "      <td>0</td>\n",
       "      <td>0</td>\n",
       "      <td>0</td>\n",
       "      <td>0</td>\n",
       "      <td>0</td>\n",
       "      <td>0</td>\n",
       "      <td>0</td>\n",
       "      <td>5</td>\n",
       "      <td>Father of the Bride Part II</td>\n",
       "      <td>1995</td>\n",
       "    </tr>\n",
       "  </tbody>\n",
       "</table>\n",
       "<p>5 rows × 22 columns</p>\n",
       "</div>"
      ],
      "text/plain": [
       "   Action  Adventure  Animation  Children  Comedy  Crime  Documentary  Drama  \\\n",
       "0       0          1          1         1       1      0            0      0   \n",
       "1       0          1          0         1       0      0            0      0   \n",
       "2       0          0          0         0       1      0            0      0   \n",
       "3       0          0          0         0       1      0            0      1   \n",
       "4       0          0          0         0       1      0            0      0   \n",
       "\n",
       "   Fantasy  Film-Noir  ...  Musical  Mystery  Romance  Sci-Fi  Thriller  War  \\\n",
       "0        1          0  ...        0        0        0       0         0    0   \n",
       "1        1          0  ...        0        0        0       0         0    0   \n",
       "2        0          0  ...        0        0        1       0         0    0   \n",
       "3        0          0  ...        0        0        1       0         0    0   \n",
       "4        0          0  ...        0        0        0       0         0    0   \n",
       "\n",
       "   Western  movieId                        title  year  \n",
       "0        0        1                    Toy Story  1995  \n",
       "1        0        2                      Jumanji  1995  \n",
       "2        0        3             Grumpier Old Men  1995  \n",
       "3        0        4            Waiting to Exhale  1995  \n",
       "4        0        5  Father of the Bride Part II  1995  \n",
       "\n",
       "[5 rows x 22 columns]"
      ]
     },
     "execution_count": 7,
     "metadata": {},
     "output_type": "execute_result"
    }
   ],
   "source": [
    "df.head()"
   ]
  },
  {
   "attachments": {},
   "cell_type": "markdown",
   "metadata": {},
   "source": [
    "### Find most popular genres"
   ]
  },
  {
   "cell_type": "code",
   "execution_count": 8,
   "metadata": {},
   "outputs": [
    {
     "data": {
      "text/plain": [
       "Drama          24144\n",
       "Comedy         15956\n",
       "Thriller        8216\n",
       "Romance         7412\n",
       "Action          7130\n",
       "Horror          5555\n",
       "Documentary     5118\n",
       "Crime           5105\n",
       "Adventure       4067\n",
       "Sci-Fi          3444\n",
       "Mystery         2773\n",
       "Children        2749\n",
       "Animation       2663\n",
       "Fantasy         2637\n",
       "War             1820\n",
       "Western         1378\n",
       "Musical         1113\n",
       "Film-Noir        364\n",
       "IMAX             197\n",
       "dtype: int64"
      ]
     },
     "execution_count": 8,
     "metadata": {},
     "output_type": "execute_result"
    }
   ],
   "source": [
    "all_genres = df.drop(['title', 'year'], axis=1)\n",
    "all_genres.loc[:,all_genres.columns != 'movieId'].sum().sort_values(ascending=False)\n"
   ]
  },
  {
   "attachments": {},
   "cell_type": "markdown",
   "metadata": {},
   "source": [
    "Not sure if IMAX really is a genre. It's more of an exclusive proprietary system. I'm gonna drop that column. Lets first make sure there are no movies which only has the IMAX genre:"
   ]
  },
  {
   "cell_type": "code",
   "execution_count": 9,
   "metadata": {},
   "outputs": [
    {
     "name": "stdout",
     "output_type": "stream",
     "text": [
      "Dropped column.\n"
     ]
    }
   ],
   "source": [
    "#num_imax_movies = (df.sum(axis=1) == 1).sum()\n",
    "\n",
    "if (num_imax_movies := (all_genres.sum(axis=1) == 1).sum()) == 0:\n",
    "    print(f\"Dropped column.\")\n",
    "    df.drop(['IMAX'], axis=1, inplace=True)\n",
    "    all_genres.drop(['IMAX'], axis=1, inplace=True)\n",
    "    \n",
    "else:\n",
    "    print(\"Not dropped\")\n",
    "    print(f\"{num_imax_movies} movies have only the IMAX column equal to 1.\")"
   ]
  },
  {
   "cell_type": "code",
   "execution_count": 10,
   "metadata": {},
   "outputs": [
    {
     "data": {
      "image/png": "[encoded data removed]",
      "text/plain": [
       "<Figure size 1200x800 with 1 Axes>"
      ]
     },
     "metadata": {},
     "output_type": "display_data"
    }
   ],
   "source": [
    "# Speaking of genres, I don't think I plotted this yet?\n",
    "\n",
    "import seaborn as sns\n",
    "import matplotlib.pyplot as plt\n",
    "\n",
    "genre_counts = all_genres.loc[:,all_genres.columns != 'movieId'].sum().sort_values(ascending=False)\n",
    "\n",
    "plt.figure(figsize=(12,8))\n",
    "sns.set_style(\"whitegrid\")\n",
    "sns.set_palette(\"pastel\")\n",
    "sns.set(font_scale=1.5, rc={\"font.family\": \"Helvetica Neue\"})\n",
    "sns.barplot(x=genre_counts.index, y=genre_counts.values)\n",
    "plt.xticks(rotation=45, ha='right', fontsize=12)\n",
    "plt.yticks(fontsize=12)\n",
    "plt.tight_layout()\n",
    "plt.show()\n"
   ]
  },
  {
   "cell_type": "code",
   "execution_count": 11,
   "metadata": {},
   "outputs": [
    {
     "data": {
      "text/html": [
       "<div>\n",
       "<style scoped>\n",
       "    .dataframe tbody tr th:only-of-type {\n",
       "        vertical-align: middle;\n",
       "    }\n",
       "\n",
       "    .dataframe tbody tr th {\n",
       "        vertical-align: top;\n",
       "    }\n",
       "\n",
       "    .dataframe thead th {\n",
       "        text-align: right;\n",
       "    }\n",
       "</style>\n",
       "<table border=\"1\" class=\"dataframe\">\n",
       "  <thead>\n",
       "    <tr style=\"text-align: right;\">\n",
       "      <th></th>\n",
       "      <th>Action</th>\n",
       "      <th>Adventure</th>\n",
       "      <th>Animation</th>\n",
       "      <th>Children</th>\n",
       "      <th>Comedy</th>\n",
       "      <th>Crime</th>\n",
       "      <th>Documentary</th>\n",
       "      <th>Drama</th>\n",
       "      <th>Fantasy</th>\n",
       "      <th>Film-Noir</th>\n",
       "      <th>...</th>\n",
       "      <th>Musical</th>\n",
       "      <th>Mystery</th>\n",
       "      <th>Romance</th>\n",
       "      <th>Sci-Fi</th>\n",
       "      <th>Thriller</th>\n",
       "      <th>War</th>\n",
       "      <th>Western</th>\n",
       "      <th>movieId</th>\n",
       "      <th>title</th>\n",
       "      <th>year</th>\n",
       "    </tr>\n",
       "  </thead>\n",
       "  <tbody>\n",
       "    <tr>\n",
       "      <th>58093</th>\n",
       "      <td>0</td>\n",
       "      <td>0</td>\n",
       "      <td>0</td>\n",
       "      <td>0</td>\n",
       "      <td>0</td>\n",
       "      <td>0</td>\n",
       "      <td>0</td>\n",
       "      <td>0</td>\n",
       "      <td>0</td>\n",
       "      <td>0</td>\n",
       "      <td>...</td>\n",
       "      <td>0</td>\n",
       "      <td>0</td>\n",
       "      <td>0</td>\n",
       "      <td>0</td>\n",
       "      <td>0</td>\n",
       "      <td>0</td>\n",
       "      <td>0</td>\n",
       "      <td>193876</td>\n",
       "      <td>The Great Glinka</td>\n",
       "      <td>1946</td>\n",
       "    </tr>\n",
       "    <tr>\n",
       "      <th>58094</th>\n",
       "      <td>0</td>\n",
       "      <td>0</td>\n",
       "      <td>0</td>\n",
       "      <td>0</td>\n",
       "      <td>1</td>\n",
       "      <td>0</td>\n",
       "      <td>0</td>\n",
       "      <td>0</td>\n",
       "      <td>0</td>\n",
       "      <td>0</td>\n",
       "      <td>...</td>\n",
       "      <td>0</td>\n",
       "      <td>0</td>\n",
       "      <td>0</td>\n",
       "      <td>0</td>\n",
       "      <td>0</td>\n",
       "      <td>0</td>\n",
       "      <td>0</td>\n",
       "      <td>193878</td>\n",
       "      <td>Les tribulations d'une caissière</td>\n",
       "      <td>2011</td>\n",
       "    </tr>\n",
       "    <tr>\n",
       "      <th>58095</th>\n",
       "      <td>0</td>\n",
       "      <td>0</td>\n",
       "      <td>0</td>\n",
       "      <td>0</td>\n",
       "      <td>0</td>\n",
       "      <td>0</td>\n",
       "      <td>0</td>\n",
       "      <td>1</td>\n",
       "      <td>0</td>\n",
       "      <td>0</td>\n",
       "      <td>...</td>\n",
       "      <td>0</td>\n",
       "      <td>0</td>\n",
       "      <td>0</td>\n",
       "      <td>0</td>\n",
       "      <td>0</td>\n",
       "      <td>0</td>\n",
       "      <td>0</td>\n",
       "      <td>193880</td>\n",
       "      <td>Her Name Was Mumu</td>\n",
       "      <td>2016</td>\n",
       "    </tr>\n",
       "    <tr>\n",
       "      <th>58096</th>\n",
       "      <td>0</td>\n",
       "      <td>1</td>\n",
       "      <td>0</td>\n",
       "      <td>0</td>\n",
       "      <td>0</td>\n",
       "      <td>0</td>\n",
       "      <td>0</td>\n",
       "      <td>1</td>\n",
       "      <td>0</td>\n",
       "      <td>0</td>\n",
       "      <td>...</td>\n",
       "      <td>0</td>\n",
       "      <td>0</td>\n",
       "      <td>0</td>\n",
       "      <td>1</td>\n",
       "      <td>0</td>\n",
       "      <td>0</td>\n",
       "      <td>0</td>\n",
       "      <td>193882</td>\n",
       "      <td>Flora</td>\n",
       "      <td>2017</td>\n",
       "    </tr>\n",
       "    <tr>\n",
       "      <th>58097</th>\n",
       "      <td>1</td>\n",
       "      <td>0</td>\n",
       "      <td>0</td>\n",
       "      <td>0</td>\n",
       "      <td>0</td>\n",
       "      <td>1</td>\n",
       "      <td>0</td>\n",
       "      <td>1</td>\n",
       "      <td>0</td>\n",
       "      <td>0</td>\n",
       "      <td>...</td>\n",
       "      <td>0</td>\n",
       "      <td>0</td>\n",
       "      <td>0</td>\n",
       "      <td>0</td>\n",
       "      <td>0</td>\n",
       "      <td>0</td>\n",
       "      <td>0</td>\n",
       "      <td>193886</td>\n",
       "      <td>Leal</td>\n",
       "      <td>2018</td>\n",
       "    </tr>\n",
       "  </tbody>\n",
       "</table>\n",
       "<p>5 rows × 21 columns</p>\n",
       "</div>"
      ],
      "text/plain": [
       "       Action  Adventure  Animation  Children  Comedy  Crime  Documentary  \\\n",
       "58093       0          0          0         0       0      0            0   \n",
       "58094       0          0          0         0       1      0            0   \n",
       "58095       0          0          0         0       0      0            0   \n",
       "58096       0          1          0         0       0      0            0   \n",
       "58097       1          0          0         0       0      1            0   \n",
       "\n",
       "       Drama  Fantasy  Film-Noir  ...  Musical  Mystery  Romance  Sci-Fi  \\\n",
       "58093      0        0          0  ...        0        0        0       0   \n",
       "58094      0        0          0  ...        0        0        0       0   \n",
       "58095      1        0          0  ...        0        0        0       0   \n",
       "58096      1        0          0  ...        0        0        0       1   \n",
       "58097      1        0          0  ...        0        0        0       0   \n",
       "\n",
       "       Thriller  War  Western  movieId                             title  year  \n",
       "58093         0    0        0   193876                  The Great Glinka  1946  \n",
       "58094         0    0        0   193878  Les tribulations d'une caissière  2011  \n",
       "58095         0    0        0   193880                 Her Name Was Mumu  2016  \n",
       "58096         0    0        0   193882                             Flora  2017  \n",
       "58097         0    0        0   193886                              Leal  2018  \n",
       "\n",
       "[5 rows x 21 columns]"
      ]
     },
     "execution_count": 11,
     "metadata": {},
     "output_type": "execute_result"
    }
   ],
   "source": [
    "df.tail()"
   ]
  },
  {
   "attachments": {},
   "cell_type": "markdown",
   "metadata": {},
   "source": [
    "I really want to add the average rating as a column as well. To do that, we have to run a shit ton of mean calculations for every movieId in the user rating dataset. So perhaps we should clean the ratings a bit first."
   ]
  },
  {
   "attachments": {},
   "cell_type": "markdown",
   "metadata": {},
   "source": [
    "## Some ideas to get a better mean rating and make the data more manageable\n",
    "\n",
    "- Remove users who rated >6000 movies\n",
    "\n",
    "- Remove users who rated <50 movies\n",
    "\n",
    "- Remove users who only gave 0.5 star ratings\n",
    "\n",
    "- Remove users who only gave 5 star ratings\n",
    "\n",
    "- Set upper bound for amount of ratings (how to do this fair?)"
   ]
  },
  {
   "attachments": {},
   "cell_type": "markdown",
   "metadata": {},
   "source": [
    "### Remove all users who only submitted lowest possible reviews"
   ]
  },
  {
   "cell_type": "code",
   "execution_count": 12,
   "metadata": {},
   "outputs": [
    {
     "name": "stdout",
     "output_type": "stream",
     "text": [
      "Found 259 users who only submitted 0.5 star reviews\n"
     ]
    }
   ],
   "source": [
    "mask = df_ratings.groupby('userId')['rating'].unique().apply(lambda x: len(x)==1 and x[0]==0.5)\n",
    "print(f\"Found {len(mask[mask].index)} users who only submitted 0.5 star reviews\")"
   ]
  },
  {
   "attachments": {},
   "cell_type": "markdown",
   "metadata": {},
   "source": [
    "Great, now lets remove all ratings made by these 259 users, it should be 1182 rows based on previous EDA. TODO: add link"
   ]
  },
  {
   "cell_type": "code",
   "execution_count": 13,
   "metadata": {},
   "outputs": [],
   "source": [
    "users_to_remove = mask[mask].index.tolist()\n",
    "filtered_df = df_ratings[~df_ratings['userId'].isin(users_to_remove)]"
   ]
  },
  {
   "attachments": {},
   "cell_type": "markdown",
   "metadata": {},
   "source": [
    "### Remove all users who submitted < n reviews"
   ]
  },
  {
   "cell_type": "code",
   "execution_count": 14,
   "metadata": {},
   "outputs": [
    {
     "name": "stdout",
     "output_type": "stream",
     "text": [
      "Found 173556 users who submitted less than 50 ratings.\n"
     ]
    }
   ],
   "source": [
    "n = 50\n",
    "users_with_few_ratings = df_ratings['userId'].value_counts()[lambda x: x < n].index.tolist()\n",
    "print(f\"Found {len(users_with_few_ratings)} users who submitted less than {n} ratings.\")"
   ]
  },
  {
   "attachments": {},
   "cell_type": "markdown",
   "metadata": {},
   "source": [
    "Here I'm not sure where to set n. We'll have to experiment."
   ]
  },
  {
   "cell_type": "code",
   "execution_count": 15,
   "metadata": {},
   "outputs": [],
   "source": [
    "filtered_df = filtered_df[~filtered_df['userId'].isin(users_with_few_ratings)]"
   ]
  },
  {
   "cell_type": "code",
   "execution_count": 16,
   "metadata": {},
   "outputs": [
    {
     "data": {
      "text/plain": [
       "-11.726631116484137"
      ]
     },
     "execution_count": 16,
     "metadata": {},
     "output_type": "execute_result"
    }
   ],
   "source": [
    "def get_percentage(old, new):\n",
    "    return (new - old) / old * 100\n",
    "\n",
    "get_percentage(len(df_ratings), len(filtered_df))"
   ]
  },
  {
   "attachments": {},
   "cell_type": "markdown",
   "metadata": {},
   "source": [
    "So far we have only reduced the dataset by 12% Let's continue."
   ]
  },
  {
   "attachments": {},
   "cell_type": "markdown",
   "metadata": {},
   "source": [
    "### Remove all users who submitted > n reviews"
   ]
  },
  {
   "cell_type": "code",
   "execution_count": 17,
   "metadata": {},
   "outputs": [
    {
     "name": "stdout",
     "output_type": "stream",
     "text": [
      "Running with n=200\n",
      "35004 users found with > 200 ratings made:\n",
      "16951891 rows to be removed if n=200\n",
      "Running with n=500\n",
      "10221 users found with > 500 ratings made:\n",
      "9334236 rows to be removed if n=500\n",
      "Running with n=1000\n",
      "2774 users found with > 1000 ratings made:\n",
      "4287475 rows to be removed if n=1000\n",
      "Running with n=1500\n",
      "920 users found with > 1500 ratings made:\n",
      "2068386 rows to be removed if n=1500\n",
      "Running with n=3000\n",
      "120 users found with > 3000 ratings made:\n",
      "500792 rows to be removed if n=3000\n",
      "Running with n=6000\n",
      "8 users found with > 6000 ratings made:\n",
      "76163 rows to be removed if n=6000\n"
     ]
    }
   ],
   "source": [
    "def count_users(df_ratings, n, verbose=True):\n",
    "    users_found = df_ratings.groupby('userId')['rating'].count()\n",
    "    users_found = users_found[users_found > n]\n",
    "    if verbose:\n",
    "        print(f'{len(users_found)} users found with > {n} ratings made:')\n",
    "    \n",
    "    top_dedicated = [] # we'll use this later\n",
    "    ratings_by_top = []\n",
    "    \n",
    "    for user_id, num_ratings in users_found.items():\n",
    "        #print(f'User {user_id}: {num_ratings} ratings')\n",
    "        top_dedicated.append(user_id)\n",
    "        ratings_by_top.append(num_ratings)\n",
    "    \n",
    "    if verbose:\n",
    "        print(f'{sum(ratings_by_top)} rows to be removed if {n=}')\n",
    " \n",
    "n_values = [200, 500, 1000, 1500, 3000, 6000]\n",
    "results = []\n",
    "\n",
    "for n in n_values:\n",
    "    print(f\"Running with n={n}\")\n",
    "    count_users(df_ratings, n)\n",
    "    users_found = df_ratings.groupby('userId')['rating'].count()\n",
    "    users_found = users_found[users_found > n]\n",
    "    result = {'n': n, 'num_users': len(users_found), 'num_rows': sum(users_found)}\n",
    "    results.append(result)\n"
   ]
  },
  {
   "attachments": {},
   "cell_type": "markdown",
   "metadata": {},
   "source": [
    "Ok, nice, the function works, let's run it with more values and plot the results."
   ]
  },
  {
   "cell_type": "code",
   "execution_count": 18,
   "metadata": {},
   "outputs": [
    {
     "data": {
      "image/png": "[encoded data removed]",
      "text/plain": [
       "<Figure size 640x480 with 1 Axes>"
      ]
     },
     "metadata": {},
     "output_type": "display_data"
    }
   ],
   "source": [
    "n_values = np.arange(10, 6010, 50).tolist()\n",
    "results = []\n",
    "\n",
    "for n in n_values:\n",
    "    count_users(df_ratings, n, verbose=False)\n",
    "    users_found = df_ratings.groupby('userId')['rating'].count()\n",
    "    users_found = users_found[users_found > n]\n",
    "    result = {'n': n, 'num_users': len(users_found), 'num_rows': sum(users_found)}\n",
    "    results.append(result)\n",
    "\n",
    "num_users = [r['num_users'] for r in results]\n",
    "num_rows = [r['num_rows'] for r in results]\n",
    "\n",
    "fig, ax = plt.subplots()\n",
    "ax.plot(n_values, num_rows, label='Number of rows')\n",
    "ax.set_xlabel('Minimum number of ratings')\n",
    "ax.set_ylabel('Count')\n",
    "ax.legend()\n",
    "plt.show()\n"
   ]
  },
  {
   "attachments": {},
   "cell_type": "markdown",
   "metadata": {},
   "source": [
    "(1e7 = 10,000,000)\n",
    "\n",
    "Now it's a bit easier to make a decision on where to cut the high end of users. I will make the cut at n=510, reducing the dataset by 9 153 392 rows\n",
    "\n",
    "#### **This means that users who rated >510 movies will not be factored in!! Is this a good thing? Is this a bad thing? Depends.**\n",
    "\n",
    "For speed its good, for accuracy, maybe as well? We will have to keep experimenting."
   ]
  },
  {
   "cell_type": "code",
   "execution_count": 19,
   "metadata": {},
   "outputs": [],
   "source": [
    "mask = df_ratings['userId'].value_counts() > 510\n",
    "users_to_remove = mask[mask].index.tolist()\n",
    "\n",
    "# filter out the corresponding rows from the original dataframe\n",
    "filtered_df = filtered_df[~filtered_df['userId'].isin(users_to_remove)]"
   ]
  },
  {
   "cell_type": "code",
   "execution_count": 20,
   "metadata": {},
   "outputs": [
    {
     "data": {
      "text/plain": [
       "-44.70773429056228"
      ]
     },
     "execution_count": 20,
     "metadata": {},
     "output_type": "execute_result"
    }
   ],
   "source": [
    "get_percentage(len(df_ratings),len(filtered_df))"
   ]
  },
  {
   "attachments": {},
   "cell_type": "markdown",
   "metadata": {},
   "source": [
    "Almost 50% reduced! That should be good enough! But lets check which movies are left with very few ratings."
   ]
  },
  {
   "attachments": {},
   "cell_type": "markdown",
   "metadata": {},
   "source": [
    "### Remove all movies with < n reviews"
   ]
  },
  {
   "cell_type": "code",
   "execution_count": 21,
   "metadata": {},
   "outputs": [
    {
     "name": "stdout",
     "output_type": "stream",
     "text": [
      "Found 22166 movies with less than 20 ratings.\n"
     ]
    }
   ],
   "source": [
    "n = 20\n",
    "\n",
    "movie_counts = filtered_df['movieId'].value_counts()\n",
    "movies_below_n_occurrences = movie_counts[movie_counts < n].index.tolist()\n",
    "#movie_titles = titles.set_index('movieId')['title'].loc[movies_below_n_occurrences]\n",
    "\n",
    "print(f\"Found {len(movies_below_n_occurrences)} movies with less than {n} ratings.\")\n",
    "#print(f\"Movies with less than {n} occurrences:\")\n",
    "#print(movie_titles[:10].to_string())"
   ]
  },
  {
   "attachments": {},
   "cell_type": "markdown",
   "metadata": {},
   "source": [
    "In the original unmodified ratings dataset, there are 35523 movies with < 20 ratings.\n",
    "\n",
    "35523 - 35444 = 79, so I guess that's ok. We will create a special bucket for all movies with < 20 ratings anyway."
   ]
  },
  {
   "cell_type": "code",
   "execution_count": 22,
   "metadata": {},
   "outputs": [],
   "source": [
    "filtered_df = filtered_df.drop(filtered_df[filtered_df['movieId'].isin(movies_below_n_occurrences)].index)"
   ]
  },
  {
   "attachments": {},
   "cell_type": "markdown",
   "metadata": {},
   "source": [
    "73496700 - 73016511 = 480 198 => an additional .5 mil rows dropped by removing the 3544 movies with < 20 ratings.\n",
    "\n",
    "But I'm getting a bit worried. How many movies have we dropped in total?"
   ]
  },
  {
   "cell_type": "code",
   "execution_count": 23,
   "metadata": {},
   "outputs": [
    {
     "data": {
      "text/plain": [
       "(11612, 53889)"
      ]
     },
     "execution_count": 23,
     "metadata": {},
     "output_type": "execute_result"
    }
   ],
   "source": [
    "len(filtered_df['movieId'].unique()), len(df_ratings['movieId'].unique())"
   ]
  },
  {
   "attachments": {},
   "cell_type": "markdown",
   "metadata": {},
   "source": [
    "Oh no..."
   ]
  },
  {
   "cell_type": "code",
   "execution_count": 60,
   "metadata": {},
   "outputs": [
    {
     "name": "stdout",
     "output_type": "stream",
     "text": [
      "Rows reduced by 45.03%\n",
      "Unique movies lost: 42277\n",
      "Movies lost by 78.45%\n"
     ]
    }
   ],
   "source": [
    "print(f'Rows reduced by {(abs(get_percentage(len(df_ratings),len(filtered_df)))):.2f}%')\n",
    "print(f\"Unique movies lost: {len(df_ratings['movieId'].unique()) - len(filtered_df['movieId'].unique())}\")\n",
    "print(f\"Movies lost by {abs(get_percentage(len(df_ratings['movieId'].unique()), len(filtered_df['movieId'].unique()))):.2f}%\")"
   ]
  },
  {
   "attachments": {},
   "cell_type": "markdown",
   "metadata": {},
   "source": [
    "## Oh no...\n",
    "\n",
    "Well. Let's not remove movies with <20 ratings, instead maybe remove movies with <10 ratings. That would add like 5k movies and not really change much in the rows reduced data weight."
   ]
  },
  {
   "cell_type": "code",
   "execution_count": 67,
   "metadata": {},
   "outputs": [
    {
     "name": "stdout",
     "output_type": "stream",
     "text": [
      "Rows reduced by 44.93%\n",
      "Unique movies lost: 37277\n",
      "Movies lost by 69.17%\n"
     ]
    }
   ],
   "source": [
    "# theoretically we would get something like\n",
    "\n",
    "print(f'Rows reduced by {(abs(get_percentage(len(df_ratings),len(filtered_df))))-0.1:.2f}%')\n",
    "print(f\"Unique movies lost: {len(df_ratings['movieId'].unique()) - len(filtered_df['movieId'].unique())-5000}\")\n",
    "print(f\"Movies lost by {abs(get_percentage(len(df_ratings['movieId'].unique()), len(filtered_df['movieId'].unique())+5000)):.2f}%\")"
   ]
  },
  {
   "attachments": {},
   "cell_type": "markdown",
   "metadata": {},
   "source": [
    "If my calculations are correct, we get a drastic decrease in lost movies (78.45% -> 69.17%) while only adding about 1% of total rows.\n",
    "\n",
    "That sounds like a no-brainer. But 10 ratings is the absolute lowest I'm willing to go for two reasons:\n",
    "\n",
    "1. On a scale of 1-10 (0.5 to 5.0), 10 ratings is barely enough for a fair mean. Ratings *will* be skewed for some movies.\n",
    "\n",
    "2. When segmenting users, movies with fewer users creates broader, harder to define user segments. While for the end-user, this might seem like a good thing, broader user groups also creates more nische and personal filter bubbles. So it's actually narrow for the user. But it's broad, or rather many, groups to compute, which is costly.\n",
    "\n",
    "So let's remember that, let's make it a H2\n",
    "\n",
    "## Remove all users who submitted > n reviews (try n = 10)"
   ]
  },
  {
   "attachments": {},
   "cell_type": "markdown",
   "metadata": {},
   "source": [
    "# What we should really do\n",
    "\n",
    "What we really need to do, is to attack the enormous amount of ratings the top rated movies have. I've stated this early on in some of my other ipynbs, I'm not just quite sure how to do it without first segmenting groups. For example:\n",
    "\n",
    "- 10,000 users rated Matrix, Bladerunner, The Terminator 4.5 or 5.0, they also gave The Notebook and Eternal Sunshine of the Spotless Mind ratings < 2.5:<br>\n",
    "This segment can be called Sci-Fi-Enjoyer, because they rated sci-fi movies high and non-sci-fi movies low.\n",
    "\n",
    "- 80,000 users rated Forrest Gump, Matrix, Pulp Fiction, The Terminator 4.5 or 5.0 but gave lesser known movies/movies with few ratings bad scores <2.5:<br>\n",
    "This segment can be called Blockbusters, because they rated very popular movies high and rarely gave high scores to lesser known movies.\n",
    "\n",
    "- 50,000 users rated Saving Private Ryan, Pearl Harbor, Dunkirk, and Black Hawk Down 4.5 or 5.0, but gave movies like The Notebook and 500 Days of Summer ratings < 2.5:<br>\n",
    "This segment can be called War-Movie-Fans, because they rated war movies high and non-war movies low.\n",
    "\n",
    "- 30,000 users rated Titanic, The Notebook, and A Walk to Remember 4.5 or 5.0, but gave action and sci-fi movies ratings < 2.5:<br>\n",
    "This segment can be called Romance-Lovers, because they rated romantic movies high and action/sci-fi movies low.\n",
    "\n",
    "- 20,000 users rated The Godfather, Scarface, and Goodfellas 4.5 or 5.0, but gave animated and family movies ratings < 2.5:<br>\n",
    "This segment can be called Crime-Drama-Fans, because they rated crime drama movies high and animated/family movies low.\n",
    "\n",
    ".. And so on.\n",
    "\n",
    "By segmenting users like this. We can *then* start removing rows based on **user category** rather than userId or movieId or ratings.\n",
    "\n",
    "But the thing is, to actually start running segmentations, we first need to cut the ratings dataset. Ugh. Its like that movie, Catch-22.\n",
    "\n",
    "\n",
    "Wait, I think I got it. What if. What if we segment the users while reading in the data?\n",
    "\n",
    "We read each userId, one rating a time, and within a set of rules decide which segment they should belong. Like, the sorting hat from Harry Potter.\n",
    "\n",
    "Then we keep pouring userId:s in until every segment has been filled, let's say with 1000 users, or whatever.\n",
    "\n",
    "Then we can keep mean rating in another dataframe.\n",
    "\n",
    "It might be stupid, but I mean it makes sense to me? I should try it."
   ]
  }
 ],
 "metadata": {
  "kernelspec": {
   "display_name": "ITHS-AI22-ML-sqO3erDD",
   "language": "python",
   "name": "python3"
  },
  "language_info": {
   "codemirror_mode": {
    "name": "ipython",
    "version": 3
   },
   "file_extension": ".py",
   "mimetype": "text/x-python",
   "name": "python",
   "nbconvert_exporter": "python",
   "pygments_lexer": "ipython3",
   "version": "3.9.16"
  },
  "orig_nbformat": 4
 },
 "nbformat": 4,
 "nbformat_minor": 2
}
